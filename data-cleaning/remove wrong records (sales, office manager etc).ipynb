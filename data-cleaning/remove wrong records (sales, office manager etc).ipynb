{
 "cells": [
  {
   "cell_type": "code",
   "execution_count": 54,
   "metadata": {
    "collapsed": true
   },
   "outputs": [],
   "source": [
    "import numpy as np\n",
    "import pandas as pd"
   ]
  },
  {
   "cell_type": "code",
   "execution_count": 55,
   "metadata": {},
   "outputs": [],
   "source": [
    "df = pd.read_csv('Machine-Learning-clustering-skills/merged_jobs.csv', index_col=0)"
   ]
  },
  {
   "cell_type": "code",
   "execution_count": 56,
   "metadata": {},
   "outputs": [
    {
     "data": {
      "text/html": [
       "<div>\n",
       "<style>\n",
       "    .dataframe thead tr:only-child th {\n",
       "        text-align: right;\n",
       "    }\n",
       "\n",
       "    .dataframe thead th {\n",
       "        text-align: left;\n",
       "    }\n",
       "\n",
       "    .dataframe tbody tr th {\n",
       "        vertical-align: top;\n",
       "    }\n",
       "</style>\n",
       "<table border=\"1\" class=\"dataframe\">\n",
       "  <thead>\n",
       "    <tr style=\"text-align: right;\">\n",
       "      <th></th>\n",
       "      <th>ID</th>\n",
       "      <th>company_name</th>\n",
       "      <th>date</th>\n",
       "      <th>description</th>\n",
       "      <th>jobtitle</th>\n",
       "      <th>source</th>\n",
       "    </tr>\n",
       "  </thead>\n",
       "  <tbody>\n",
       "    <tr>\n",
       "      <th>0</th>\n",
       "      <td>1</td>\n",
       "      <td>Fatmap</td>\n",
       "      <td>2017-10-02</td>\n",
       "      <td>Role &amp; Responsibility: \\n\\nYou’ll be building ...</td>\n",
       "      <td>Mobile Engineer for Outdoor Adventure Sports</td>\n",
       "      <td>Berlin Startup Jobs</td>\n",
       "    </tr>\n",
       "    <tr>\n",
       "      <th>1</th>\n",
       "      <td>2</td>\n",
       "      <td>AI Engine</td>\n",
       "      <td>2017-10-02</td>\n",
       "      <td>AI Engine is developing innovative machine lea...</td>\n",
       "      <td>Machine Learning</td>\n",
       "      <td>Berlin Startup Jobs</td>\n",
       "    </tr>\n",
       "    <tr>\n",
       "      <th>2</th>\n",
       "      <td>3</td>\n",
       "      <td>November</td>\n",
       "      <td>2017-10-02</td>\n",
       "      <td>Your mission:\\n\\nDevelopment of a scalable sof...</td>\n",
       "      <td>Senior Full Stack PHP Developer (f/m)</td>\n",
       "      <td>Berlin Startup Jobs</td>\n",
       "    </tr>\n",
       "    <tr>\n",
       "      <th>3</th>\n",
       "      <td>4</td>\n",
       "      <td>Wayfair</td>\n",
       "      <td>2017-10-02</td>\n",
       "      <td>Your tasks:\\n\\nKeyword research and competitor...</td>\n",
       "      <td>Jr. Manager SEO UK (Onpage) (m/f)</td>\n",
       "      <td>Berlin Startup Jobs</td>\n",
       "    </tr>\n",
       "    <tr>\n",
       "      <th>4</th>\n",
       "      <td>5</td>\n",
       "      <td>CrossEngage</td>\n",
       "      <td>2017-10-02</td>\n",
       "      <td>About CrossEngage\\nCrossEngage is a cloud-base...</td>\n",
       "      <td>Data Scientist</td>\n",
       "      <td>Berlin Startup Jobs</td>\n",
       "    </tr>\n",
       "  </tbody>\n",
       "</table>\n",
       "</div>"
      ],
      "text/plain": [
       "   ID company_name        date  \\\n",
       "0   1       Fatmap  2017-10-02   \n",
       "1   2    AI Engine  2017-10-02   \n",
       "2   3     November  2017-10-02   \n",
       "3   4      Wayfair  2017-10-02   \n",
       "4   5  CrossEngage  2017-10-02   \n",
       "\n",
       "                                         description  \\\n",
       "0  Role & Responsibility: \\n\\nYou’ll be building ...   \n",
       "1  AI Engine is developing innovative machine lea...   \n",
       "2  Your mission:\\n\\nDevelopment of a scalable sof...   \n",
       "3  Your tasks:\\n\\nKeyword research and competitor...   \n",
       "4  About CrossEngage\\nCrossEngage is a cloud-base...   \n",
       "\n",
       "                                       jobtitle               source  \n",
       "0  Mobile Engineer for Outdoor Adventure Sports  Berlin Startup Jobs  \n",
       "1                              Machine Learning  Berlin Startup Jobs  \n",
       "2         Senior Full Stack PHP Developer (f/m)  Berlin Startup Jobs  \n",
       "3             Jr. Manager SEO UK (Onpage) (m/f)  Berlin Startup Jobs  \n",
       "4                                Data Scientist  Berlin Startup Jobs  "
      ]
     },
     "execution_count": 56,
     "metadata": {},
     "output_type": "execute_result"
    }
   ],
   "source": [
    "df.head()"
   ]
  },
  {
   "cell_type": "code",
   "execution_count": 57,
   "metadata": {},
   "outputs": [
    {
     "data": {
      "text/plain": [
       "842"
      ]
     },
     "execution_count": 57,
     "metadata": {},
     "output_type": "execute_result"
    }
   ],
   "source": [
    "len(df)"
   ]
  },
  {
   "cell_type": "markdown",
   "metadata": {},
   "source": [
    "### remove irrelevant job titles"
   ]
  },
  {
   "cell_type": "markdown",
   "metadata": {},
   "source": [
    "#### search for all wrong patterns and remove them"
   ]
  },
  {
   "cell_type": "code",
   "execution_count": 58,
   "metadata": {},
   "outputs": [],
   "source": [
    "searchfor =['Salesforce Experte', 'Office Manager', 'Junior Customer Solution', 'Content Management', 'Finance Accountant', 'IT Helpdesk', 'Configuration Manager', 'Distribution Partnerships', 'Digital Marketing Specialist', 'Digital Consultant', 'Quality Assurance Manager', 'Release Manager', 'Strategic Accounts', 'Business Development', 'Physician']\n",
    "df = df[~df['jobtitle'].str.contains('|'.join(searchfor))]"
   ]
  },
  {
   "cell_type": "markdown",
   "metadata": {},
   "source": [
    "#### check if it worked"
   ]
  },
  {
   "cell_type": "code",
   "execution_count": 59,
   "metadata": {},
   "outputs": [
    {
     "data": {
      "text/html": [
       "<div>\n",
       "<style>\n",
       "    .dataframe thead tr:only-child th {\n",
       "        text-align: right;\n",
       "    }\n",
       "\n",
       "    .dataframe thead th {\n",
       "        text-align: left;\n",
       "    }\n",
       "\n",
       "    .dataframe tbody tr th {\n",
       "        vertical-align: top;\n",
       "    }\n",
       "</style>\n",
       "<table border=\"1\" class=\"dataframe\">\n",
       "  <thead>\n",
       "    <tr style=\"text-align: right;\">\n",
       "      <th></th>\n",
       "      <th>ID</th>\n",
       "      <th>company_name</th>\n",
       "      <th>date</th>\n",
       "      <th>description</th>\n",
       "      <th>jobtitle</th>\n",
       "      <th>source</th>\n",
       "    </tr>\n",
       "  </thead>\n",
       "  <tbody>\n",
       "  </tbody>\n",
       "</table>\n",
       "</div>"
      ],
      "text/plain": [
       "Empty DataFrame\n",
       "Columns: [ID, company_name, date, description, jobtitle, source]\n",
       "Index: []"
      ]
     },
     "execution_count": 59,
     "metadata": {},
     "output_type": "execute_result"
    }
   ],
   "source": [
    "df[df['jobtitle'] == 'Salesforce Experte (m/w)']"
   ]
  },
  {
   "cell_type": "code",
   "execution_count": 60,
   "metadata": {},
   "outputs": [
    {
     "data": {
      "text/plain": [
       "826"
      ]
     },
     "execution_count": 60,
     "metadata": {},
     "output_type": "execute_result"
    }
   ],
   "source": [
    "len(df)"
   ]
  },
  {
   "cell_type": "code",
   "execution_count": 61,
   "metadata": {
    "collapsed": true
   },
   "outputs": [],
   "source": [
    "df.to_csv('merged_jobs.csv', sep=',')"
   ]
  },
  {
   "cell_type": "code",
   "execution_count": null,
   "metadata": {
    "collapsed": true
   },
   "outputs": [],
   "source": []
  }
 ],
 "metadata": {
  "kernelspec": {
   "display_name": "Python 3",
   "language": "python",
   "name": "python3"
  },
  "language_info": {
   "codemirror_mode": {
    "name": "ipython",
    "version": 3
   },
   "file_extension": ".py",
   "mimetype": "text/x-python",
   "name": "python",
   "nbconvert_exporter": "python",
   "pygments_lexer": "ipython3",
   "version": "3.6.1"
  }
 },
 "nbformat": 4,
 "nbformat_minor": 2
}
