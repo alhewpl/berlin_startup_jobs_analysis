{
 "cells": [
  {
   "cell_type": "code",
   "execution_count": 1,
   "metadata": {
    "collapsed": true
   },
   "outputs": [],
   "source": [
    "import numpy as np\n",
    "import pandas as pd\n",
    "import sqlite3\n",
    "import warnings\n",
    "warnings.filterwarnings('ignore')\n",
    "\n",
    "conn = sqlite3.connect('/Users/ograndberry/Desktop/berlin_startup_jobs_analysis/Database_Sqlite/db_berlin_jobs.db')\n",
    "c = conn.cursor()"
   ]
  },
  {
   "cell_type": "code",
   "execution_count": 2,
   "metadata": {
    "collapsed": true
   },
   "outputs": [],
   "source": [
    "skills_final = pd.read_csv('final_skills.csv').drop('field1', axis=1)"
   ]
  },
  {
   "cell_type": "code",
   "execution_count": 3,
   "metadata": {
    "collapsed": true
   },
   "outputs": [],
   "source": [
    "skills_final['type'] = skills_final['type'].str.lower()"
   ]
  },
  {
   "cell_type": "code",
   "execution_count": 4,
   "metadata": {
    "collapsed": true
   },
   "outputs": [],
   "source": [
    "skills_final.dropna(inplace=True)"
   ]
  },
  {
   "cell_type": "code",
   "execution_count": 5,
   "metadata": {
    "collapsed": true
   },
   "outputs": [],
   "source": [
    "#skills_final['type'].replace('ux/ui', 'frontend')"
   ]
  },
  {
   "cell_type": "code",
   "execution_count": 6,
   "metadata": {
    "collapsed": true
   },
   "outputs": [],
   "source": [
    "def fixedtype(data):\n",
    "    if data == 'scala':\n",
    "        return 'bigdata'\n",
    "    if data == 'machine learning':\n",
    "        return 'bigdata'\n",
    "    if data == 'jira':\n",
    "        return 'project management tools'\n",
    "    if data == 'grails':\n",
    "        return 'groovy'\n",
    "    if data == 'spark':\n",
    "        return 'bigdata'\n",
    "    if data == 'spring':\n",
    "        return 'cloud'\n",
    "    if data == 'objective-c':\n",
    "        return 'iOS'\n",
    "    if data == 'swift':\n",
    "        return 'iOS'\n",
    "    if data == 'hadoop':\n",
    "        return 'bigdata'\n",
    "    if data == 'google cloud platform':\n",
    "        return 'cloud'\n",
    "    if data == 'sass/less' :\n",
    "        return 'CSS'\n",
    "    if data == 'chef':\n",
    "        return 'it automation'\n",
    "    if data == 'apache frameworks':\n",
    "        return 'cloud tools'\n",
    "    if data == 'ux/ui':\n",
    "        return 'frontend'\n",
    "    if data == 'redux':\n",
    "        return 'javaScript tools'\n",
    "    if data == 'rabbitmq':\n",
    "        return 'messaging protocol'\n",
    "    if data == 'gulp':\n",
    "        return 'it automation'   \n",
    "    if data == 'scikit-learn / deep learning':\n",
    "        return 'bigdata'\n",
    "    if data == 'jquery':\n",
    "        return 'javascript' \n",
    "    if data == 'bigdata':\n",
    "        return 'bigdata'\n",
    "    if data == 'continuous deployment':\n",
    "        return 'continuous integration'\n",
    "    if data == 'git':\n",
    "        return 'repository management services'\n",
    "    else:\n",
    "        return data\n",
    "\n",
    "#change big clusters\n",
    "\n",
    "#'Big Data'#'Scala'\n",
    "#'Big Data'#'Machine Learning'\n",
    "#'Project Management Tools'#'Jira'\n",
    "#'Big Data' #spark\n",
    "#'Cloud'#'Spring'\n",
    "#'iOS'#'Objective-C'\n",
    "#'iOS'#'Swift'\n",
    "#'Big Data' #hadoop\n",
    "#'Sass/LESS' #sass\n",
    "#'IT Automation'#'Chef'\n",
    "#'Cloud Tools'#'Apache Frameworks'\n",
    "#'Big Data' #spark\n",
    "#'Frontend'#'UI/UX'\n",
    "#'JavaScript Tools'#'Redux'\n",
    "#'Messaging Protocol'#'RabbitMQ'\n",
    "#'IT Automation'#'Gulp'\n",
    "#'scikit-learn / deep learning'\n",
    "\n",
    "#'Spark' #apache-spark"
   ]
  },
  {
   "cell_type": "code",
   "execution_count": 7,
   "metadata": {
    "collapsed": true
   },
   "outputs": [],
   "source": [
    "#skills_final.loc[:, 'type'] = skills_final.apply(fixedtype, axis = 1)\n",
    "\n",
    "skills_final['type2'] = skills_final['type'].apply(fixedtype)"
   ]
  },
  {
   "cell_type": "code",
   "execution_count": 8,
   "metadata": {},
   "outputs": [
    {
     "data": {
      "text/html": [
       "<div>\n",
       "<style>\n",
       "    .dataframe thead tr:only-child th {\n",
       "        text-align: right;\n",
       "    }\n",
       "\n",
       "    .dataframe thead th {\n",
       "        text-align: left;\n",
       "    }\n",
       "\n",
       "    .dataframe tbody tr th {\n",
       "        vertical-align: top;\n",
       "    }\n",
       "</style>\n",
       "<table border=\"1\" class=\"dataframe\">\n",
       "  <thead>\n",
       "    <tr style=\"text-align: right;\">\n",
       "      <th></th>\n",
       "      <th>job_id</th>\n",
       "      <th>skill</th>\n",
       "      <th>type</th>\n",
       "      <th>type2</th>\n",
       "    </tr>\n",
       "  </thead>\n",
       "  <tbody>\n",
       "    <tr>\n",
       "      <th>3613</th>\n",
       "      <td>611</td>\n",
       "      <td>jquery</td>\n",
       "      <td>jquery</td>\n",
       "      <td>javascript</td>\n",
       "    </tr>\n",
       "    <tr>\n",
       "      <th>3614</th>\n",
       "      <td>617</td>\n",
       "      <td>jquery</td>\n",
       "      <td>jquery</td>\n",
       "      <td>javascript</td>\n",
       "    </tr>\n",
       "    <tr>\n",
       "      <th>3615</th>\n",
       "      <td>630</td>\n",
       "      <td>jquery</td>\n",
       "      <td>jquery</td>\n",
       "      <td>javascript</td>\n",
       "    </tr>\n",
       "    <tr>\n",
       "      <th>3616</th>\n",
       "      <td>650</td>\n",
       "      <td>jquery</td>\n",
       "      <td>jquery</td>\n",
       "      <td>javascript</td>\n",
       "    </tr>\n",
       "    <tr>\n",
       "      <th>3617</th>\n",
       "      <td>653</td>\n",
       "      <td>jquery</td>\n",
       "      <td>jquery</td>\n",
       "      <td>javascript</td>\n",
       "    </tr>\n",
       "    <tr>\n",
       "      <th>3618</th>\n",
       "      <td>684</td>\n",
       "      <td>jquery</td>\n",
       "      <td>jquery</td>\n",
       "      <td>javascript</td>\n",
       "    </tr>\n",
       "    <tr>\n",
       "      <th>3619</th>\n",
       "      <td>693</td>\n",
       "      <td>jquery</td>\n",
       "      <td>jquery</td>\n",
       "      <td>javascript</td>\n",
       "    </tr>\n",
       "    <tr>\n",
       "      <th>3620</th>\n",
       "      <td>699</td>\n",
       "      <td>jquery</td>\n",
       "      <td>jquery</td>\n",
       "      <td>javascript</td>\n",
       "    </tr>\n",
       "    <tr>\n",
       "      <th>3621</th>\n",
       "      <td>701</td>\n",
       "      <td>jquery</td>\n",
       "      <td>jquery</td>\n",
       "      <td>javascript</td>\n",
       "    </tr>\n",
       "    <tr>\n",
       "      <th>3622</th>\n",
       "      <td>17</td>\n",
       "      <td>JQuery</td>\n",
       "      <td>jquery</td>\n",
       "      <td>javascript</td>\n",
       "    </tr>\n",
       "    <tr>\n",
       "      <th>3623</th>\n",
       "      <td>59</td>\n",
       "      <td>jQuery</td>\n",
       "      <td>jquery</td>\n",
       "      <td>javascript</td>\n",
       "    </tr>\n",
       "    <tr>\n",
       "      <th>3624</th>\n",
       "      <td>95</td>\n",
       "      <td>jQuery</td>\n",
       "      <td>jquery</td>\n",
       "      <td>javascript</td>\n",
       "    </tr>\n",
       "    <tr>\n",
       "      <th>3625</th>\n",
       "      <td>155</td>\n",
       "      <td>JQuery</td>\n",
       "      <td>jquery</td>\n",
       "      <td>javascript</td>\n",
       "    </tr>\n",
       "    <tr>\n",
       "      <th>3626</th>\n",
       "      <td>159</td>\n",
       "      <td>jquery</td>\n",
       "      <td>jquery</td>\n",
       "      <td>javascript</td>\n",
       "    </tr>\n",
       "    <tr>\n",
       "      <th>3627</th>\n",
       "      <td>166</td>\n",
       "      <td>JQuery</td>\n",
       "      <td>jquery</td>\n",
       "      <td>javascript</td>\n",
       "    </tr>\n",
       "    <tr>\n",
       "      <th>3628</th>\n",
       "      <td>173</td>\n",
       "      <td>JQuery</td>\n",
       "      <td>jquery</td>\n",
       "      <td>javascript</td>\n",
       "    </tr>\n",
       "    <tr>\n",
       "      <th>3629</th>\n",
       "      <td>237</td>\n",
       "      <td>JQuery</td>\n",
       "      <td>jquery</td>\n",
       "      <td>javascript</td>\n",
       "    </tr>\n",
       "    <tr>\n",
       "      <th>3630</th>\n",
       "      <td>252</td>\n",
       "      <td>jQuery</td>\n",
       "      <td>jquery</td>\n",
       "      <td>javascript</td>\n",
       "    </tr>\n",
       "    <tr>\n",
       "      <th>3631</th>\n",
       "      <td>297</td>\n",
       "      <td>jQuery</td>\n",
       "      <td>jquery</td>\n",
       "      <td>javascript</td>\n",
       "    </tr>\n",
       "    <tr>\n",
       "      <th>3632</th>\n",
       "      <td>370</td>\n",
       "      <td>JQuery</td>\n",
       "      <td>jquery</td>\n",
       "      <td>javascript</td>\n",
       "    </tr>\n",
       "    <tr>\n",
       "      <th>3633</th>\n",
       "      <td>385</td>\n",
       "      <td>jQuery</td>\n",
       "      <td>jquery</td>\n",
       "      <td>javascript</td>\n",
       "    </tr>\n",
       "    <tr>\n",
       "      <th>3634</th>\n",
       "      <td>395</td>\n",
       "      <td>jQuery</td>\n",
       "      <td>jquery</td>\n",
       "      <td>javascript</td>\n",
       "    </tr>\n",
       "    <tr>\n",
       "      <th>3635</th>\n",
       "      <td>473</td>\n",
       "      <td>JQuery</td>\n",
       "      <td>jquery</td>\n",
       "      <td>javascript</td>\n",
       "    </tr>\n",
       "    <tr>\n",
       "      <th>3636</th>\n",
       "      <td>475</td>\n",
       "      <td>jQuery</td>\n",
       "      <td>jquery</td>\n",
       "      <td>javascript</td>\n",
       "    </tr>\n",
       "    <tr>\n",
       "      <th>3637</th>\n",
       "      <td>476</td>\n",
       "      <td>jQuery</td>\n",
       "      <td>jquery</td>\n",
       "      <td>javascript</td>\n",
       "    </tr>\n",
       "  </tbody>\n",
       "</table>\n",
       "</div>"
      ],
      "text/plain": [
       "      job_id   skill    type       type2\n",
       "3613     611  jquery  jquery  javascript\n",
       "3614     617  jquery  jquery  javascript\n",
       "3615     630  jquery  jquery  javascript\n",
       "3616     650  jquery  jquery  javascript\n",
       "3617     653  jquery  jquery  javascript\n",
       "3618     684  jquery  jquery  javascript\n",
       "3619     693  jquery  jquery  javascript\n",
       "3620     699  jquery  jquery  javascript\n",
       "3621     701  jquery  jquery  javascript\n",
       "3622      17  JQuery  jquery  javascript\n",
       "3623      59  jQuery  jquery  javascript\n",
       "3624      95  jQuery  jquery  javascript\n",
       "3625     155  JQuery  jquery  javascript\n",
       "3626     159  jquery  jquery  javascript\n",
       "3627     166  JQuery  jquery  javascript\n",
       "3628     173  JQuery  jquery  javascript\n",
       "3629     237  JQuery  jquery  javascript\n",
       "3630     252  jQuery  jquery  javascript\n",
       "3631     297  jQuery  jquery  javascript\n",
       "3632     370  JQuery  jquery  javascript\n",
       "3633     385  jQuery  jquery  javascript\n",
       "3634     395  jQuery  jquery  javascript\n",
       "3635     473  JQuery  jquery  javascript\n",
       "3636     475  jQuery  jquery  javascript\n",
       "3637     476  jQuery  jquery  javascript"
      ]
     },
     "execution_count": 8,
     "metadata": {},
     "output_type": "execute_result"
    }
   ],
   "source": [
    "skills_final[skills_final['type']=='jquery']"
   ]
  },
  {
   "cell_type": "markdown",
   "metadata": {},
   "source": [
    "# Manual clustering"
   ]
  },
  {
   "cell_type": "code",
   "execution_count": 9,
   "metadata": {},
   "outputs": [
    {
     "data": {
      "text/html": [
       "<div>\n",
       "<style>\n",
       "    .dataframe thead tr:only-child th {\n",
       "        text-align: right;\n",
       "    }\n",
       "\n",
       "    .dataframe thead th {\n",
       "        text-align: left;\n",
       "    }\n",
       "\n",
       "    .dataframe tbody tr th {\n",
       "        vertical-align: top;\n",
       "    }\n",
       "</style>\n",
       "<table border=\"1\" class=\"dataframe\">\n",
       "  <thead>\n",
       "    <tr style=\"text-align: right;\">\n",
       "      <th></th>\n",
       "      <th>job_id</th>\n",
       "      <th>skill</th>\n",
       "      <th>type</th>\n",
       "      <th>type2</th>\n",
       "    </tr>\n",
       "  </thead>\n",
       "  <tbody>\n",
       "    <tr>\n",
       "      <th>2</th>\n",
       "      <td>556</td>\n",
       "      <td>ceph</td>\n",
       "      <td>mixed</td>\n",
       "      <td>mixed</td>\n",
       "    </tr>\n",
       "    <tr>\n",
       "      <th>4</th>\n",
       "      <td>563</td>\n",
       "      <td>engineer</td>\n",
       "      <td>mixed</td>\n",
       "      <td>mixed</td>\n",
       "    </tr>\n",
       "    <tr>\n",
       "      <th>7</th>\n",
       "      <td>567</td>\n",
       "      <td>opennebula</td>\n",
       "      <td>mixed</td>\n",
       "      <td>mixed</td>\n",
       "    </tr>\n",
       "    <tr>\n",
       "      <th>11</th>\n",
       "      <td>572</td>\n",
       "      <td>zeromq</td>\n",
       "      <td>mixed</td>\n",
       "      <td>mixed</td>\n",
       "    </tr>\n",
       "    <tr>\n",
       "      <th>14</th>\n",
       "      <td>574</td>\n",
       "      <td>dijkstra</td>\n",
       "      <td>mixed</td>\n",
       "      <td>mixed</td>\n",
       "    </tr>\n",
       "  </tbody>\n",
       "</table>\n",
       "</div>"
      ],
      "text/plain": [
       "    job_id       skill   type  type2\n",
       "2      556        ceph  mixed  mixed\n",
       "4      563    engineer  mixed  mixed\n",
       "7      567  opennebula  mixed  mixed\n",
       "11     572      zeromq  mixed  mixed\n",
       "14     574    dijkstra  mixed  mixed"
      ]
     },
     "execution_count": 9,
     "metadata": {},
     "output_type": "execute_result"
    }
   ],
   "source": [
    "#grab the rows from the skills_final table tagged as 'mixed'\n",
    "skills_mixed = skills_final[skills_final['type'] == 'mixed']\n",
    "skills_mixed.dropna(inplace=True)\n",
    "skills_mixed.head()"
   ]
  },
  {
   "cell_type": "code",
   "execution_count": 10,
   "metadata": {
    "collapsed": true
   },
   "outputs": [],
   "source": [
    "skills_mixed['skill'] = skills_mixed['skill'].str.lower()\n",
    "skills_mixed.drop('type', axis=1,inplace=True)\n",
    "skills_mixed.columns = ['job_id','skill','type']"
   ]
  },
  {
   "cell_type": "code",
   "execution_count": 11,
   "metadata": {},
   "outputs": [
    {
     "data": {
      "text/html": [
       "<div>\n",
       "<style>\n",
       "    .dataframe thead tr:only-child th {\n",
       "        text-align: right;\n",
       "    }\n",
       "\n",
       "    .dataframe thead th {\n",
       "        text-align: left;\n",
       "    }\n",
       "\n",
       "    .dataframe tbody tr th {\n",
       "        vertical-align: top;\n",
       "    }\n",
       "</style>\n",
       "<table border=\"1\" class=\"dataframe\">\n",
       "  <thead>\n",
       "    <tr style=\"text-align: right;\">\n",
       "      <th></th>\n",
       "      <th>job_id</th>\n",
       "      <th>skill</th>\n",
       "      <th>type</th>\n",
       "    </tr>\n",
       "  </thead>\n",
       "  <tbody>\n",
       "    <tr>\n",
       "      <th>2</th>\n",
       "      <td>556</td>\n",
       "      <td>ceph</td>\n",
       "      <td>mixed</td>\n",
       "    </tr>\n",
       "    <tr>\n",
       "      <th>4</th>\n",
       "      <td>563</td>\n",
       "      <td>engineer</td>\n",
       "      <td>mixed</td>\n",
       "    </tr>\n",
       "    <tr>\n",
       "      <th>7</th>\n",
       "      <td>567</td>\n",
       "      <td>opennebula</td>\n",
       "      <td>mixed</td>\n",
       "    </tr>\n",
       "    <tr>\n",
       "      <th>11</th>\n",
       "      <td>572</td>\n",
       "      <td>zeromq</td>\n",
       "      <td>mixed</td>\n",
       "    </tr>\n",
       "    <tr>\n",
       "      <th>14</th>\n",
       "      <td>574</td>\n",
       "      <td>dijkstra</td>\n",
       "      <td>mixed</td>\n",
       "    </tr>\n",
       "  </tbody>\n",
       "</table>\n",
       "</div>"
      ],
      "text/plain": [
       "    job_id       skill   type\n",
       "2      556        ceph  mixed\n",
       "4      563    engineer  mixed\n",
       "7      567  opennebula  mixed\n",
       "11     572      zeromq  mixed\n",
       "14     574    dijkstra  mixed"
      ]
     },
     "execution_count": 11,
     "metadata": {},
     "output_type": "execute_result"
    }
   ],
   "source": [
    "skills_mixed.head()"
   ]
  },
  {
   "cell_type": "code",
   "execution_count": 12,
   "metadata": {
    "collapsed": true
   },
   "outputs": [],
   "source": [
    "#import the skills3.csv holding the manual clusters made using a spreadsheet\n",
    "skills_rawdata = pd.read_csv('DB/skills_t.csv')[['type','skill']]\n",
    "skills_rawdata.columns = ['group','skill']\n",
    "skills_rawdata.dropna(inplace=True)"
   ]
  },
  {
   "cell_type": "code",
   "execution_count": 13,
   "metadata": {
    "collapsed": true
   },
   "outputs": [],
   "source": [
    "skills_mixedi = pd.merge(skills_mixed, skills_rawdata , how='left', on='skill')\n",
    "skills_mixedi.drop(['type'],axis=1, inplace= True)"
   ]
  },
  {
   "cell_type": "code",
   "execution_count": 14,
   "metadata": {},
   "outputs": [
    {
     "data": {
      "text/html": [
       "<div>\n",
       "<style>\n",
       "    .dataframe thead tr:only-child th {\n",
       "        text-align: right;\n",
       "    }\n",
       "\n",
       "    .dataframe thead th {\n",
       "        text-align: left;\n",
       "    }\n",
       "\n",
       "    .dataframe tbody tr th {\n",
       "        vertical-align: top;\n",
       "    }\n",
       "</style>\n",
       "<table border=\"1\" class=\"dataframe\">\n",
       "  <thead>\n",
       "    <tr style=\"text-align: right;\">\n",
       "      <th></th>\n",
       "      <th>job_id</th>\n",
       "      <th>skill</th>\n",
       "      <th>type</th>\n",
       "    </tr>\n",
       "  </thead>\n",
       "  <tbody>\n",
       "    <tr>\n",
       "      <th>0</th>\n",
       "      <td>556</td>\n",
       "      <td>ceph</td>\n",
       "      <td>bigdata</td>\n",
       "    </tr>\n",
       "    <tr>\n",
       "      <th>1</th>\n",
       "      <td>563</td>\n",
       "      <td>engineer</td>\n",
       "      <td>mixed</td>\n",
       "    </tr>\n",
       "    <tr>\n",
       "      <th>2</th>\n",
       "      <td>567</td>\n",
       "      <td>opennebula</td>\n",
       "      <td>cloud</td>\n",
       "    </tr>\n",
       "    <tr>\n",
       "      <th>3</th>\n",
       "      <td>572</td>\n",
       "      <td>zeromq</td>\n",
       "      <td>zeromq</td>\n",
       "    </tr>\n",
       "    <tr>\n",
       "      <th>4</th>\n",
       "      <td>574</td>\n",
       "      <td>dijkstra</td>\n",
       "      <td>bigdata</td>\n",
       "    </tr>\n",
       "  </tbody>\n",
       "</table>\n",
       "</div>"
      ],
      "text/plain": [
       "   job_id       skill     type\n",
       "0     556        ceph  bigdata\n",
       "1     563    engineer    mixed\n",
       "2     567  opennebula    cloud\n",
       "3     572      zeromq   zeromq\n",
       "4     574    dijkstra  bigdata"
      ]
     },
     "execution_count": 14,
     "metadata": {},
     "output_type": "execute_result"
    }
   ],
   "source": [
    "skills_mixedi.columns = ['job_id','skill','type']\n",
    "skills_mixedi.head()"
   ]
  },
  {
   "cell_type": "code",
   "execution_count": 15,
   "metadata": {
    "collapsed": true
   },
   "outputs": [],
   "source": [
    "skills_final.head()\n",
    "skills_final.drop(['type'],axis=1, inplace= True)\n",
    "skills_final.columns = ['job_id','skill','type']\n"
   ]
  },
  {
   "cell_type": "code",
   "execution_count": 16,
   "metadata": {},
   "outputs": [
    {
     "data": {
      "text/html": [
       "<div>\n",
       "<style>\n",
       "    .dataframe thead tr:only-child th {\n",
       "        text-align: right;\n",
       "    }\n",
       "\n",
       "    .dataframe thead th {\n",
       "        text-align: left;\n",
       "    }\n",
       "\n",
       "    .dataframe tbody tr th {\n",
       "        vertical-align: top;\n",
       "    }\n",
       "</style>\n",
       "<table border=\"1\" class=\"dataframe\">\n",
       "  <thead>\n",
       "    <tr style=\"text-align: right;\">\n",
       "      <th></th>\n",
       "      <th>job_id</th>\n",
       "      <th>skill</th>\n",
       "      <th>type</th>\n",
       "    </tr>\n",
       "  </thead>\n",
       "  <tbody>\n",
       "    <tr>\n",
       "      <th>0</th>\n",
       "      <td>553</td>\n",
       "      <td>r</td>\n",
       "      <td>r</td>\n",
       "    </tr>\n",
       "    <tr>\n",
       "      <th>1</th>\n",
       "      <td>554</td>\n",
       "      <td>r</td>\n",
       "      <td>r</td>\n",
       "    </tr>\n",
       "    <tr>\n",
       "      <th>2</th>\n",
       "      <td>556</td>\n",
       "      <td>ceph</td>\n",
       "      <td>mixed</td>\n",
       "    </tr>\n",
       "    <tr>\n",
       "      <th>3</th>\n",
       "      <td>557</td>\n",
       "      <td>qa</td>\n",
       "      <td>qa</td>\n",
       "    </tr>\n",
       "    <tr>\n",
       "      <th>4</th>\n",
       "      <td>563</td>\n",
       "      <td>engineer</td>\n",
       "      <td>mixed</td>\n",
       "    </tr>\n",
       "  </tbody>\n",
       "</table>\n",
       "</div>"
      ],
      "text/plain": [
       "   job_id     skill   type\n",
       "0     553         r      r\n",
       "1     554         r      r\n",
       "2     556      ceph  mixed\n",
       "3     557        qa     qa\n",
       "4     563  engineer  mixed"
      ]
     },
     "execution_count": 16,
     "metadata": {},
     "output_type": "execute_result"
    }
   ],
   "source": [
    "skills_final.head()"
   ]
  },
  {
   "cell_type": "code",
   "execution_count": 17,
   "metadata": {
    "collapsed": true
   },
   "outputs": [],
   "source": [
    "#creation of a new dataframe excluding the \"mixed' types and replacing them with the 'skills_mixed' df.\n",
    "skills_final2 = skills_final[skills_final['type'] != 'mixed']\n",
    "final_skills_table = pd.concat([skills_final2, skills_mixedi])\n"
   ]
  },
  {
   "cell_type": "code",
   "execution_count": 18,
   "metadata": {},
   "outputs": [
    {
     "data": {
      "text/plain": [
       "396"
      ]
     },
     "execution_count": 18,
     "metadata": {},
     "output_type": "execute_result"
    }
   ],
   "source": [
    "#what's left as mixed\n",
    "len(final_skills_table[final_skills_table['type'] == 'mixed'])"
   ]
  },
  {
   "cell_type": "code",
   "execution_count": 19,
   "metadata": {},
   "outputs": [
    {
     "data": {
      "text/plain": [
       "array(['r', 'qa', 'backend', 'bigdata', 'continuous integration', 'c/c++',\n",
       "       'aws', 'c#', '.net', 'microservices', 'frontend',\n",
       "       'open source olap', 'python-based', 'data viz tools', 'cloud tools',\n",
       "       'algorithm', 'terraform', 'javascript tools', 'continuous delivery',\n",
       "       'wordpress', 'testing', 'hibernate', 'sql',\n",
       "       'repository management services', 'cloud', 'php frameworks',\n",
       "       'node.js', 'kotlin', 'jvm', 'ruby', 'groovy', 'angular.js',\n",
       "       'erlang', 'atlassian', 'ios', 'nosql', 'memcached', 'js compiler',\n",
       "       'scala frameworks', 'yarn', 'elastic stack', 'perl', 'php',\n",
       "       'bdd/tdd', 'restful apis', 'sysadmin', 'e-commerce platform', 'css',\n",
       "       'messaging protocol', 'iOS', 'react.js', 'http', 'python', 'django',\n",
       "       'agile', 'unix/linux', 'containerization platforms', 'java',\n",
       "       'javascript', 'devops', 'bash', 'go', 'html', 'azure', 'CSS',\n",
       "       'redis', 'api(s)', 'google packages', 'it automation', 'mvc',\n",
       "       'shell', 'design', 'javaScript tools', 'bootstrap', 'typescript',\n",
       "       'android', 'xml', 'json', 'project management tools', 'nginx',\n",
       "       'bower', 'tcp/ip', 'npm', 's3', 'grunt', 'rspec', 'ci/cd', 'mixed',\n",
       "       'zeromq', 'software architectural pattern',\n",
       "       'query language for apis', 'programming paradigm', 'design related',\n",
       "       'mobile', 'virtualization technology', 'load balancers',\n",
       "       'blockchain', 'microsoft tools', 'virtual reality',\n",
       "       'java frameworks', 'haskell', 'clojure', 'ajax', 'elm', 'erp',\n",
       "       'powershell'], dtype=object)"
      ]
     },
     "execution_count": 19,
     "metadata": {},
     "output_type": "execute_result"
    }
   ],
   "source": [
    "final_skills_table['type'].unique()"
   ]
  },
  {
   "cell_type": "code",
   "execution_count": 22,
   "metadata": {},
   "outputs": [],
   "source": [
    "final_skills_table = final_skills_table.set_index('job_id')"
   ]
  },
  {
   "cell_type": "code",
   "execution_count": 23,
   "metadata": {
    "collapsed": true
   },
   "outputs": [],
   "source": [
    "final_skills_table.to_sql('Skills', conn, if_exists='replace')"
   ]
  },
  {
   "cell_type": "code",
   "execution_count": null,
   "metadata": {
    "collapsed": true
   },
   "outputs": [],
   "source": []
  }
 ],
 "metadata": {
  "kernelspec": {
   "display_name": "Python 3",
   "language": "python",
   "name": "python3"
  },
  "language_info": {
   "codemirror_mode": {
    "name": "ipython",
    "version": 3
   },
   "file_extension": ".py",
   "mimetype": "text/x-python",
   "name": "python",
   "nbconvert_exporter": "python",
   "pygments_lexer": "ipython3",
   "version": "3.6.2"
  }
 },
 "nbformat": 4,
 "nbformat_minor": 2
}
