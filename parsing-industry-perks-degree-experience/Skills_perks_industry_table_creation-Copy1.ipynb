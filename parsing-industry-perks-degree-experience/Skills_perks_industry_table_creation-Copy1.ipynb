{
 "cells": [
  {
   "cell_type": "markdown",
   "metadata": {},
   "source": [
    "# NLTK application"
   ]
  },
  {
   "cell_type": "markdown",
   "metadata": {},
   "source": [
    "**1. Imports and databse connection**"
   ]
  },
  {
   "cell_type": "code",
   "execution_count": 1,
   "metadata": {
    "collapsed": true
   },
   "outputs": [],
   "source": [
    "import nltk\n",
    "import sqlite3\n",
    "import pandas as pd\n",
    "\n",
    "import warnings\n",
    "warnings.filterwarnings('ignore')\n",
    "\n",
    "conn = sqlite3.connect('/Users/ograndberry/Desktop/berlin_startup_jobs_analysis/Database_Sqlite/db_berlin_jobs.db')\n",
    "c = conn.cursor()"
   ]
  },
  {
   "cell_type": "markdown",
   "metadata": {},
   "source": [
    "**2. Get the raw data**"
   ]
  },
  {
   "cell_type": "code",
   "execution_count": 2,
   "metadata": {},
   "outputs": [
    {
     "data": {
      "text/html": [
       "<div>\n",
       "<style>\n",
       "    .dataframe thead tr:only-child th {\n",
       "        text-align: right;\n",
       "    }\n",
       "\n",
       "    .dataframe thead th {\n",
       "        text-align: left;\n",
       "    }\n",
       "\n",
       "    .dataframe tbody tr th {\n",
       "        vertical-align: top;\n",
       "    }\n",
       "</style>\n",
       "<table border=\"1\" class=\"dataframe\">\n",
       "  <thead>\n",
       "    <tr style=\"text-align: right;\">\n",
       "      <th></th>\n",
       "      <th>company_name</th>\n",
       "      <th>date</th>\n",
       "      <th>description</th>\n",
       "      <th>jobtitle</th>\n",
       "      <th>CleanTitles</th>\n",
       "      <th>source</th>\n",
       "    </tr>\n",
       "    <tr>\n",
       "      <th>ID</th>\n",
       "      <th></th>\n",
       "      <th></th>\n",
       "      <th></th>\n",
       "      <th></th>\n",
       "      <th></th>\n",
       "      <th></th>\n",
       "    </tr>\n",
       "  </thead>\n",
       "  <tbody>\n",
       "    <tr>\n",
       "      <th>1</th>\n",
       "      <td>Fatmap</td>\n",
       "      <td>2017-10-02</td>\n",
       "      <td>Role &amp; Responsibility: \\n\\nYou’ll be building ...</td>\n",
       "      <td>mobile engineer</td>\n",
       "      <td>Mobile App Developer</td>\n",
       "      <td>Berlin Startup Jobs</td>\n",
       "    </tr>\n",
       "    <tr>\n",
       "      <th>2</th>\n",
       "      <td>AI Engine</td>\n",
       "      <td>2017-10-02</td>\n",
       "      <td>AI Engine is developing innovative machine lea...</td>\n",
       "      <td>machine learning</td>\n",
       "      <td>Machine Learning Engineer</td>\n",
       "      <td>Berlin Startup Jobs</td>\n",
       "    </tr>\n",
       "    <tr>\n",
       "      <th>3</th>\n",
       "      <td>November</td>\n",
       "      <td>2017-10-02</td>\n",
       "      <td>Your mission:\\n\\nDevelopment of a scalable sof...</td>\n",
       "      <td>senior full stack php developer (f m)</td>\n",
       "      <td>Full Stack Developer</td>\n",
       "      <td>Berlin Startup Jobs</td>\n",
       "    </tr>\n",
       "    <tr>\n",
       "      <th>5</th>\n",
       "      <td>CrossEngage</td>\n",
       "      <td>2017-10-02</td>\n",
       "      <td>About CrossEngage\\nCrossEngage is a cloud-base...</td>\n",
       "      <td>data scientist</td>\n",
       "      <td>Data Scientist</td>\n",
       "      <td>Berlin Startup Jobs</td>\n",
       "    </tr>\n",
       "    <tr>\n",
       "      <th>6</th>\n",
       "      <td>Ruum</td>\n",
       "      <td>2017-10-02</td>\n",
       "      <td>If you’re passionate about learning new techno...</td>\n",
       "      <td>full stack developer</td>\n",
       "      <td>Full Stack Developer</td>\n",
       "      <td>Berlin Startup Jobs</td>\n",
       "    </tr>\n",
       "  </tbody>\n",
       "</table>\n",
       "</div>"
      ],
      "text/plain": [
       "   company_name        date  \\\n",
       "ID                            \n",
       "1        Fatmap  2017-10-02   \n",
       "2     AI Engine  2017-10-02   \n",
       "3      November  2017-10-02   \n",
       "5   CrossEngage  2017-10-02   \n",
       "6          Ruum  2017-10-02   \n",
       "\n",
       "                                          description  \\\n",
       "ID                                                      \n",
       "1   Role & Responsibility: \\n\\nYou’ll be building ...   \n",
       "2   AI Engine is developing innovative machine lea...   \n",
       "3   Your mission:\\n\\nDevelopment of a scalable sof...   \n",
       "5   About CrossEngage\\nCrossEngage is a cloud-base...   \n",
       "6   If you’re passionate about learning new techno...   \n",
       "\n",
       "                                 jobtitle                CleanTitles  \\\n",
       "ID                                                                     \n",
       "1                         mobile engineer       Mobile App Developer   \n",
       "2                        machine learning  Machine Learning Engineer   \n",
       "3   senior full stack php developer (f m)       Full Stack Developer   \n",
       "5                          data scientist             Data Scientist   \n",
       "6                    full stack developer       Full Stack Developer   \n",
       "\n",
       "                 source  \n",
       "ID                       \n",
       "1   Berlin Startup Jobs  \n",
       "2   Berlin Startup Jobs  \n",
       "3   Berlin Startup Jobs  \n",
       "5   Berlin Startup Jobs  \n",
       "6   Berlin Startup Jobs  "
      ]
     },
     "execution_count": 2,
     "metadata": {},
     "output_type": "execute_result"
    }
   ],
   "source": [
    "raw_data = pd.read_csv('../data-cleaning/Clean_JobTitles/dfclean.csv', index_col=0)\n",
    "raw_data.head()"
   ]
  },
  {
   "cell_type": "code",
   "execution_count": 3,
   "metadata": {},
   "outputs": [
    {
     "name": "stdout",
     "output_type": "stream",
     "text": [
      "<class 'pandas.core.frame.DataFrame'>\n",
      "Int64Index: 825 entries, 1 to 1887\n",
      "Data columns (total 6 columns):\n",
      "company_name    825 non-null object\n",
      "date            825 non-null object\n",
      "description     825 non-null object\n",
      "jobtitle        825 non-null object\n",
      "CleanTitles     825 non-null object\n",
      "source          825 non-null object\n",
      "dtypes: object(6)\n",
      "memory usage: 45.1+ KB\n"
     ]
    }
   ],
   "source": [
    "raw_data.info()"
   ]
  },
  {
   "cell_type": "code",
   "execution_count": 4,
   "metadata": {},
   "outputs": [],
   "source": [
    "raw_data['description'] = raw_data['description'].str.lower()"
   ]
  },
  {
   "cell_type": "code",
   "execution_count": 5,
   "metadata": {},
   "outputs": [],
   "source": [
    "def create_clusters(dfname, searchfor,tag):\n",
    "    dfname= pd.DataFrame(raw_data['description'].str.contains('|'.join(searchfor)))\n",
    "    dfname= dfname[dfname['description']==True]\n",
    "    dfname['description']=tag\n",
    "    return dfname\n",
    "    "
   ]
  },
  {
   "cell_type": "code",
   "execution_count": 6,
   "metadata": {},
   "outputs": [],
   "source": [
    "searchfor = ['free time off','parental leave','unlimited vacation','paid time off']\n",
    "freetime = create_clusters(dfname='freetime',searchfor=searchfor,tag='Time Off')"
   ]
  },
  {
   "cell_type": "code",
   "execution_count": 7,
   "metadata": {},
   "outputs": [
    {
     "data": {
      "text/html": [
       "<div>\n",
       "<style>\n",
       "    .dataframe thead tr:only-child th {\n",
       "        text-align: right;\n",
       "    }\n",
       "\n",
       "    .dataframe thead th {\n",
       "        text-align: left;\n",
       "    }\n",
       "\n",
       "    .dataframe tbody tr th {\n",
       "        vertical-align: top;\n",
       "    }\n",
       "</style>\n",
       "<table border=\"1\" class=\"dataframe\">\n",
       "  <thead>\n",
       "    <tr style=\"text-align: right;\">\n",
       "      <th></th>\n",
       "      <th>description</th>\n",
       "    </tr>\n",
       "    <tr>\n",
       "      <th>ID</th>\n",
       "      <th></th>\n",
       "    </tr>\n",
       "  </thead>\n",
       "  <tbody>\n",
       "    <tr>\n",
       "      <th>1597</th>\n",
       "      <td>Time Off</td>\n",
       "    </tr>\n",
       "  </tbody>\n",
       "</table>\n",
       "</div>"
      ],
      "text/plain": [
       "     description\n",
       "ID              \n",
       "1597    Time Off"
      ]
     },
     "execution_count": 7,
     "metadata": {},
     "output_type": "execute_result"
    }
   ],
   "source": [
    "freetime"
   ]
  },
  {
   "cell_type": "code",
   "execution_count": 8,
   "metadata": {},
   "outputs": [],
   "source": [
    "searchfor1 = ['personal development',\n",
    " 'education budget',\n",
    " 'great mentors',\n",
    " 'career development',\n",
    " 'potential to develop ',\n",
    " 'career development',\n",
    " 'personal learning',\n",
    " 'trainings',\n",
    " 'workshops',\n",
    " 'conferences',\n",
    " 'training sessions',\n",
    " 'online learning',\n",
    " 'educational budget',\n",
    " 'coaching',\n",
    " 'mentoring',\n",
    " 'meetups',\n",
    " 'learn@work',\n",
    " 'external training budget',\n",
    " 'offered trainings',\n",
    " 'linkedin learning account',\n",
    " 'book allowance',\n",
    " 'shared kindles',\n",
    " 'personal development']\n",
    "personal_development = create_clusters(dfname='personal_development',searchfor=searchfor1,tag='Personal Development')"
   ]
  },
  {
   "cell_type": "code",
   "execution_count": 9,
   "metadata": {
    "collapsed": true
   },
   "outputs": [],
   "source": [
    "searchfor2 = [' sport ', ' gym ', ' yoga ', ' pilates ', ' massage ', 'gym membership']\n",
    "sport = create_clusters(dfname='sport',searchfor=searchfor2,tag='Sport')"
   ]
  },
  {
   "cell_type": "code",
   "execution_count": 10,
   "metadata": {
    "collapsed": true
   },
   "outputs": [],
   "source": [
    "searchfor3 = ['flexible schedules','working from home','flexible work time','flexible work hours',\n",
    "              ' flexible working hours','flexible schedules','home office','flexible schedule', 'flexible hours','remote work']\n",
    "flexible_schedule = create_clusters(dfname='flexible_schedule',searchfor=searchfor3,tag='Flexible Schedule')"
   ]
  },
  {
   "cell_type": "code",
   "execution_count": 11,
   "metadata": {
    "collapsed": true
   },
   "outputs": [],
   "source": [
    "searchfor4 = ['catered meals','free meal','free meals','team lunch','team breakfast','birthday cake',\n",
    "              'cake on your birthday','learning lunch','lunches','coffee','free coffee','free fruits','fruits',\n",
    "              'snacks','drink','subsidized lunch','bbq','cereals',' beer ','brunches',\n",
    "              'cocktail nights','cocktail']\n",
    "catered_meals = create_clusters(dfname='catered_meals',searchfor=searchfor4,tag='Catered Meals')"
   ]
  },
  {
   "cell_type": "code",
   "execution_count": 12,
   "metadata": {
    "collapsed": true
   },
   "outputs": [],
   "source": [
    "searchfor6 = ['team event','offsites','oktoberfest','company retreats','team event',\n",
    " 'fun events','office part','bbq','sport activities','thirsty thursdays',' fun ',\n",
    " 'parties','bbq','lunch and learn','bbqs','thirsty','birthday','retreat','offsite']\n",
    "team_events = create_clusters(dfname='team_events',searchfor=searchfor6,tag='Team Events')"
   ]
  },
  {
   "cell_type": "code",
   "execution_count": 13,
   "metadata": {
    "collapsed": true
   },
   "outputs": [],
   "source": [
    "searchfor7 = ['game room','ping pong''table soccer',' kicker','playstation','table tenis',\n",
    " 'pool table','ping-pong']\n",
    "games_rooms = create_clusters(dfname='games_rooms',searchfor=searchfor7,tag='Game Rooms')"
   ]
  },
  {
   "cell_type": "code",
   "execution_count": 14,
   "metadata": {
    "collapsed": true
   },
   "outputs": [],
   "source": [
    "searchfor8 = ['transportation allowance',\n",
    " ' bvg','company car','free transport','often travel','ability to travel','business travel','business trip']\n",
    "transportation = create_clusters(dfname='transportation ',searchfor=searchfor8,tag='Transportation Allowance')"
   ]
  },
  {
   "cell_type": "code",
   "execution_count": 15,
   "metadata": {
    "collapsed": true
   },
   "outputs": [],
   "source": [
    "searchfor9 = ['coffee','free coffee','free fruits','fruits','snacks','drinks','bbq','cereals','breakast club','free breakfast']\n",
    "breakfast = create_clusters(dfname='breakfast',searchfor=searchfor9,tag='Free Breakfast')"
   ]
  },
  {
   "cell_type": "code",
   "execution_count": 16,
   "metadata": {},
   "outputs": [],
   "source": [
    "searchfor10 = ['pets are welcome','bring your pet',' pets','pet welcome',' pet ','bring your dog',' dogs']\n",
    "pets = create_clusters(dfname='pets',searchfor=searchfor10,tag='Pets Welcome')"
   ]
  },
  {
   "cell_type": "code",
   "execution_count": 17,
   "metadata": {
    "collapsed": true
   },
   "outputs": [],
   "source": [
    "searchfor11 = ['modern office','modern equipment','great office location','office space','heart of berlin',\n",
    " 'modern office','office terrace','free laptop','laptop of your choice','macbook','modern technologies','choose your laptop','best equipment',\n",
    " 'latest equipment','modern equipement','private telephone']\n",
    "modern_office = create_clusters(dfname='modern_office',searchfor=searchfor11,tag='Modern Office')"
   ]
  },
  {
   "cell_type": "code",
   "execution_count": 18,
   "metadata": {
    "collapsed": true
   },
   "outputs": [],
   "source": [
    "searchfor12 = ['free language','german class','free german and english','language course',\n",
    "               'learn german','learn english','language course','free german']\n",
    "languages = create_clusters(dfname='languages ',searchfor=searchfor12,tag='Free language courses')"
   ]
  },
  {
   "cell_type": "code",
   "execution_count": 19,
   "metadata": {
    "collapsed": true
   },
   "outputs": [],
   "source": [
    "searchfor13 = ['discounts','employee discount','company discount','special price']\n",
    "discounts = create_clusters(dfname='discounts',searchfor=searchfor13,tag='Discounts')"
   ]
  },
  {
   "cell_type": "code",
   "execution_count": 20,
   "metadata": {
    "collapsed": true
   },
   "outputs": [],
   "source": [
    "searchfor14 = ['visa ','relocation']\n",
    "relocation = create_clusters(dfname='relocation',searchfor=searchfor14,tag='Visa/Relocation')"
   ]
  },
  {
   "cell_type": "code",
   "execution_count": 21,
   "metadata": {
    "collapsed": true
   },
   "outputs": [],
   "source": [
    "searchfor15 = ['competitive pay','fair compensation','attractive compensation','competitive wage',\n",
    " 'competitive salary','equity option','stock option']\n",
    "compensation = create_clusters(dfname='compensation',searchfor=searchfor15,tag='Attractive Compensation')"
   ]
  },
  {
   "cell_type": "code",
   "execution_count": 22,
   "metadata": {},
   "outputs": [],
   "source": [
    "a =freetime.append([compensation,relocation,discounts,languages,modern_office,pets,breakfast,transportation,games_rooms,\n",
    "                team_events,catered_meals,flexible_schedule,sport,personal_development]).reset_index().sort_values('ID')"
   ]
  },
  {
   "cell_type": "code",
   "execution_count": 23,
   "metadata": {},
   "outputs": [],
   "source": [
    "a.columns = ['job_id','perk_name']\n",
    "perks = a.set_index('job_id')"
   ]
  },
  {
   "cell_type": "code",
   "execution_count": 24,
   "metadata": {},
   "outputs": [
    {
     "data": {
      "text/html": [
       "<div>\n",
       "<style>\n",
       "    .dataframe thead tr:only-child th {\n",
       "        text-align: right;\n",
       "    }\n",
       "\n",
       "    .dataframe thead th {\n",
       "        text-align: left;\n",
       "    }\n",
       "\n",
       "    .dataframe tbody tr th {\n",
       "        vertical-align: top;\n",
       "    }\n",
       "</style>\n",
       "<table border=\"1\" class=\"dataframe\">\n",
       "  <thead>\n",
       "    <tr style=\"text-align: right;\">\n",
       "      <th></th>\n",
       "      <th>perk_name</th>\n",
       "    </tr>\n",
       "    <tr>\n",
       "      <th>job_id</th>\n",
       "      <th></th>\n",
       "    </tr>\n",
       "  </thead>\n",
       "  <tbody>\n",
       "    <tr>\n",
       "      <th>1</th>\n",
       "      <td>Flexible Schedule</td>\n",
       "    </tr>\n",
       "    <tr>\n",
       "      <th>3</th>\n",
       "      <td>Catered Meals</td>\n",
       "    </tr>\n",
       "    <tr>\n",
       "      <th>3</th>\n",
       "      <td>Attractive Compensation</td>\n",
       "    </tr>\n",
       "    <tr>\n",
       "      <th>3</th>\n",
       "      <td>Personal Development</td>\n",
       "    </tr>\n",
       "    <tr>\n",
       "      <th>3</th>\n",
       "      <td>Free Breakfast</td>\n",
       "    </tr>\n",
       "    <tr>\n",
       "      <th>5</th>\n",
       "      <td>Team Events</td>\n",
       "    </tr>\n",
       "    <tr>\n",
       "      <th>5</th>\n",
       "      <td>Modern Office</td>\n",
       "    </tr>\n",
       "    <tr>\n",
       "      <th>5</th>\n",
       "      <td>Catered Meals</td>\n",
       "    </tr>\n",
       "    <tr>\n",
       "      <th>5</th>\n",
       "      <td>Free Breakfast</td>\n",
       "    </tr>\n",
       "    <tr>\n",
       "      <th>6</th>\n",
       "      <td>Personal Development</td>\n",
       "    </tr>\n",
       "  </tbody>\n",
       "</table>\n",
       "</div>"
      ],
      "text/plain": [
       "                      perk_name\n",
       "job_id                         \n",
       "1             Flexible Schedule\n",
       "3                 Catered Meals\n",
       "3       Attractive Compensation\n",
       "3          Personal Development\n",
       "3                Free Breakfast\n",
       "5                   Team Events\n",
       "5                 Modern Office\n",
       "5                 Catered Meals\n",
       "5                Free Breakfast\n",
       "6          Personal Development"
      ]
     },
     "execution_count": 24,
     "metadata": {},
     "output_type": "execute_result"
    }
   ],
   "source": [
    "perks.head(10)"
   ]
  },
  {
   "cell_type": "code",
   "execution_count": 25,
   "metadata": {
    "collapsed": true
   },
   "outputs": [],
   "source": [
    "perks_rawdata= pd.read_csv('Perks.csv')\n",
    "industry_rawdata = pd.read_csv('Industry.csv')"
   ]
  },
  {
   "cell_type": "code",
   "execution_count": 26,
   "metadata": {},
   "outputs": [
    {
     "data": {
      "text/plain": [
       "['attractive compensation',\n",
       " 'an attractive compensation package',\n",
       " '\\na competitive pay',\n",
       " 'fair compensation',\n",
       " 'attractive compensation',\n",
       " 'competitive wages',\n",
       " 'competitive salary',\n",
       " 'equity options',\n",
       " 'virtual stock options']"
      ]
     },
     "execution_count": 26,
     "metadata": {},
     "output_type": "execute_result"
    }
   ],
   "source": [
    "[x.lower() for x in list(perks_rawdata.iloc[15,:].dropna())]"
   ]
  },
  {
   "cell_type": "code",
   "execution_count": 27,
   "metadata": {},
   "outputs": [
    {
     "data": {
      "text/plain": [
       "['music',\n",
       " 'ableton',\n",
       " 'lofelt',\n",
       " 'native instruments',\n",
       " 'soundcloud',\n",
       " 'music industry',\n",
       " 'gruvit']"
      ]
     },
     "execution_count": 27,
     "metadata": {},
     "output_type": "execute_result"
    }
   ],
   "source": [
    "[x.lower() for x in list(industry_rawdata.iloc[14,:].dropna())]"
   ]
  },
  {
   "cell_type": "code",
   "execution_count": 28,
   "metadata": {},
   "outputs": [
    {
     "data": {
      "text/plain": [
       "'our platform matches travellers with pre-selected travel specialists, making the booking of individual and adventure trips comparable, fast and easy. we combine the first-hand experience of a travel agency with the simplicity of an online product.\\nour vision is to become the leading tech company in individual tourism with an innovative business model and a sustainable company culture. to achieve it, we are supported by investors such holtzbrinck ventures and airbnb, which act as valuable consultants on our management board.\\nright now we are bootstrapping all it projects. thus, perfect timing to jump on in a new adventure and join our team. this is the stack to make it happen:\\n\\nbackend and frontend apps with ruby w/o rails and angular/react\\naws with ecs managed by terraform\\ncontinuous delivery through jenkins\\na kafka with several producers collecting data from every single part of the company\\nai (e.g. amazon machine learning)\\nseveral microservices that offer machine learning insights to the different apps\\neach app (mostly ruby/rails) has a portal for b2b, b2c and cms\\nautomation and optimization of all marketing campaigns\\nin the future we will play with high speed bidding to optimize these campaigns\\n\\ndoes this make sense?\\nwhat we expect from you:\\n\\nyou understood the previous paragraph\\xa0:-p, and already have ideas to improve our plan, or you simply want to be part of it\\nyou gained at least two years professional experience working with ruby/rails, aws and frontend technologies\\nyou are very passionate about software, curious, and eager to learn\\nyou are confident enough to run and be responsible of production services\\nyou believe in a healthy balance between delivering business value, and experimentation/playing\\n\\nmore reasons to join our journey:\\n\\nour startup is making money from day one\\nnothing is set in stone yet, your input will have a huge impact\\nmake individual and adventure trips great again. our technology will provide the best user experience to our customers\\nteam up with excellent co-workers with background in companies such as airbnb, wooga, rocket internet, helpling, dubsmash and many more\\nfounders who understand the importance of tech and developer needs\\nwe believe in a small but excellent team\\nuse our great network in the european and us startup scene\\n\\nplus the baseline for berlin startups:\\n\\nvery open and transparent company culture with a fast and agile development cycle\\nan attractive compensation package\\nconference and educational budget\\nfresh fruit, müsli, drinks, coffee circle, two djs in the team –> amazing team events\\nfree of choice dev-environment\\n\\nwe are looking forward to get to know you!'"
      ]
     },
     "execution_count": 28,
     "metadata": {},
     "output_type": "execute_result"
    }
   ],
   "source": [
    "raw_data.ix[114]['description']"
   ]
  },
  {
   "cell_type": "code",
   "execution_count": 29,
   "metadata": {
    "collapsed": true
   },
   "outputs": [],
   "source": [
    "searchfori0 = ['ecommerce industry','auctionata','bjooli','bonial','bonagora','byebuy','coffee circle','dawanda',\n",
    "             'discounto','erento','flaconi ','home24','junique','kw-commerce','lesara','lyke',\n",
    " 'mirapodo','mister spex','modomoto','monoqi','outfittery','urbanara','runashop','vaola',\n",
    " 'visual meta','wine in black','zalando','e commerce industry','rebuy','e-commerce indu','online shop']\n",
    "eCommerce = create_clusters(dfname='eCommerce',searchfor=searchfori0,tag='e-commerce')"
   ]
  },
  {
   "cell_type": "code",
   "execution_count": 30,
   "metadata": {},
   "outputs": [],
   "source": [
    "searchfori1 = ['adtech',\n",
    " 'ad2games',\n",
    " 'adjust',\n",
    " 'adsquare',\n",
    " 'applause',\n",
    " 'applift',\n",
    " 'crobo',\n",
    " 'contiama',\n",
    " 'datapine',\n",
    " 'deltamethod',\n",
    " 'fyber',\n",
    " 'glispa',\n",
    " 'gamegenetics',\n",
    " 'iconpeak',\n",
    " 'liquidm',\n",
    " 'mapegy',\n",
    " 'plista',\n",
    " 'roq.ad',\n",
    " 'remerge',\n",
    " 'sociomantic',\n",
    " 'trademob',\n",
    " 'webtrekk',\n",
    " 'yoc',\n",
    " 'ad-booking',\n",
    " 'ad booking',\n",
    " 'adtech',\n",
    " 'zeotap',\n",
    " 'adjust by adeven','ad tech']\n",
    "adTech = create_clusters(dfname='adTech',searchfor=searchfori1,tag='AdTech')"
   ]
  },
  {
   "cell_type": "code",
   "execution_count": 31,
   "metadata": {
    "collapsed": true
   },
   "outputs": [],
   "source": [
    "searchfori2 = [\n",
    " 'barzahlen',\n",
    " 'billpay',\n",
    " 'bergfürst',\n",
    " 'bonify',\n",
    " 'brickgate',\n",
    " 'cashboard',\n",
    " 'finleap',\n",
    " 'liqid',\n",
    " 'mambu',\n",
    " 'number26',\n",
    " 'optiopay',\n",
    " 'orderbird',\n",
    " 'payleven',\n",
    " 'raisin',\n",
    " 'savedo',\n",
    " 'smava',\n",
    " 'solarisbank',\n",
    " 'fintech',\n",
    " 'financial industry']\n",
    "finTech = create_clusters(dfname='finTech',searchfor=searchfori2,tag='FinTech')"
   ]
  },
  {
   "cell_type": "code",
   "execution_count": 32,
   "metadata": {
    "collapsed": true
   },
   "outputs": [],
   "source": [
    "searchfori3 = ['retail technology',\n",
    " 'inventorum',\n",
    " 'itembase',\n",
    " 'kaufda',\n",
    " 'käuferportal',\n",
    " 'locafox',\n",
    " 'minodes',\n",
    " 'newstore',\n",
    " 'products up',\n",
    " 'qipu',\n",
    " 'retail industry']\n",
    "retailtech = create_clusters(dfname='retailtech',searchfor=searchfori3,tag='Retail Technology')"
   ]
  },
  {
   "cell_type": "code",
   "execution_count": 33,
   "metadata": {
    "collapsed": true
   },
   "outputs": [],
   "source": [
    "searchfori4 = ['marketing solutions','marketing platform'\n",
    " 'basilicom',\n",
    " 'crossengage',\n",
    " 'contentful',\n",
    " 'dcmn',\n",
    " 'dc media networks',\n",
    " 'digitaleseiten',\n",
    " 'fanpage karma',\n",
    " 'kyto',\n",
    " 'linkbird',\n",
    " 'newsletter2go',\n",
    " 'optivo',\n",
    " 'uberall',\n",
    " 'ubermetrics',\n",
    " 'styla',\n",
    " 'zanox',\n",
    " 'goedle.io',\n",
    " 'retentiongrid',\n",
    " 'wunderdata']\n",
    "marketingsol = create_clusters(dfname='marketingsol',searchfor=searchfori4,tag='Marketing Solutions')"
   ]
  },
  {
   "cell_type": "code",
   "execution_count": 34,
   "metadata": {
    "collapsed": true
   },
   "outputs": [],
   "source": [
    "searchfori5 = [\n",
    " 'aeria games',\n",
    " 'crowdpark',\n",
    " 'fox & sheep',\n",
    " 'gameduell',\n",
    " 'kabam',\n",
    " ' king',\n",
    " 'softgames',\n",
    " 'treasurehuntstudios',\n",
    " 'wooga',\n",
    " 'gaming industry',\n",
    " 'game industry',\n",
    " 'game creation',\n",
    " 'game development',\n",
    " 'game creation',\n",
    " 'neriad games']\n",
    "games = create_clusters(dfname='games',searchfor=searchfori5,tag='Game')"
   ]
  },
  {
   "cell_type": "code",
   "execution_count": 35,
   "metadata": {
    "collapsed": true
   },
   "outputs": [],
   "source": [
    "searchfori6 = [\n",
    " 'dushmash',\n",
    " 'eyeem',\n",
    " 'kitchen stories',\n",
    " 'memorado',\n",
    " 'mytaxi',\n",
    " 'onefootball',\n",
    " 'parktag',\n",
    " 'tvsmiles']\n",
    "app= create_clusters(dfname='app',searchfor=searchfori6,tag='App')"
   ]
  },
  {
   "cell_type": "code",
   "execution_count": 36,
   "metadata": {
    "collapsed": true
   },
   "outputs": [],
   "source": [
    "searchfori7 = [\n",
    " ' clue',\n",
    " 'mediteo',\n",
    " 'meedoc',\n",
    " 'medexo',\n",
    " 'medigo',\n",
    " 'neuronation',\n",
    " 'sanubi',\n",
    " 'health industry',\n",
    " 'medlanes',\n",
    " 'humanoo', 'healthcare industry']\n",
    "health= create_clusters(dfname='health',searchfor=searchfori7,tag='Health')"
   ]
  },
  {
   "cell_type": "code",
   "execution_count": 37,
   "metadata": {
    "collapsed": true
   },
   "outputs": [],
   "source": [
    "searchfori8 = ['edutech',\n",
    " 'babbel',\n",
    " 'blinkist',\n",
    " 'inversity',\n",
    " 'k.lab edumedia',\n",
    " 'research gate',\n",
    " 'skive',\n",
    " 'sofatutor',\n",
    " 'education industry',\n",
    " 'akdemia',\n",
    " 'preply',\n",
    " 'unlockyourbrain',\n",
    " 'liberio',\n",
    " 'skive',\n",
    " 'vismath', 'learning app', 'learning platform']\n",
    "edutech= create_clusters(dfname='edutech',searchfor=searchfori8,tag='EduTech')"
   ]
  },
  {
   "cell_type": "code",
   "execution_count": 38,
   "metadata": {
    "collapsed": true
   },
   "outputs": [],
   "source": [
    "searchfori9 = ['food delivery',\n",
    " 'bonativo',\n",
    " 'deliveroo',\n",
    " 'delivery hero',\n",
    " 'eatfirst',\n",
    " 'foodora',\n",
    " 'foodpanda',\n",
    " 'hellofresh',\n",
    " 'marley spoon',\n",
    " 'food industry',\n",
    " 'food delivery',\n",
    " 'wine in black']\n",
    "food = create_clusters(dfname='food',searchfor=searchfori9,tag='Food Delivery')"
   ]
  },
  {
   "cell_type": "code",
   "execution_count": 39,
   "metadata": {
    "collapsed": true
   },
   "outputs": [],
   "source": [
    "searchfori10 = [\n",
    " 'abroadwith',\n",
    " 'getyourguide',\n",
    " 'goeuro',\n",
    " 'guestbird',\n",
    " 'holidaypirates',\n",
    " 'suitepad',\n",
    " 'wimdu',\n",
    " 'zizoo',\n",
    " 'travel industry']\n",
    "travel = create_clusters(dfname='travel',searchfor=searchfori10,tag='Travel')"
   ]
  },
  {
   "cell_type": "code",
   "execution_count": 40,
   "metadata": {
    "collapsed": true
   },
   "outputs": [],
   "source": [
    "searchfori11 = [\n",
    " 'auto1 group',\n",
    " 'blacklane',\n",
    " 'book a tiger',\n",
    " 'carmudi',\n",
    " 'helpling',\n",
    " 'service partner one',\n",
    " 'thermondo',\n",
    " 'vimcar',\n",
    " 'cleaning industry',\n",
    " 'car booking',\n",
    " 'yachtico',\n",
    " 'ondango']\n",
    "service = create_clusters(dfname='service',searchfor=searchfori11,tag='Service')"
   ]
  },
  {
   "cell_type": "code",
   "execution_count": 41,
   "metadata": {
    "collapsed": true
   },
   "outputs": [],
   "source": [
    "searchfori12 = ['comatch',\n",
    " 'gohiring',\n",
    " 'honeypot',\n",
    " 'heavenhr',\n",
    " 'tandemploy',\n",
    " 'viasto',\n",
    " 'human ressource industry',\n",
    " 'hr industry',\n",
    " 'human ressources industry','recruitment agency']\n",
    "hr = create_clusters(dfname='hr',searchfor=searchfori12,tag='HR')"
   ]
  },
  {
   "cell_type": "code",
   "execution_count": 42,
   "metadata": {
    "collapsed": true
   },
   "outputs": [],
   "source": [
    "searchfori13 = [\n",
    " 'lamudi',\n",
    " 'immobilienscout',\n",
    " 'mcmakler',\n",
    " 'mykeys24',\n",
    " 'movago',\n",
    " 'real estate']\n",
    "realestate = create_clusters(dfname='realestate',searchfor=searchfori13,tag='Real Estate')"
   ]
  },
  {
   "cell_type": "code",
   "execution_count": 43,
   "metadata": {
    "collapsed": true
   },
   "outputs": [],
   "source": [
    "searchfori14 = ['ableton',\n",
    " 'lofelt',\n",
    " 'native instruments',\n",
    " 'soundcloud',\n",
    " 'music industry',\n",
    " 'gruvit']\n",
    "music = create_clusters(dfname='music',searchfor=searchfori14,tag='Music')"
   ]
  },
  {
   "cell_type": "code",
   "execution_count": 44,
   "metadata": {},
   "outputs": [],
   "source": [
    "b =music.append([realestate,hr,service,travel,edutech,health,app,games,marketingsol,retailtech,finTech,adTech,eCommerce]).reset_index().sort_values('ID')"
   ]
  },
  {
   "cell_type": "code",
   "execution_count": 45,
   "metadata": {
    "collapsed": true
   },
   "outputs": [],
   "source": [
    "b.columns = ['job_id','industry_name']\n",
    "industry = b.set_index('job_id')"
   ]
  },
  {
   "cell_type": "code",
   "execution_count": 46,
   "metadata": {},
   "outputs": [
    {
     "data": {
      "text/html": [
       "<div>\n",
       "<style>\n",
       "    .dataframe thead tr:only-child th {\n",
       "        text-align: right;\n",
       "    }\n",
       "\n",
       "    .dataframe thead th {\n",
       "        text-align: left;\n",
       "    }\n",
       "\n",
       "    .dataframe tbody tr th {\n",
       "        vertical-align: top;\n",
       "    }\n",
       "</style>\n",
       "<table border=\"1\" class=\"dataframe\">\n",
       "  <thead>\n",
       "    <tr style=\"text-align: right;\">\n",
       "      <th></th>\n",
       "      <th>industry_name</th>\n",
       "    </tr>\n",
       "    <tr>\n",
       "      <th>job_id</th>\n",
       "      <th></th>\n",
       "    </tr>\n",
       "  </thead>\n",
       "  <tbody>\n",
       "    <tr>\n",
       "      <th>5</th>\n",
       "      <td>Marketing Solutions</td>\n",
       "    </tr>\n",
       "    <tr>\n",
       "      <th>10</th>\n",
       "      <td>AdTech</td>\n",
       "    </tr>\n",
       "    <tr>\n",
       "      <th>15</th>\n",
       "      <td>Game</td>\n",
       "    </tr>\n",
       "    <tr>\n",
       "      <th>32</th>\n",
       "      <td>Service</td>\n",
       "    </tr>\n",
       "    <tr>\n",
       "      <th>45</th>\n",
       "      <td>FinTech</td>\n",
       "    </tr>\n",
       "    <tr>\n",
       "      <th>46</th>\n",
       "      <td>FinTech</td>\n",
       "    </tr>\n",
       "    <tr>\n",
       "      <th>47</th>\n",
       "      <td>FinTech</td>\n",
       "    </tr>\n",
       "    <tr>\n",
       "      <th>50</th>\n",
       "      <td>e-commerce</td>\n",
       "    </tr>\n",
       "    <tr>\n",
       "      <th>56</th>\n",
       "      <td>Game</td>\n",
       "    </tr>\n",
       "    <tr>\n",
       "      <th>63</th>\n",
       "      <td>AdTech</td>\n",
       "    </tr>\n",
       "    <tr>\n",
       "      <th>77</th>\n",
       "      <td>Travel</td>\n",
       "    </tr>\n",
       "    <tr>\n",
       "      <th>78</th>\n",
       "      <td>Travel</td>\n",
       "    </tr>\n",
       "    <tr>\n",
       "      <th>80</th>\n",
       "      <td>Travel</td>\n",
       "    </tr>\n",
       "    <tr>\n",
       "      <th>84</th>\n",
       "      <td>FinTech</td>\n",
       "    </tr>\n",
       "    <tr>\n",
       "      <th>85</th>\n",
       "      <td>FinTech</td>\n",
       "    </tr>\n",
       "    <tr>\n",
       "      <th>86</th>\n",
       "      <td>e-commerce</td>\n",
       "    </tr>\n",
       "    <tr>\n",
       "      <th>91</th>\n",
       "      <td>FinTech</td>\n",
       "    </tr>\n",
       "    <tr>\n",
       "      <th>98</th>\n",
       "      <td>Service</td>\n",
       "    </tr>\n",
       "    <tr>\n",
       "      <th>102</th>\n",
       "      <td>EduTech</td>\n",
       "    </tr>\n",
       "    <tr>\n",
       "      <th>103</th>\n",
       "      <td>e-commerce</td>\n",
       "    </tr>\n",
       "    <tr>\n",
       "      <th>104</th>\n",
       "      <td>e-commerce</td>\n",
       "    </tr>\n",
       "    <tr>\n",
       "      <th>105</th>\n",
       "      <td>e-commerce</td>\n",
       "    </tr>\n",
       "    <tr>\n",
       "      <th>114</th>\n",
       "      <td>Game</td>\n",
       "    </tr>\n",
       "    <tr>\n",
       "      <th>114</th>\n",
       "      <td>e-commerce</td>\n",
       "    </tr>\n",
       "    <tr>\n",
       "      <th>114</th>\n",
       "      <td>Service</td>\n",
       "    </tr>\n",
       "    <tr>\n",
       "      <th>124</th>\n",
       "      <td>Service</td>\n",
       "    </tr>\n",
       "    <tr>\n",
       "      <th>126</th>\n",
       "      <td>Real Estate</td>\n",
       "    </tr>\n",
       "    <tr>\n",
       "      <th>144</th>\n",
       "      <td>AdTech</td>\n",
       "    </tr>\n",
       "    <tr>\n",
       "      <th>145</th>\n",
       "      <td>AdTech</td>\n",
       "    </tr>\n",
       "    <tr>\n",
       "      <th>146</th>\n",
       "      <td>AdTech</td>\n",
       "    </tr>\n",
       "    <tr>\n",
       "      <th>...</th>\n",
       "      <td>...</td>\n",
       "    </tr>\n",
       "    <tr>\n",
       "      <th>1780</th>\n",
       "      <td>EduTech</td>\n",
       "    </tr>\n",
       "    <tr>\n",
       "      <th>1785</th>\n",
       "      <td>FinTech</td>\n",
       "    </tr>\n",
       "    <tr>\n",
       "      <th>1786</th>\n",
       "      <td>e-commerce</td>\n",
       "    </tr>\n",
       "    <tr>\n",
       "      <th>1791</th>\n",
       "      <td>Retail Technology</td>\n",
       "    </tr>\n",
       "    <tr>\n",
       "      <th>1791</th>\n",
       "      <td>Marketing Solutions</td>\n",
       "    </tr>\n",
       "    <tr>\n",
       "      <th>1795</th>\n",
       "      <td>e-commerce</td>\n",
       "    </tr>\n",
       "    <tr>\n",
       "      <th>1798</th>\n",
       "      <td>Marketing Solutions</td>\n",
       "    </tr>\n",
       "    <tr>\n",
       "      <th>1798</th>\n",
       "      <td>Retail Technology</td>\n",
       "    </tr>\n",
       "    <tr>\n",
       "      <th>1799</th>\n",
       "      <td>e-commerce</td>\n",
       "    </tr>\n",
       "    <tr>\n",
       "      <th>1806</th>\n",
       "      <td>FinTech</td>\n",
       "    </tr>\n",
       "    <tr>\n",
       "      <th>1807</th>\n",
       "      <td>AdTech</td>\n",
       "    </tr>\n",
       "    <tr>\n",
       "      <th>1809</th>\n",
       "      <td>EduTech</td>\n",
       "    </tr>\n",
       "    <tr>\n",
       "      <th>1814</th>\n",
       "      <td>EduTech</td>\n",
       "    </tr>\n",
       "    <tr>\n",
       "      <th>1823</th>\n",
       "      <td>e-commerce</td>\n",
       "    </tr>\n",
       "    <tr>\n",
       "      <th>1824</th>\n",
       "      <td>AdTech</td>\n",
       "    </tr>\n",
       "    <tr>\n",
       "      <th>1824</th>\n",
       "      <td>e-commerce</td>\n",
       "    </tr>\n",
       "    <tr>\n",
       "      <th>1831</th>\n",
       "      <td>Real Estate</td>\n",
       "    </tr>\n",
       "    <tr>\n",
       "      <th>1840</th>\n",
       "      <td>Health</td>\n",
       "    </tr>\n",
       "    <tr>\n",
       "      <th>1841</th>\n",
       "      <td>e-commerce</td>\n",
       "    </tr>\n",
       "    <tr>\n",
       "      <th>1843</th>\n",
       "      <td>Marketing Solutions</td>\n",
       "    </tr>\n",
       "    <tr>\n",
       "      <th>1846</th>\n",
       "      <td>e-commerce</td>\n",
       "    </tr>\n",
       "    <tr>\n",
       "      <th>1850</th>\n",
       "      <td>e-commerce</td>\n",
       "    </tr>\n",
       "    <tr>\n",
       "      <th>1854</th>\n",
       "      <td>e-commerce</td>\n",
       "    </tr>\n",
       "    <tr>\n",
       "      <th>1861</th>\n",
       "      <td>Retail Technology</td>\n",
       "    </tr>\n",
       "    <tr>\n",
       "      <th>1866</th>\n",
       "      <td>AdTech</td>\n",
       "    </tr>\n",
       "    <tr>\n",
       "      <th>1867</th>\n",
       "      <td>Real Estate</td>\n",
       "    </tr>\n",
       "    <tr>\n",
       "      <th>1868</th>\n",
       "      <td>e-commerce</td>\n",
       "    </tr>\n",
       "    <tr>\n",
       "      <th>1869</th>\n",
       "      <td>e-commerce</td>\n",
       "    </tr>\n",
       "    <tr>\n",
       "      <th>1877</th>\n",
       "      <td>e-commerce</td>\n",
       "    </tr>\n",
       "    <tr>\n",
       "      <th>1880</th>\n",
       "      <td>Retail Technology</td>\n",
       "    </tr>\n",
       "  </tbody>\n",
       "</table>\n",
       "<p>219 rows × 1 columns</p>\n",
       "</div>"
      ],
      "text/plain": [
       "              industry_name\n",
       "job_id                     \n",
       "5       Marketing Solutions\n",
       "10                   AdTech\n",
       "15                     Game\n",
       "32                  Service\n",
       "45                  FinTech\n",
       "46                  FinTech\n",
       "47                  FinTech\n",
       "50               e-commerce\n",
       "56                     Game\n",
       "63                   AdTech\n",
       "77                   Travel\n",
       "78                   Travel\n",
       "80                   Travel\n",
       "84                  FinTech\n",
       "85                  FinTech\n",
       "86               e-commerce\n",
       "91                  FinTech\n",
       "98                  Service\n",
       "102                 EduTech\n",
       "103              e-commerce\n",
       "104              e-commerce\n",
       "105              e-commerce\n",
       "114                    Game\n",
       "114              e-commerce\n",
       "114                 Service\n",
       "124                 Service\n",
       "126             Real Estate\n",
       "144                  AdTech\n",
       "145                  AdTech\n",
       "146                  AdTech\n",
       "...                     ...\n",
       "1780                EduTech\n",
       "1785                FinTech\n",
       "1786             e-commerce\n",
       "1791      Retail Technology\n",
       "1791    Marketing Solutions\n",
       "1795             e-commerce\n",
       "1798    Marketing Solutions\n",
       "1798      Retail Technology\n",
       "1799             e-commerce\n",
       "1806                FinTech\n",
       "1807                 AdTech\n",
       "1809                EduTech\n",
       "1814                EduTech\n",
       "1823             e-commerce\n",
       "1824                 AdTech\n",
       "1824             e-commerce\n",
       "1831            Real Estate\n",
       "1840                 Health\n",
       "1841             e-commerce\n",
       "1843    Marketing Solutions\n",
       "1846             e-commerce\n",
       "1850             e-commerce\n",
       "1854             e-commerce\n",
       "1861      Retail Technology\n",
       "1866                 AdTech\n",
       "1867            Real Estate\n",
       "1868             e-commerce\n",
       "1869             e-commerce\n",
       "1877             e-commerce\n",
       "1880      Retail Technology\n",
       "\n",
       "[219 rows x 1 columns]"
      ]
     },
     "execution_count": 46,
     "metadata": {},
     "output_type": "execute_result"
    }
   ],
   "source": [
    "industry"
   ]
  },
  {
   "cell_type": "markdown",
   "metadata": {},
   "source": [
    "**9. Send the tables to the database**"
   ]
  },
  {
   "cell_type": "code",
   "execution_count": 47,
   "metadata": {
    "collapsed": true
   },
   "outputs": [],
   "source": [
    "perks.to_sql('Perks', conn, if_exists='replace')\n",
    "industry.to_sql('Industry', conn, if_exists='replace')"
   ]
  }
 ],
 "metadata": {
  "kernelspec": {
   "display_name": "Python 3",
   "language": "python",
   "name": "python3"
  },
  "language_info": {
   "codemirror_mode": {
    "name": "ipython",
    "version": 3
   },
   "file_extension": ".py",
   "mimetype": "text/x-python",
   "name": "python",
   "nbconvert_exporter": "python",
   "pygments_lexer": "ipython3",
   "version": "3.6.2"
  }
 },
 "nbformat": 4,
 "nbformat_minor": 2
}
