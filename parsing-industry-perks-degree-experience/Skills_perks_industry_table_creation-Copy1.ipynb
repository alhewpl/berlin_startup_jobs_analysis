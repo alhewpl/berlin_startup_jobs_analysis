{
 "cells": [
  {
   "cell_type": "markdown",
   "metadata": {},
   "source": [
    "# NLTK application"
   ]
  },
  {
   "cell_type": "markdown",
   "metadata": {},
   "source": [
    "**1. Imports and databse connection**"
   ]
  },
  {
   "cell_type": "code",
   "execution_count": 1,
   "metadata": {
    "collapsed": true
   },
   "outputs": [],
   "source": [
    "import nltk\n",
    "import sqlite3\n",
    "import pandas as pd\n",
    "\n",
    "import warnings\n",
    "warnings.filterwarnings('ignore')\n",
    "\n",
    "conn = sqlite3.connect('/Users/ograndberry/Desktop/berlin_startup_jobs_analysis/Database_Sqlite/db_berlin_jobs.db')\n",
    "c = conn.cursor()"
   ]
  },
  {
   "cell_type": "markdown",
   "metadata": {},
   "source": [
    "**2. Get the raw data**"
   ]
  },
  {
   "cell_type": "code",
   "execution_count": 2,
   "metadata": {},
   "outputs": [
    {
     "data": {
      "text/html": [
       "<div>\n",
       "<style>\n",
       "    .dataframe thead tr:only-child th {\n",
       "        text-align: right;\n",
       "    }\n",
       "\n",
       "    .dataframe thead th {\n",
       "        text-align: left;\n",
       "    }\n",
       "\n",
       "    .dataframe tbody tr th {\n",
       "        vertical-align: top;\n",
       "    }\n",
       "</style>\n",
       "<table border=\"1\" class=\"dataframe\">\n",
       "  <thead>\n",
       "    <tr style=\"text-align: right;\">\n",
       "      <th></th>\n",
       "      <th>company_name</th>\n",
       "      <th>date</th>\n",
       "      <th>description</th>\n",
       "      <th>jobtitle</th>\n",
       "      <th>CleanTitles</th>\n",
       "      <th>source</th>\n",
       "    </tr>\n",
       "    <tr>\n",
       "      <th>ID</th>\n",
       "      <th></th>\n",
       "      <th></th>\n",
       "      <th></th>\n",
       "      <th></th>\n",
       "      <th></th>\n",
       "      <th></th>\n",
       "    </tr>\n",
       "  </thead>\n",
       "  <tbody>\n",
       "    <tr>\n",
       "      <th>1</th>\n",
       "      <td>Fatmap</td>\n",
       "      <td>2017-10-02</td>\n",
       "      <td>Role &amp; Responsibility: \\n\\nYou’ll be building ...</td>\n",
       "      <td>mobile engineer</td>\n",
       "      <td>Mobile App Developer</td>\n",
       "      <td>Berlin Startup Jobs</td>\n",
       "    </tr>\n",
       "    <tr>\n",
       "      <th>2</th>\n",
       "      <td>AI Engine</td>\n",
       "      <td>2017-10-02</td>\n",
       "      <td>AI Engine is developing innovative machine lea...</td>\n",
       "      <td>machine learning</td>\n",
       "      <td>Machine Learning Engineer</td>\n",
       "      <td>Berlin Startup Jobs</td>\n",
       "    </tr>\n",
       "    <tr>\n",
       "      <th>3</th>\n",
       "      <td>November</td>\n",
       "      <td>2017-10-02</td>\n",
       "      <td>Your mission:\\n\\nDevelopment of a scalable sof...</td>\n",
       "      <td>senior full stack php developer (f m)</td>\n",
       "      <td>Full Stack Developer</td>\n",
       "      <td>Berlin Startup Jobs</td>\n",
       "    </tr>\n",
       "    <tr>\n",
       "      <th>5</th>\n",
       "      <td>CrossEngage</td>\n",
       "      <td>2017-10-02</td>\n",
       "      <td>About CrossEngage\\nCrossEngage is a cloud-base...</td>\n",
       "      <td>data scientist</td>\n",
       "      <td>Data Scientist</td>\n",
       "      <td>Berlin Startup Jobs</td>\n",
       "    </tr>\n",
       "    <tr>\n",
       "      <th>6</th>\n",
       "      <td>Ruum</td>\n",
       "      <td>2017-10-02</td>\n",
       "      <td>If you’re passionate about learning new techno...</td>\n",
       "      <td>full stack developer</td>\n",
       "      <td>Full Stack Developer</td>\n",
       "      <td>Berlin Startup Jobs</td>\n",
       "    </tr>\n",
       "  </tbody>\n",
       "</table>\n",
       "</div>"
      ],
      "text/plain": [
       "   company_name        date  \\\n",
       "ID                            \n",
       "1        Fatmap  2017-10-02   \n",
       "2     AI Engine  2017-10-02   \n",
       "3      November  2017-10-02   \n",
       "5   CrossEngage  2017-10-02   \n",
       "6          Ruum  2017-10-02   \n",
       "\n",
       "                                          description  \\\n",
       "ID                                                      \n",
       "1   Role & Responsibility: \\n\\nYou’ll be building ...   \n",
       "2   AI Engine is developing innovative machine lea...   \n",
       "3   Your mission:\\n\\nDevelopment of a scalable sof...   \n",
       "5   About CrossEngage\\nCrossEngage is a cloud-base...   \n",
       "6   If you’re passionate about learning new techno...   \n",
       "\n",
       "                                 jobtitle                CleanTitles  \\\n",
       "ID                                                                     \n",
       "1                         mobile engineer       Mobile App Developer   \n",
       "2                        machine learning  Machine Learning Engineer   \n",
       "3   senior full stack php developer (f m)       Full Stack Developer   \n",
       "5                          data scientist             Data Scientist   \n",
       "6                    full stack developer       Full Stack Developer   \n",
       "\n",
       "                 source  \n",
       "ID                       \n",
       "1   Berlin Startup Jobs  \n",
       "2   Berlin Startup Jobs  \n",
       "3   Berlin Startup Jobs  \n",
       "5   Berlin Startup Jobs  \n",
       "6   Berlin Startup Jobs  "
      ]
     },
     "execution_count": 2,
     "metadata": {},
     "output_type": "execute_result"
    }
   ],
   "source": [
    "raw_data = pd.read_csv('../data-cleaning/Clean_JobTitles/dfclean.csv', index_col=0)\n",
    "raw_data.head()"
   ]
  },
  {
   "cell_type": "code",
   "execution_count": 3,
   "metadata": {},
   "outputs": [
    {
     "name": "stdout",
     "output_type": "stream",
     "text": [
      "<class 'pandas.core.frame.DataFrame'>\n",
      "Int64Index: 825 entries, 1 to 1887\n",
      "Data columns (total 6 columns):\n",
      "company_name    825 non-null object\n",
      "date            825 non-null object\n",
      "description     825 non-null object\n",
      "jobtitle        825 non-null object\n",
      "CleanTitles     825 non-null object\n",
      "source          825 non-null object\n",
      "dtypes: object(6)\n",
      "memory usage: 45.1+ KB\n"
     ]
    }
   ],
   "source": [
    "raw_data.info()"
   ]
  },
  {
   "cell_type": "code",
   "execution_count": 4,
   "metadata": {
    "collapsed": true
   },
   "outputs": [],
   "source": [
    "raw_data['description'] = raw_data['description'].str.lower()"
   ]
  },
  {
   "cell_type": "code",
   "execution_count": 5,
   "metadata": {},
   "outputs": [],
   "source": [
    "raw_data['description'] = raw_data['description'].astype(str).str.cat(raw_data['company_name'].astype(str), sep=' ').str.lower()"
   ]
  },
  {
   "cell_type": "code",
   "execution_count": 6,
   "metadata": {
    "collapsed": true
   },
   "outputs": [],
   "source": [
    "def create_clusters(dfname, searchfor,tag):\n",
    "    dfname= pd.DataFrame(raw_data['description'].str.contains('|'.join(searchfor)))\n",
    "    dfname= dfname[dfname['description']==True]\n",
    "    dfname['description']=tag\n",
    "    return dfname\n",
    "    "
   ]
  },
  {
   "cell_type": "code",
   "execution_count": 7,
   "metadata": {
    "collapsed": true
   },
   "outputs": [],
   "source": [
    "searchfor = ['free time off','parental leave','unlimited vacation','paid time off']\n",
    "freetime = create_clusters(dfname='freetime',searchfor=searchfor,tag='Time Off')"
   ]
  },
  {
   "cell_type": "code",
   "execution_count": 8,
   "metadata": {},
   "outputs": [
    {
     "data": {
      "text/html": [
       "<div>\n",
       "<style>\n",
       "    .dataframe thead tr:only-child th {\n",
       "        text-align: right;\n",
       "    }\n",
       "\n",
       "    .dataframe thead th {\n",
       "        text-align: left;\n",
       "    }\n",
       "\n",
       "    .dataframe tbody tr th {\n",
       "        vertical-align: top;\n",
       "    }\n",
       "</style>\n",
       "<table border=\"1\" class=\"dataframe\">\n",
       "  <thead>\n",
       "    <tr style=\"text-align: right;\">\n",
       "      <th></th>\n",
       "      <th>description</th>\n",
       "    </tr>\n",
       "    <tr>\n",
       "      <th>ID</th>\n",
       "      <th></th>\n",
       "    </tr>\n",
       "  </thead>\n",
       "  <tbody>\n",
       "    <tr>\n",
       "      <th>1597</th>\n",
       "      <td>Time Off</td>\n",
       "    </tr>\n",
       "  </tbody>\n",
       "</table>\n",
       "</div>"
      ],
      "text/plain": [
       "     description\n",
       "ID              \n",
       "1597    Time Off"
      ]
     },
     "execution_count": 8,
     "metadata": {},
     "output_type": "execute_result"
    }
   ],
   "source": [
    "freetime"
   ]
  },
  {
   "cell_type": "code",
   "execution_count": 9,
   "metadata": {
    "collapsed": true
   },
   "outputs": [],
   "source": [
    "searchfor1 = ['personal development',\n",
    " 'education budget',\n",
    " 'great mentors',\n",
    " 'career development',\n",
    " 'potential to develop ',\n",
    " 'career development',\n",
    " 'personal learning',\n",
    " 'trainings',\n",
    " 'workshops',\n",
    " 'conferences',\n",
    " 'training sessions',\n",
    " 'online learning',\n",
    " 'educational budget',\n",
    " 'coaching',\n",
    " 'mentoring',\n",
    " 'meetups',\n",
    " 'learn@work',\n",
    " 'external training budget',\n",
    " 'offered trainings',\n",
    " 'linkedin learning account',\n",
    " 'book allowance',\n",
    " 'shared kindles',\n",
    " 'personal development']\n",
    "personal_development = create_clusters(dfname='personal_development',searchfor=searchfor1,tag='Personal Development')"
   ]
  },
  {
   "cell_type": "code",
   "execution_count": 10,
   "metadata": {
    "collapsed": true
   },
   "outputs": [],
   "source": [
    "searchfor2 = [' sport ', ' gym ', ' yoga ', ' pilates ', ' massage ', 'gym membership']\n",
    "sport = create_clusters(dfname='sport',searchfor=searchfor2,tag='Sport')"
   ]
  },
  {
   "cell_type": "code",
   "execution_count": 11,
   "metadata": {
    "collapsed": true
   },
   "outputs": [],
   "source": [
    "searchfor3 = ['flexible schedules','working from home','flexible work time','flexible work hours',\n",
    "              ' flexible working hours','flexible schedules','home office','flexible schedule', 'flexible hours','remote work']\n",
    "flexible_schedule = create_clusters(dfname='flexible_schedule',searchfor=searchfor3,tag='Flexible Schedule')"
   ]
  },
  {
   "cell_type": "code",
   "execution_count": 12,
   "metadata": {
    "collapsed": true
   },
   "outputs": [],
   "source": [
    "searchfor4 = ['catered meals','free meal','free meals','team lunch','team breakfast','birthday cake',\n",
    "              'cake on your birthday','learning lunch','lunches','coffee','free coffee','free fruits','fruits',\n",
    "              'snacks','drink','subsidized lunch','bbq','cereals',' beer ','brunches',\n",
    "              'cocktail nights','cocktail']\n",
    "catered_meals = create_clusters(dfname='catered_meals',searchfor=searchfor4,tag='Catered Meals')"
   ]
  },
  {
   "cell_type": "code",
   "execution_count": 13,
   "metadata": {
    "collapsed": true
   },
   "outputs": [],
   "source": [
    "searchfor6 = ['team event','offsites','oktoberfest','company retreats','team event',\n",
    " 'fun events','office part','bbq','sport activities','thirsty thursdays',' fun ',\n",
    " 'parties','bbq','lunch and learn','bbqs','thirsty','birthday','retreat','offsite']\n",
    "team_events = create_clusters(dfname='team_events',searchfor=searchfor6,tag='Team Events')"
   ]
  },
  {
   "cell_type": "code",
   "execution_count": 14,
   "metadata": {
    "collapsed": true
   },
   "outputs": [],
   "source": [
    "searchfor7 = ['game room','ping pong''table soccer',' kicker','playstation','table tenis',\n",
    " 'pool table','ping-pong']\n",
    "games_rooms = create_clusters(dfname='games_rooms',searchfor=searchfor7,tag='Game Rooms')"
   ]
  },
  {
   "cell_type": "code",
   "execution_count": 15,
   "metadata": {
    "collapsed": true
   },
   "outputs": [],
   "source": [
    "searchfor8 = ['transportation allowance',\n",
    " ' bvg','company car','free transport','often travel','ability to travel','business travel','business trip']\n",
    "transportation = create_clusters(dfname='transportation ',searchfor=searchfor8,tag='Transportation Allowance')"
   ]
  },
  {
   "cell_type": "code",
   "execution_count": 16,
   "metadata": {
    "collapsed": true
   },
   "outputs": [],
   "source": [
    "searchfor9 = ['coffee','free coffee','free fruits','fruits','snacks','drinks','bbq','cereals','breakast club','free breakfast']\n",
    "breakfast = create_clusters(dfname='breakfast',searchfor=searchfor9,tag='Free Breakfast')"
   ]
  },
  {
   "cell_type": "code",
   "execution_count": 17,
   "metadata": {
    "collapsed": true
   },
   "outputs": [],
   "source": [
    "searchfor10 = ['pets are welcome','bring your pet',' pets','pet welcome',' pet ','bring your dog',' dogs']\n",
    "pets = create_clusters(dfname='pets',searchfor=searchfor10,tag='Pets Welcome')"
   ]
  },
  {
   "cell_type": "code",
   "execution_count": 18,
   "metadata": {
    "collapsed": true
   },
   "outputs": [],
   "source": [
    "searchfor11 = ['modern office','modern equipment','great office location','office space','heart of berlin',\n",
    " 'modern office','office terrace','free laptop','laptop of your choice','macbook','modern technologies','choose your laptop','best equipment',\n",
    " 'latest equipment','modern equipement','private telephone']\n",
    "modern_office = create_clusters(dfname='modern_office',searchfor=searchfor11,tag='Modern Office')"
   ]
  },
  {
   "cell_type": "code",
   "execution_count": 19,
   "metadata": {
    "collapsed": true
   },
   "outputs": [],
   "source": [
    "searchfor12 = ['free language','german class','free german and english','language course',\n",
    "               'learn german','learn english','language course','free german']\n",
    "languages = create_clusters(dfname='languages ',searchfor=searchfor12,tag='Free language courses')"
   ]
  },
  {
   "cell_type": "code",
   "execution_count": 20,
   "metadata": {
    "collapsed": true
   },
   "outputs": [],
   "source": [
    "searchfor13 = ['discounts','employee discount','company discount','special price']\n",
    "discounts = create_clusters(dfname='discounts',searchfor=searchfor13,tag='Discounts')"
   ]
  },
  {
   "cell_type": "code",
   "execution_count": 21,
   "metadata": {
    "collapsed": true
   },
   "outputs": [],
   "source": [
    "searchfor14 = ['visa ','relocation']\n",
    "relocation = create_clusters(dfname='relocation',searchfor=searchfor14,tag='Visa/Relocation')"
   ]
  },
  {
   "cell_type": "code",
   "execution_count": 22,
   "metadata": {
    "collapsed": true
   },
   "outputs": [],
   "source": [
    "searchfor15 = ['competitive pay','fair compensation','attractive compensation','competitive wage',\n",
    " 'competitive salary','equity option','stock option']\n",
    "compensation = create_clusters(dfname='compensation',searchfor=searchfor15,tag='Attractive Compensation')"
   ]
  },
  {
   "cell_type": "code",
   "execution_count": null,
   "metadata": {
    "collapsed": true
   },
   "outputs": [],
   "source": [
    "\n"
   ]
  },
  {
   "cell_type": "code",
   "execution_count": 23,
   "metadata": {
    "collapsed": true
   },
   "outputs": [],
   "source": [
    "a =freetime.append([compensation,relocation,discounts,languages,modern_office,pets,breakfast,transportation,games_rooms,\n",
    "                team_events,catered_meals,flexible_schedule,sport,personal_development]).reset_index().sort_values('ID')"
   ]
  },
  {
   "cell_type": "code",
   "execution_count": 24,
   "metadata": {
    "collapsed": true
   },
   "outputs": [],
   "source": [
    "a.columns = ['job_id','perk_name']\n",
    "perks = a.set_index('job_id')"
   ]
  },
  {
   "cell_type": "code",
   "execution_count": 25,
   "metadata": {},
   "outputs": [
    {
     "data": {
      "text/html": [
       "<div>\n",
       "<style>\n",
       "    .dataframe thead tr:only-child th {\n",
       "        text-align: right;\n",
       "    }\n",
       "\n",
       "    .dataframe thead th {\n",
       "        text-align: left;\n",
       "    }\n",
       "\n",
       "    .dataframe tbody tr th {\n",
       "        vertical-align: top;\n",
       "    }\n",
       "</style>\n",
       "<table border=\"1\" class=\"dataframe\">\n",
       "  <thead>\n",
       "    <tr style=\"text-align: right;\">\n",
       "      <th></th>\n",
       "      <th>perk_name</th>\n",
       "    </tr>\n",
       "    <tr>\n",
       "      <th>job_id</th>\n",
       "      <th></th>\n",
       "    </tr>\n",
       "  </thead>\n",
       "  <tbody>\n",
       "    <tr>\n",
       "      <th>1</th>\n",
       "      <td>Flexible Schedule</td>\n",
       "    </tr>\n",
       "    <tr>\n",
       "      <th>3</th>\n",
       "      <td>Catered Meals</td>\n",
       "    </tr>\n",
       "    <tr>\n",
       "      <th>3</th>\n",
       "      <td>Attractive Compensation</td>\n",
       "    </tr>\n",
       "    <tr>\n",
       "      <th>3</th>\n",
       "      <td>Personal Development</td>\n",
       "    </tr>\n",
       "    <tr>\n",
       "      <th>3</th>\n",
       "      <td>Free Breakfast</td>\n",
       "    </tr>\n",
       "    <tr>\n",
       "      <th>5</th>\n",
       "      <td>Team Events</td>\n",
       "    </tr>\n",
       "    <tr>\n",
       "      <th>5</th>\n",
       "      <td>Modern Office</td>\n",
       "    </tr>\n",
       "    <tr>\n",
       "      <th>5</th>\n",
       "      <td>Catered Meals</td>\n",
       "    </tr>\n",
       "    <tr>\n",
       "      <th>5</th>\n",
       "      <td>Free Breakfast</td>\n",
       "    </tr>\n",
       "    <tr>\n",
       "      <th>6</th>\n",
       "      <td>Personal Development</td>\n",
       "    </tr>\n",
       "  </tbody>\n",
       "</table>\n",
       "</div>"
      ],
      "text/plain": [
       "                      perk_name\n",
       "job_id                         \n",
       "1             Flexible Schedule\n",
       "3                 Catered Meals\n",
       "3       Attractive Compensation\n",
       "3          Personal Development\n",
       "3                Free Breakfast\n",
       "5                   Team Events\n",
       "5                 Modern Office\n",
       "5                 Catered Meals\n",
       "5                Free Breakfast\n",
       "6          Personal Development"
      ]
     },
     "execution_count": 25,
     "metadata": {},
     "output_type": "execute_result"
    }
   ],
   "source": [
    "perks.head(10)"
   ]
  },
  {
   "cell_type": "code",
   "execution_count": 26,
   "metadata": {
    "collapsed": true
   },
   "outputs": [],
   "source": [
    "perks_rawdata= pd.read_csv('Perks.csv')\n",
    "industry_rawdata = pd.read_csv('Industry.csv')"
   ]
  },
  {
   "cell_type": "code",
   "execution_count": 27,
   "metadata": {},
   "outputs": [
    {
     "data": {
      "text/plain": [
       "['attractive compensation',\n",
       " 'an attractive compensation package',\n",
       " '\\na competitive pay',\n",
       " 'fair compensation',\n",
       " 'attractive compensation',\n",
       " 'competitive wages',\n",
       " 'competitive salary',\n",
       " 'equity options',\n",
       " 'virtual stock options']"
      ]
     },
     "execution_count": 27,
     "metadata": {},
     "output_type": "execute_result"
    }
   ],
   "source": [
    "[x.lower() for x in list(perks_rawdata.iloc[15,:].dropna())]"
   ]
  },
  {
   "cell_type": "code",
   "execution_count": 28,
   "metadata": {},
   "outputs": [
    {
     "data": {
      "text/plain": [
       "['music',\n",
       " 'ableton',\n",
       " 'lofelt',\n",
       " 'native instruments',\n",
       " 'soundcloud',\n",
       " 'music industry',\n",
       " 'gruvit']"
      ]
     },
     "execution_count": 28,
     "metadata": {},
     "output_type": "execute_result"
    }
   ],
   "source": [
    "[x.lower() for x in list(industry_rawdata.iloc[14,:].dropna())]"
   ]
  },
  {
   "cell_type": "code",
   "execution_count": 29,
   "metadata": {},
   "outputs": [
    {
     "data": {
      "text/plain": [
       "'COMATCH'"
      ]
     },
     "execution_count": 29,
     "metadata": {},
     "output_type": "execute_result"
    }
   ],
   "source": [
    "raw_data.ix[254]['company_name']"
   ]
  },
  {
   "cell_type": "code",
   "execution_count": 30,
   "metadata": {},
   "outputs": [
    {
     "data": {
      "text/plain": [
       "'comatch connects independent consultants and industry experts with companies of any size and sector: the pool of more than 2600 handpicked consultants grows every day and helps start-ups, small and medium-sized businesses, consulting firms and enterprises to approach and master challenges. comatch acts fast, offers excellent consulting and focuses on personal relationships with all business partners. our aim is to become europe’s biggest consultant marketplace within the next years. to realize this vision, we need support and are currently looking for:\\njavascript developer (m/f)\\nyour responsibilities\\n\\nimplementing new features using the latest javascript (es2015)\\noptimising/refactoring parts of source code\\nhelping us automate testing by implementing a combination unit-, integration- and e2e-tests\\ncontributing to continual improvement by suggesting improvements to code architecture, processes or development tools\\nstaying up to date on meteor development and javascript development in general\\ncommunicating and coordinating with other team members to maximise our development efforts\\n\\nyour qualifications\\n\\nminimum 2 years of professional experience in javascript development\\nprevious experience with at least one professional meteor project (if no experience then ability/ willingness to rapidly get up to speed on a new framework is required)\\nprevious experience with mongodb is a great plus\\nenthusiasm to research and suggest solutions to new technical problems and drive to find a clean solution technical problems\\nstrong focus on code quality and long term maintenance\\nability to communicate and work well within a small team\\n\\nour offer\\n\\nimportant role in the international growth story of comatch with high autonomy and decision making power\\nhighly motivated and dynamic team with passion for business impact and fun working atmosphere\\ncool, centrally located office in berlin\\n\\nare you interested? we are looking forward to your call or your letter of application!\\nclaudia beutel | hr manager | telephone: +49-(0)30-85767542 | e-mail: c.beutel@comatch.com comatch'"
      ]
     },
     "execution_count": 30,
     "metadata": {},
     "output_type": "execute_result"
    }
   ],
   "source": [
    "raw_data.ix[254]['description']"
   ]
  },
  {
   "cell_type": "code",
   "execution_count": 31,
   "metadata": {},
   "outputs": [],
   "source": [
    "searchfori0 = ['ecommerce industry','auctionata','bjooli','bonial','bonagora','byebuy','coffee circle','dawanda',\n",
    "             'discounto','erento','flaconi ','home24','junique','kw-commerce','lesara','lyke',\n",
    " 'mirapodo','mister spex','modomoto','monoqi','outfittery','urbanara','runashop','vaola',\n",
    " 'visual meta','wine in black','zalando','e commerce industry','rebuy','e-commerce indu','online shop']\n",
    "eCommerce = create_clusters(dfname='eCommerce',searchfor=searchfori0,tag='e-commerce')"
   ]
  },
  {
   "cell_type": "code",
   "execution_count": 32,
   "metadata": {
    "collapsed": true
   },
   "outputs": [],
   "source": [
    "searchfori1 = ['adtech',\n",
    " 'ad2games',\n",
    " 'adjust',\n",
    " 'adsquare',\n",
    " 'applause',\n",
    " 'applift',\n",
    " 'crobo',\n",
    " 'contiama',\n",
    " 'datapine',\n",
    " 'deltamethod',\n",
    " 'fyber',\n",
    " 'glispa',\n",
    " 'gamegenetics',\n",
    " 'iconpeak',\n",
    " 'liquidm',\n",
    " 'mapegy',\n",
    " 'plista',\n",
    " 'roq.ad',\n",
    " 'remerge',\n",
    " 'sociomantic',\n",
    " 'trademob',\n",
    " 'webtrekk',\n",
    " 'yoc',\n",
    " 'ad-booking',\n",
    " 'ad booking',\n",
    " 'adtech',\n",
    " 'zeotap',\n",
    " 'adjust by adeven','ad tech', 'advertising platform', 'reach their customers', 'target customers','integrated solution','pubnative','saas solution','small improvements']\n",
    "adTech = create_clusters(dfname='adTech',searchfor=searchfori1,tag='AdTech')"
   ]
  },
  {
   "cell_type": "code",
   "execution_count": 33,
   "metadata": {
    "collapsed": true
   },
   "outputs": [],
   "source": [
    "searchfori2 = [\n",
    " 'barzahlen',\n",
    " 'billpay',\n",
    " 'bergfürst',\n",
    " 'bonify',\n",
    " 'brickgate',\n",
    " 'cashboard',\n",
    " 'finleap',\n",
    " 'liqid',\n",
    " 'mambu',\n",
    " 'number26',\n",
    " 'optiopay',\n",
    " 'orderbird',\n",
    " 'payleven',\n",
    " 'raisin',\n",
    " 'savedo',\n",
    " 'smava',\n",
    " 'solarisbank',\n",
    " 'fintech',\n",
    " 'financial industry','finreach','financial organisation','financial inst']\n",
    "finTech = create_clusters(dfname='finTech',searchfor=searchfori2,tag='FinTech')"
   ]
  },
  {
   "cell_type": "code",
   "execution_count": 34,
   "metadata": {
    "collapsed": true
   },
   "outputs": [],
   "source": [
    "searchfori3 = ['retail technology',\n",
    " 'inventorum',\n",
    " 'itembase',\n",
    " 'kaufda',\n",
    " 'käuferportal',\n",
    " 'locafox',\n",
    " 'minodes',\n",
    " 'newstore',\n",
    " 'products up',\n",
    " 'qipu',\n",
    " 'retail industry', 'retail']\n",
    "retailtech = create_clusters(dfname='retailtech',searchfor=searchfori3,tag='Retail Technology')"
   ]
  },
  {
   "cell_type": "code",
   "execution_count": 35,
   "metadata": {},
   "outputs": [],
   "source": [
    "searchfori4 = ['marketing solutions','marketing platform'\n",
    " 'basilicom',\n",
    " 'crossengage',\n",
    " 'contentful',\n",
    " 'dcmn',\n",
    " 'dc media networks',\n",
    " 'digitaleseiten',\n",
    " 'fanpage karma',\n",
    " 'kyto',\n",
    " 'linkbird',\n",
    " 'newsletter2go',\n",
    " 'optivo',\n",
    " 'uberall',\n",
    " 'ubermetrics',\n",
    " 'styla',\n",
    " 'zanox',\n",
    " 'goedle.io',\n",
    " 'retentiongrid',\n",
    " 'wunderdata','chartmogul']\n",
    "marketingsol = create_clusters(dfname='marketingsol',searchfor=searchfori4,tag='Marketing Solutions')"
   ]
  },
  {
   "cell_type": "code",
   "execution_count": 36,
   "metadata": {},
   "outputs": [],
   "source": [
    "searchfori5 = [\n",
    " 'aeria games',\n",
    " 'crowdpark',\n",
    " 'fox & sheep',\n",
    " 'gameduell',\n",
    " 'kabam',\n",
    " ' king',\n",
    " 'softgames',\n",
    " 'treasurehuntstudios',\n",
    " 'wooga',\n",
    " 'gaming industry',\n",
    " 'game industry',\n",
    " 'game creation',\n",
    " 'game development',\n",
    " 'game creation',\n",
    " 'neriad games', 'gaming','fox and sheep']\n",
    "games = create_clusters(dfname='games',searchfor=searchfori5,tag='Game')"
   ]
  },
  {
   "cell_type": "code",
   "execution_count": 37,
   "metadata": {
    "collapsed": true
   },
   "outputs": [],
   "source": [
    "searchfori6 = [\n",
    " 'dushmash',\n",
    " 'eyeem',\n",
    " 'kitchen stories',\n",
    " 'memorado',\n",
    " 'mytaxi',\n",
    " 'onefootball',\n",
    " 'parktag',\n",
    " 'tvsmiles', 'our app ', 'an app ', 'the app ','our new mobile apps']\n",
    "app= create_clusters(dfname='app',searchfor=searchfori6,tag='App')"
   ]
  },
  {
   "cell_type": "code",
   "execution_count": 38,
   "metadata": {
    "collapsed": true
   },
   "outputs": [],
   "source": [
    "searchfori7 = [\n",
    " ' clue',\n",
    " 'mediteo',\n",
    " 'meedoc',\n",
    " 'medexo',\n",
    " 'medigo',\n",
    " 'neuronation',\n",
    " 'sanubi',\n",
    " 'health industry',\n",
    " 'medlanes',\n",
    " 'humanoo', 'healthcare industry', \" health \",'mindspace',\n",
    "    'heartbeat medical','audibene', 'dentolo','thalamed', 'patient','egym','workout']\n",
    "health= create_clusters(dfname='health',searchfor=searchfori7,tag='Health')"
   ]
  },
  {
   "cell_type": "code",
   "execution_count": 39,
   "metadata": {
    "collapsed": true
   },
   "outputs": [],
   "source": [
    "searchfori8 = ['edutech',\n",
    " 'babbel',\n",
    " 'blinkist',\n",
    " 'inversity',\n",
    " 'k.lab edumedia',\n",
    " 'research gate',\n",
    " 'skive',\n",
    " 'sofatutor',\n",
    " 'education industry',\n",
    " 'akdemia',\n",
    " 'preply',\n",
    " 'unlockyourbrain',\n",
    " 'liberio',\n",
    " 'skive',\n",
    " 'vismath', 'learning app', 'learning platform', 'learning online']\n",
    "edutech= create_clusters(dfname='edutech',searchfor=searchfori8,tag='EduTech')"
   ]
  },
  {
   "cell_type": "code",
   "execution_count": 40,
   "metadata": {
    "collapsed": true
   },
   "outputs": [],
   "source": [
    "searchfori9 = ['food delivery',\n",
    " 'bonativo',\n",
    " 'deliveroo',\n",
    " 'delivery hero',\n",
    " 'eatfirst',\n",
    " 'foodora',\n",
    " 'foodpanda',\n",
    " 'hellofresh',\n",
    " 'marley spoon',\n",
    " 'food industry',\n",
    " 'food delivery',\n",
    " 'wine in black', 'foodspring','food delivered']\n",
    "food = create_clusters(dfname='food',searchfor=searchfori9,tag='Food Delivery')"
   ]
  },
  {
   "cell_type": "code",
   "execution_count": 41,
   "metadata": {
    "collapsed": true
   },
   "outputs": [],
   "source": [
    "searchfori10 = [\n",
    " 'abroadwith',\n",
    " 'getyourguide',\n",
    " 'goeuro',\n",
    " 'guestbird',\n",
    " 'holidaypirates',\n",
    " 'suitepad',\n",
    " 'wimdu',\n",
    " 'zizoo',\n",
    " 'travel industry','travellers','travelling']\n",
    "travel = create_clusters(dfname='travel',searchfor=searchfori10,tag='Travel')"
   ]
  },
  {
   "cell_type": "code",
   "execution_count": 42,
   "metadata": {
    "collapsed": true
   },
   "outputs": [],
   "source": [
    "searchfori11 = [\n",
    " 'auto1 group',\n",
    " 'blacklane',\n",
    " 'book a tiger',\n",
    " 'carmudi',\n",
    " 'helpling',\n",
    " 'service partner one',\n",
    " 'thermondo',\n",
    " 'vimcar',\n",
    " 'cleaning industry',\n",
    " 'car booking',\n",
    " 'yachtico',\n",
    " 'ondango', 'book a car', 'cleaner', 'yacht', 'boat', 'funeral market', 'auto1.com','automotive industry']\n",
    "service = create_clusters(dfname='service',searchfor=searchfori11,tag='Service')"
   ]
  },
  {
   "cell_type": "code",
   "execution_count": 43,
   "metadata": {
    "collapsed": true
   },
   "outputs": [],
   "source": [
    "searchfori12 = ['comatch',\n",
    " 'gohiring',\n",
    " 'honeypot',\n",
    " 'heavenhr',\n",
    " 'tandemploy',\n",
    " 'viasto',\n",
    " 'human ressource industry',\n",
    " 'hr industry',\n",
    " 'human ressources industry','recruitment agency', 'recruitment agency','recruiting agency']\n",
    "hr = create_clusters(dfname='hr',searchfor=searchfori12,tag='HR')"
   ]
  },
  {
   "cell_type": "code",
   "execution_count": 44,
   "metadata": {
    "collapsed": true
   },
   "outputs": [],
   "source": [
    "searchfori13 = [\n",
    " 'lamudi',\n",
    " 'immobilienscout',\n",
    " 'mcmakler',\n",
    " 'mykeys24',\n",
    " 'movago',\n",
    " 'real estate', 'book a flat', 'find an accommodation','moving abroad','find a flat','movinga','immobilien scout']\n",
    "realestate = create_clusters(dfname='realestate',searchfor=searchfori13,tag='Real Estate')"
   ]
  },
  {
   "cell_type": "code",
   "execution_count": 45,
   "metadata": {
    "collapsed": true
   },
   "outputs": [],
   "source": [
    "searchfori14 = ['ableton',\n",
    " 'lofelt',\n",
    " 'native instruments',\n",
    " 'music industry',\n",
    " 'gruvit','native instruments','music streaming']\n",
    "music = create_clusters(dfname='music',searchfor=searchfori14,tag='Music')"
   ]
  },
  {
   "cell_type": "code",
   "execution_count": 46,
   "metadata": {
    "collapsed": true
   },
   "outputs": [],
   "source": [
    "b =music.append([realestate,hr,service,travel,edutech,health,app,games,marketingsol,retailtech,finTech,adTech,eCommerce]).reset_index().sort_values('ID')"
   ]
  },
  {
   "cell_type": "code",
   "execution_count": 47,
   "metadata": {
    "collapsed": true
   },
   "outputs": [],
   "source": [
    "b.columns = ['job_id','industry_name']\n",
    "industry = b.set_index('job_id').reset_index()"
   ]
  },
  {
   "cell_type": "code",
   "execution_count": 48,
   "metadata": {},
   "outputs": [
    {
     "data": {
      "text/html": [
       "<div>\n",
       "<style>\n",
       "    .dataframe thead tr:only-child th {\n",
       "        text-align: right;\n",
       "    }\n",
       "\n",
       "    .dataframe thead th {\n",
       "        text-align: left;\n",
       "    }\n",
       "\n",
       "    .dataframe tbody tr th {\n",
       "        vertical-align: top;\n",
       "    }\n",
       "</style>\n",
       "<table border=\"1\" class=\"dataframe\">\n",
       "  <thead>\n",
       "    <tr style=\"text-align: right;\">\n",
       "      <th></th>\n",
       "      <th>job_id</th>\n",
       "      <th>industry_name</th>\n",
       "    </tr>\n",
       "  </thead>\n",
       "  <tbody>\n",
       "    <tr>\n",
       "      <th>0</th>\n",
       "      <td>1</td>\n",
       "      <td>App</td>\n",
       "    </tr>\n",
       "    <tr>\n",
       "      <th>1</th>\n",
       "      <td>3</td>\n",
       "      <td>Service</td>\n",
       "    </tr>\n",
       "    <tr>\n",
       "      <th>2</th>\n",
       "      <td>5</td>\n",
       "      <td>Marketing Solutions</td>\n",
       "    </tr>\n",
       "    <tr>\n",
       "      <th>3</th>\n",
       "      <td>6</td>\n",
       "      <td>Health</td>\n",
       "    </tr>\n",
       "    <tr>\n",
       "      <th>4</th>\n",
       "      <td>7</td>\n",
       "      <td>Service</td>\n",
       "    </tr>\n",
       "  </tbody>\n",
       "</table>\n",
       "</div>"
      ],
      "text/plain": [
       "   job_id        industry_name\n",
       "0       1                  App\n",
       "1       3              Service\n",
       "2       5  Marketing Solutions\n",
       "3       6               Health\n",
       "4       7              Service"
      ]
     },
     "execution_count": 48,
     "metadata": {},
     "output_type": "execute_result"
    }
   ],
   "source": [
    "industry.head()"
   ]
  },
  {
   "cell_type": "code",
   "execution_count": 49,
   "metadata": {
    "collapsed": true
   },
   "outputs": [],
   "source": [
    "counting = pd.DataFrame(industry['industry_name'].value_counts()).reset_index()"
   ]
  },
  {
   "cell_type": "code",
   "execution_count": 50,
   "metadata": {},
   "outputs": [],
   "source": [
    "counting.columns =('industry_name','Counts')"
   ]
  },
  {
   "cell_type": "code",
   "execution_count": 51,
   "metadata": {},
   "outputs": [],
   "source": [
    "df = pd.merge(industry,counting, how = 'left', on = 'industry_name')\n",
    "df = df.sort_values(['industry_name','Counts','job_id'],ascending= False)\n",
    "df_final = df.drop_duplicates(subset=('job_id'), keep=\"first\")"
   ]
  },
  {
   "cell_type": "code",
   "execution_count": 52,
   "metadata": {},
   "outputs": [
    {
     "data": {
      "text/html": [
       "<div>\n",
       "<style>\n",
       "    .dataframe thead tr:only-child th {\n",
       "        text-align: right;\n",
       "    }\n",
       "\n",
       "    .dataframe thead th {\n",
       "        text-align: left;\n",
       "    }\n",
       "\n",
       "    .dataframe tbody tr th {\n",
       "        vertical-align: top;\n",
       "    }\n",
       "</style>\n",
       "<table border=\"1\" class=\"dataframe\">\n",
       "  <thead>\n",
       "    <tr style=\"text-align: right;\">\n",
       "      <th></th>\n",
       "      <th>job_id</th>\n",
       "      <th>industry_name</th>\n",
       "      <th>Counts</th>\n",
       "    </tr>\n",
       "  </thead>\n",
       "  <tbody>\n",
       "    <tr>\n",
       "      <th>391</th>\n",
       "      <td>1877</td>\n",
       "      <td>e-commerce</td>\n",
       "      <td>54</td>\n",
       "    </tr>\n",
       "    <tr>\n",
       "      <th>389</th>\n",
       "      <td>1869</td>\n",
       "      <td>e-commerce</td>\n",
       "      <td>54</td>\n",
       "    </tr>\n",
       "    <tr>\n",
       "      <th>388</th>\n",
       "      <td>1868</td>\n",
       "      <td>e-commerce</td>\n",
       "      <td>54</td>\n",
       "    </tr>\n",
       "    <tr>\n",
       "      <th>381</th>\n",
       "      <td>1854</td>\n",
       "      <td>e-commerce</td>\n",
       "      <td>54</td>\n",
       "    </tr>\n",
       "    <tr>\n",
       "      <th>379</th>\n",
       "      <td>1850</td>\n",
       "      <td>e-commerce</td>\n",
       "      <td>54</td>\n",
       "    </tr>\n",
       "    <tr>\n",
       "      <th>378</th>\n",
       "      <td>1846</td>\n",
       "      <td>e-commerce</td>\n",
       "      <td>54</td>\n",
       "    </tr>\n",
       "    <tr>\n",
       "      <th>376</th>\n",
       "      <td>1841</td>\n",
       "      <td>e-commerce</td>\n",
       "      <td>54</td>\n",
       "    </tr>\n",
       "    <tr>\n",
       "      <th>374</th>\n",
       "      <td>1835</td>\n",
       "      <td>e-commerce</td>\n",
       "      <td>54</td>\n",
       "    </tr>\n",
       "    <tr>\n",
       "      <th>370</th>\n",
       "      <td>1824</td>\n",
       "      <td>e-commerce</td>\n",
       "      <td>54</td>\n",
       "    </tr>\n",
       "    <tr>\n",
       "      <th>368</th>\n",
       "      <td>1823</td>\n",
       "      <td>e-commerce</td>\n",
       "      <td>54</td>\n",
       "    </tr>\n",
       "    <tr>\n",
       "      <th>367</th>\n",
       "      <td>1815</td>\n",
       "      <td>e-commerce</td>\n",
       "      <td>54</td>\n",
       "    </tr>\n",
       "    <tr>\n",
       "      <th>355</th>\n",
       "      <td>1799</td>\n",
       "      <td>e-commerce</td>\n",
       "      <td>54</td>\n",
       "    </tr>\n",
       "    <tr>\n",
       "      <th>352</th>\n",
       "      <td>1795</td>\n",
       "      <td>e-commerce</td>\n",
       "      <td>54</td>\n",
       "    </tr>\n",
       "    <tr>\n",
       "      <th>348</th>\n",
       "      <td>1786</td>\n",
       "      <td>e-commerce</td>\n",
       "      <td>54</td>\n",
       "    </tr>\n",
       "    <tr>\n",
       "      <th>346</th>\n",
       "      <td>1783</td>\n",
       "      <td>e-commerce</td>\n",
       "      <td>54</td>\n",
       "    </tr>\n",
       "    <tr>\n",
       "      <th>342</th>\n",
       "      <td>1779</td>\n",
       "      <td>e-commerce</td>\n",
       "      <td>54</td>\n",
       "    </tr>\n",
       "    <tr>\n",
       "      <th>341</th>\n",
       "      <td>1776</td>\n",
       "      <td>e-commerce</td>\n",
       "      <td>54</td>\n",
       "    </tr>\n",
       "    <tr>\n",
       "      <th>333</th>\n",
       "      <td>1756</td>\n",
       "      <td>e-commerce</td>\n",
       "      <td>54</td>\n",
       "    </tr>\n",
       "    <tr>\n",
       "      <th>332</th>\n",
       "      <td>1755</td>\n",
       "      <td>e-commerce</td>\n",
       "      <td>54</td>\n",
       "    </tr>\n",
       "    <tr>\n",
       "      <th>331</th>\n",
       "      <td>1754</td>\n",
       "      <td>e-commerce</td>\n",
       "      <td>54</td>\n",
       "    </tr>\n",
       "    <tr>\n",
       "      <th>324</th>\n",
       "      <td>1747</td>\n",
       "      <td>e-commerce</td>\n",
       "      <td>54</td>\n",
       "    </tr>\n",
       "    <tr>\n",
       "      <th>321</th>\n",
       "      <td>1746</td>\n",
       "      <td>e-commerce</td>\n",
       "      <td>54</td>\n",
       "    </tr>\n",
       "    <tr>\n",
       "      <th>316</th>\n",
       "      <td>1736</td>\n",
       "      <td>e-commerce</td>\n",
       "      <td>54</td>\n",
       "    </tr>\n",
       "    <tr>\n",
       "      <th>314</th>\n",
       "      <td>1734</td>\n",
       "      <td>e-commerce</td>\n",
       "      <td>54</td>\n",
       "    </tr>\n",
       "    <tr>\n",
       "      <th>311</th>\n",
       "      <td>1732</td>\n",
       "      <td>e-commerce</td>\n",
       "      <td>54</td>\n",
       "    </tr>\n",
       "    <tr>\n",
       "      <th>307</th>\n",
       "      <td>1723</td>\n",
       "      <td>e-commerce</td>\n",
       "      <td>54</td>\n",
       "    </tr>\n",
       "    <tr>\n",
       "      <th>304</th>\n",
       "      <td>1712</td>\n",
       "      <td>e-commerce</td>\n",
       "      <td>54</td>\n",
       "    </tr>\n",
       "    <tr>\n",
       "      <th>302</th>\n",
       "      <td>1704</td>\n",
       "      <td>e-commerce</td>\n",
       "      <td>54</td>\n",
       "    </tr>\n",
       "    <tr>\n",
       "      <th>301</th>\n",
       "      <td>1703</td>\n",
       "      <td>e-commerce</td>\n",
       "      <td>54</td>\n",
       "    </tr>\n",
       "    <tr>\n",
       "      <th>298</th>\n",
       "      <td>1700</td>\n",
       "      <td>e-commerce</td>\n",
       "      <td>54</td>\n",
       "    </tr>\n",
       "    <tr>\n",
       "      <th>...</th>\n",
       "      <td>...</td>\n",
       "      <td>...</td>\n",
       "      <td>...</td>\n",
       "    </tr>\n",
       "    <tr>\n",
       "      <th>273</th>\n",
       "      <td>1628</td>\n",
       "      <td>AdTech</td>\n",
       "      <td>51</td>\n",
       "    </tr>\n",
       "    <tr>\n",
       "      <th>248</th>\n",
       "      <td>1583</td>\n",
       "      <td>AdTech</td>\n",
       "      <td>51</td>\n",
       "    </tr>\n",
       "    <tr>\n",
       "      <th>241</th>\n",
       "      <td>1567</td>\n",
       "      <td>AdTech</td>\n",
       "      <td>51</td>\n",
       "    </tr>\n",
       "    <tr>\n",
       "      <th>240</th>\n",
       "      <td>1566</td>\n",
       "      <td>AdTech</td>\n",
       "      <td>51</td>\n",
       "    </tr>\n",
       "    <tr>\n",
       "      <th>239</th>\n",
       "      <td>1565</td>\n",
       "      <td>AdTech</td>\n",
       "      <td>51</td>\n",
       "    </tr>\n",
       "    <tr>\n",
       "      <th>238</th>\n",
       "      <td>1564</td>\n",
       "      <td>AdTech</td>\n",
       "      <td>51</td>\n",
       "    </tr>\n",
       "    <tr>\n",
       "      <th>237</th>\n",
       "      <td>1563</td>\n",
       "      <td>AdTech</td>\n",
       "      <td>51</td>\n",
       "    </tr>\n",
       "    <tr>\n",
       "      <th>215</th>\n",
       "      <td>484</td>\n",
       "      <td>AdTech</td>\n",
       "      <td>51</td>\n",
       "    </tr>\n",
       "    <tr>\n",
       "      <th>195</th>\n",
       "      <td>456</td>\n",
       "      <td>AdTech</td>\n",
       "      <td>51</td>\n",
       "    </tr>\n",
       "    <tr>\n",
       "      <th>194</th>\n",
       "      <td>454</td>\n",
       "      <td>AdTech</td>\n",
       "      <td>51</td>\n",
       "    </tr>\n",
       "    <tr>\n",
       "      <th>193</th>\n",
       "      <td>453</td>\n",
       "      <td>AdTech</td>\n",
       "      <td>51</td>\n",
       "    </tr>\n",
       "    <tr>\n",
       "      <th>184</th>\n",
       "      <td>430</td>\n",
       "      <td>AdTech</td>\n",
       "      <td>51</td>\n",
       "    </tr>\n",
       "    <tr>\n",
       "      <th>172</th>\n",
       "      <td>409</td>\n",
       "      <td>AdTech</td>\n",
       "      <td>51</td>\n",
       "    </tr>\n",
       "    <tr>\n",
       "      <th>150</th>\n",
       "      <td>348</td>\n",
       "      <td>AdTech</td>\n",
       "      <td>51</td>\n",
       "    </tr>\n",
       "    <tr>\n",
       "      <th>140</th>\n",
       "      <td>309</td>\n",
       "      <td>AdTech</td>\n",
       "      <td>51</td>\n",
       "    </tr>\n",
       "    <tr>\n",
       "      <th>102</th>\n",
       "      <td>234</td>\n",
       "      <td>AdTech</td>\n",
       "      <td>51</td>\n",
       "    </tr>\n",
       "    <tr>\n",
       "      <th>100</th>\n",
       "      <td>226</td>\n",
       "      <td>AdTech</td>\n",
       "      <td>51</td>\n",
       "    </tr>\n",
       "    <tr>\n",
       "      <th>93</th>\n",
       "      <td>206</td>\n",
       "      <td>AdTech</td>\n",
       "      <td>51</td>\n",
       "    </tr>\n",
       "    <tr>\n",
       "      <th>89</th>\n",
       "      <td>195</td>\n",
       "      <td>AdTech</td>\n",
       "      <td>51</td>\n",
       "    </tr>\n",
       "    <tr>\n",
       "      <th>82</th>\n",
       "      <td>180</td>\n",
       "      <td>AdTech</td>\n",
       "      <td>51</td>\n",
       "    </tr>\n",
       "    <tr>\n",
       "      <th>77</th>\n",
       "      <td>170</td>\n",
       "      <td>AdTech</td>\n",
       "      <td>51</td>\n",
       "    </tr>\n",
       "    <tr>\n",
       "      <th>73</th>\n",
       "      <td>161</td>\n",
       "      <td>AdTech</td>\n",
       "      <td>51</td>\n",
       "    </tr>\n",
       "    <tr>\n",
       "      <th>69</th>\n",
       "      <td>147</td>\n",
       "      <td>AdTech</td>\n",
       "      <td>51</td>\n",
       "    </tr>\n",
       "    <tr>\n",
       "      <th>66</th>\n",
       "      <td>145</td>\n",
       "      <td>AdTech</td>\n",
       "      <td>51</td>\n",
       "    </tr>\n",
       "    <tr>\n",
       "      <th>32</th>\n",
       "      <td>64</td>\n",
       "      <td>AdTech</td>\n",
       "      <td>51</td>\n",
       "    </tr>\n",
       "    <tr>\n",
       "      <th>18</th>\n",
       "      <td>29</td>\n",
       "      <td>AdTech</td>\n",
       "      <td>51</td>\n",
       "    </tr>\n",
       "    <tr>\n",
       "      <th>10</th>\n",
       "      <td>17</td>\n",
       "      <td>AdTech</td>\n",
       "      <td>51</td>\n",
       "    </tr>\n",
       "    <tr>\n",
       "      <th>7</th>\n",
       "      <td>11</td>\n",
       "      <td>AdTech</td>\n",
       "      <td>51</td>\n",
       "    </tr>\n",
       "    <tr>\n",
       "      <th>6</th>\n",
       "      <td>10</td>\n",
       "      <td>AdTech</td>\n",
       "      <td>51</td>\n",
       "    </tr>\n",
       "    <tr>\n",
       "      <th>5</th>\n",
       "      <td>8</td>\n",
       "      <td>AdTech</td>\n",
       "      <td>51</td>\n",
       "    </tr>\n",
       "  </tbody>\n",
       "</table>\n",
       "<p>335 rows × 3 columns</p>\n",
       "</div>"
      ],
      "text/plain": [
       "     job_id industry_name  Counts\n",
       "391    1877    e-commerce      54\n",
       "389    1869    e-commerce      54\n",
       "388    1868    e-commerce      54\n",
       "381    1854    e-commerce      54\n",
       "379    1850    e-commerce      54\n",
       "378    1846    e-commerce      54\n",
       "376    1841    e-commerce      54\n",
       "374    1835    e-commerce      54\n",
       "370    1824    e-commerce      54\n",
       "368    1823    e-commerce      54\n",
       "367    1815    e-commerce      54\n",
       "355    1799    e-commerce      54\n",
       "352    1795    e-commerce      54\n",
       "348    1786    e-commerce      54\n",
       "346    1783    e-commerce      54\n",
       "342    1779    e-commerce      54\n",
       "341    1776    e-commerce      54\n",
       "333    1756    e-commerce      54\n",
       "332    1755    e-commerce      54\n",
       "331    1754    e-commerce      54\n",
       "324    1747    e-commerce      54\n",
       "321    1746    e-commerce      54\n",
       "316    1736    e-commerce      54\n",
       "314    1734    e-commerce      54\n",
       "311    1732    e-commerce      54\n",
       "307    1723    e-commerce      54\n",
       "304    1712    e-commerce      54\n",
       "302    1704    e-commerce      54\n",
       "301    1703    e-commerce      54\n",
       "298    1700    e-commerce      54\n",
       "..      ...           ...     ...\n",
       "273    1628        AdTech      51\n",
       "248    1583        AdTech      51\n",
       "241    1567        AdTech      51\n",
       "240    1566        AdTech      51\n",
       "239    1565        AdTech      51\n",
       "238    1564        AdTech      51\n",
       "237    1563        AdTech      51\n",
       "215     484        AdTech      51\n",
       "195     456        AdTech      51\n",
       "194     454        AdTech      51\n",
       "193     453        AdTech      51\n",
       "184     430        AdTech      51\n",
       "172     409        AdTech      51\n",
       "150     348        AdTech      51\n",
       "140     309        AdTech      51\n",
       "102     234        AdTech      51\n",
       "100     226        AdTech      51\n",
       "93      206        AdTech      51\n",
       "89      195        AdTech      51\n",
       "82      180        AdTech      51\n",
       "77      170        AdTech      51\n",
       "73      161        AdTech      51\n",
       "69      147        AdTech      51\n",
       "66      145        AdTech      51\n",
       "32       64        AdTech      51\n",
       "18       29        AdTech      51\n",
       "10       17        AdTech      51\n",
       "7        11        AdTech      51\n",
       "6        10        AdTech      51\n",
       "5         8        AdTech      51\n",
       "\n",
       "[335 rows x 3 columns]"
      ]
     },
     "execution_count": 52,
     "metadata": {},
     "output_type": "execute_result"
    }
   ],
   "source": [
    "df_final"
   ]
  },
  {
   "cell_type": "code",
   "execution_count": 53,
   "metadata": {},
   "outputs": [],
   "source": [
    "industry = df_final[['job_id','industry_name']]"
   ]
  },
  {
   "cell_type": "code",
   "execution_count": 54,
   "metadata": {
    "scrolled": false
   },
   "outputs": [],
   "source": [
    "data = raw_data.reset_index()\n"
   ]
  },
  {
   "cell_type": "code",
   "execution_count": 55,
   "metadata": {},
   "outputs": [],
   "source": [
    "import numpy as np "
   ]
  },
  {
   "cell_type": "code",
   "execution_count": 56,
   "metadata": {
    "collapsed": true
   },
   "outputs": [],
   "source": [
    "list1 = list(data['ID'])\n",
    "list2 = list(industry['job_id'])\n",
    "main_list = np.setdiff1d(list1,list2)"
   ]
  },
  {
   "cell_type": "code",
   "execution_count": 57,
   "metadata": {},
   "outputs": [],
   "source": [
    "main_list = np.setdiff1d(list1,list2)"
   ]
  },
  {
   "cell_type": "code",
   "execution_count": 58,
   "metadata": {},
   "outputs": [],
   "source": [
    "others = pd.DataFrame(main_list)\n",
    "others['industry'] = 'Other'\n",
    "others.columns =['job_id','industry_name']\n",
    "industry_final = others.append(industry)"
   ]
  },
  {
   "cell_type": "code",
   "execution_count": 59,
   "metadata": {},
   "outputs": [],
   "source": [
    "industry_final = industry_final.sort_values('job_id')\n",
    "industry_final = industry_final.head().set_index('job_id')\n"
   ]
  },
  {
   "cell_type": "code",
   "execution_count": 60,
   "metadata": {},
   "outputs": [
    {
     "data": {
      "text/html": [
       "<div>\n",
       "<style>\n",
       "    .dataframe thead tr:only-child th {\n",
       "        text-align: right;\n",
       "    }\n",
       "\n",
       "    .dataframe thead th {\n",
       "        text-align: left;\n",
       "    }\n",
       "\n",
       "    .dataframe tbody tr th {\n",
       "        vertical-align: top;\n",
       "    }\n",
       "</style>\n",
       "<table border=\"1\" class=\"dataframe\">\n",
       "  <thead>\n",
       "    <tr style=\"text-align: right;\">\n",
       "      <th></th>\n",
       "      <th>industry_name</th>\n",
       "    </tr>\n",
       "    <tr>\n",
       "      <th>job_id</th>\n",
       "      <th></th>\n",
       "    </tr>\n",
       "  </thead>\n",
       "  <tbody>\n",
       "    <tr>\n",
       "      <th>1</th>\n",
       "      <td>App</td>\n",
       "    </tr>\n",
       "    <tr>\n",
       "      <th>2</th>\n",
       "      <td>Other</td>\n",
       "    </tr>\n",
       "    <tr>\n",
       "      <th>3</th>\n",
       "      <td>Service</td>\n",
       "    </tr>\n",
       "    <tr>\n",
       "      <th>5</th>\n",
       "      <td>Marketing Solutions</td>\n",
       "    </tr>\n",
       "    <tr>\n",
       "      <th>6</th>\n",
       "      <td>Health</td>\n",
       "    </tr>\n",
       "  </tbody>\n",
       "</table>\n",
       "</div>"
      ],
      "text/plain": [
       "              industry_name\n",
       "job_id                     \n",
       "1                       App\n",
       "2                     Other\n",
       "3                   Service\n",
       "5       Marketing Solutions\n",
       "6                    Health"
      ]
     },
     "execution_count": 60,
     "metadata": {},
     "output_type": "execute_result"
    }
   ],
   "source": [
    "industry_final.head()"
   ]
  },
  {
   "cell_type": "markdown",
   "metadata": {},
   "source": [
    "**9. Send the tables to the database**"
   ]
  },
  {
   "cell_type": "code",
   "execution_count": 61,
   "metadata": {
    "collapsed": true
   },
   "outputs": [],
   "source": [
    "perks.to_sql('Perks', conn, if_exists='replace')\n",
    "industry_final.to_sql('Industry', conn, if_exists='replace')"
   ]
  }
 ],
 "metadata": {
  "kernelspec": {
   "display_name": "Python 3",
   "language": "python",
   "name": "python3"
  },
  "language_info": {
   "codemirror_mode": {
    "name": "ipython",
    "version": 3
   },
   "file_extension": ".py",
   "mimetype": "text/x-python",
   "name": "python",
   "nbconvert_exporter": "python",
   "pygments_lexer": "ipython3",
   "version": "3.6.2"
  }
 },
 "nbformat": 4,
 "nbformat_minor": 2
}
