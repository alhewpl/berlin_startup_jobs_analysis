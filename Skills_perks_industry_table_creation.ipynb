{
 "cells": [
  {
   "cell_type": "markdown",
   "metadata": {},
   "source": [
    "# NLTK application"
   ]
  },
  {
   "cell_type": "markdown",
   "metadata": {},
   "source": [
    "**1. Imports and databse connection**"
   ]
  },
  {
   "cell_type": "code",
   "execution_count": 1,
   "metadata": {},
   "outputs": [],
   "source": [
    "import nltk\n",
    "import sqlite3\n",
    "import pandas as pd\n",
    "import string\n",
    "import regex as re \n",
    "\n",
    "import warnings\n",
    "warnings.filterwarnings('ignore')\n",
    "\n",
    "from nltk.tokenize import TweetTokenizer\n",
    "from nltk.tokenize import MWETokenizer\n",
    "from nltk.corpus import stopwords\n",
    "\n",
    "conn = sqlite3.connect('/Users/ograndberry/Desktop/berlin_startup_jobs_analysis/bsj_db.db')\n",
    "c = conn.cursor()"
   ]
  },
  {
   "cell_type": "markdown",
   "metadata": {},
   "source": [
    "**2. Get the raw data**"
   ]
  },
  {
   "cell_type": "code",
   "execution_count": 2,
   "metadata": {},
   "outputs": [
    {
     "data": {
      "text/html": [
       "<div>\n",
       "<style>\n",
       "    .dataframe thead tr:only-child th {\n",
       "        text-align: right;\n",
       "    }\n",
       "\n",
       "    .dataframe thead th {\n",
       "        text-align: left;\n",
       "    }\n",
       "\n",
       "    .dataframe tbody tr th {\n",
       "        vertical-align: top;\n",
       "    }\n",
       "</style>\n",
       "<table border=\"1\" class=\"dataframe\">\n",
       "  <thead>\n",
       "    <tr style=\"text-align: right;\">\n",
       "      <th></th>\n",
       "      <th>id</th>\n",
       "      <th>company_name</th>\n",
       "      <th>jobtitle</th>\n",
       "      <th>description</th>\n",
       "    </tr>\n",
       "  </thead>\n",
       "  <tbody>\n",
       "    <tr>\n",
       "      <th>0</th>\n",
       "      <td>1</td>\n",
       "      <td>Fatmap</td>\n",
       "      <td>Mobile Engineer for Outdoor Adventure Sports</td>\n",
       "      <td>Role &amp; Responsibility: \\n\\nYou’ll be building ...</td>\n",
       "    </tr>\n",
       "    <tr>\n",
       "      <th>1</th>\n",
       "      <td>2</td>\n",
       "      <td>AI Engine</td>\n",
       "      <td>Machine Learning</td>\n",
       "      <td>AI Engine is developing innovative machine lea...</td>\n",
       "    </tr>\n",
       "    <tr>\n",
       "      <th>2</th>\n",
       "      <td>3</td>\n",
       "      <td>November</td>\n",
       "      <td>Senior Full Stack PHP Developer (f/m)</td>\n",
       "      <td>Your mission:\\n\\nDevelopment of a scalable sof...</td>\n",
       "    </tr>\n",
       "    <tr>\n",
       "      <th>3</th>\n",
       "      <td>4</td>\n",
       "      <td>Wayfair</td>\n",
       "      <td>Jr. Manager SEO UK (Onpage) (m/f)</td>\n",
       "      <td>Your tasks:\\n\\nKeyword research and competitor...</td>\n",
       "    </tr>\n",
       "    <tr>\n",
       "      <th>4</th>\n",
       "      <td>5</td>\n",
       "      <td>CrossEngage</td>\n",
       "      <td>Data Scientist</td>\n",
       "      <td>About CrossEngage\\nCrossEngage is a cloud-base...</td>\n",
       "    </tr>\n",
       "  </tbody>\n",
       "</table>\n",
       "</div>"
      ],
      "text/plain": [
       "   id company_name                                      jobtitle  \\\n",
       "0   1       Fatmap  Mobile Engineer for Outdoor Adventure Sports   \n",
       "1   2    AI Engine                              Machine Learning   \n",
       "2   3     November         Senior Full Stack PHP Developer (f/m)   \n",
       "3   4      Wayfair             Jr. Manager SEO UK (Onpage) (m/f)   \n",
       "4   5  CrossEngage                                Data Scientist   \n",
       "\n",
       "                                         description  \n",
       "0  Role & Responsibility: \\n\\nYou’ll be building ...  \n",
       "1  AI Engine is developing innovative machine lea...  \n",
       "2  Your mission:\\n\\nDevelopment of a scalable sof...  \n",
       "3  Your tasks:\\n\\nKeyword research and competitor...  \n",
       "4  About CrossEngage\\nCrossEngage is a cloud-base...  "
      ]
     },
     "execution_count": 2,
     "metadata": {},
     "output_type": "execute_result"
    }
   ],
   "source": [
    "raw_data = pd.read_sql_query('SELECT * FROM bsj_table',conn)\n",
    "raw_data.head()"
   ]
  },
  {
   "cell_type": "markdown",
   "metadata": {},
   "source": [
    "**3. Import the perks, skills, and industry csv files**"
   ]
  },
  {
   "cell_type": "code",
   "execution_count": 3,
   "metadata": {
    "collapsed": true
   },
   "outputs": [],
   "source": [
    "skills_rawdata= pd.read_csv('Skills.csv')\n",
    "perks_rawdata= pd.read_csv('Perks.csv')\n",
    "industry_rawdata = pd.read_csv('Industry.csv')"
   ]
  },
  {
   "cell_type": "code",
   "execution_count": 4,
   "metadata": {},
   "outputs": [
    {
     "data": {
      "text/html": [
       "<div>\n",
       "<style>\n",
       "    .dataframe thead tr:only-child th {\n",
       "        text-align: right;\n",
       "    }\n",
       "\n",
       "    .dataframe thead th {\n",
       "        text-align: left;\n",
       "    }\n",
       "\n",
       "    .dataframe tbody tr th {\n",
       "        vertical-align: top;\n",
       "    }\n",
       "</style>\n",
       "<table border=\"1\" class=\"dataframe\">\n",
       "  <thead>\n",
       "    <tr style=\"text-align: right;\">\n",
       "      <th></th>\n",
       "      <th>group</th>\n",
       "      <th>item1</th>\n",
       "      <th>item2</th>\n",
       "      <th>item3</th>\n",
       "      <th>item4</th>\n",
       "      <th>item5</th>\n",
       "      <th>item6</th>\n",
       "      <th>item7</th>\n",
       "      <th>item8</th>\n",
       "      <th>item9</th>\n",
       "      <th>item10</th>\n",
       "      <th>item11</th>\n",
       "      <th>item12</th>\n",
       "      <th>item13</th>\n",
       "      <th>item14</th>\n",
       "    </tr>\n",
       "  </thead>\n",
       "  <tbody>\n",
       "    <tr>\n",
       "      <th>0</th>\n",
       "      <td>.net</td>\n",
       "      <td>.net</td>\n",
       "      <td>NaN</td>\n",
       "      <td>NaN</td>\n",
       "      <td>NaN</td>\n",
       "      <td>NaN</td>\n",
       "      <td>NaN</td>\n",
       "      <td>NaN</td>\n",
       "      <td>NaN</td>\n",
       "      <td>NaN</td>\n",
       "      <td>NaN</td>\n",
       "      <td>NaN</td>\n",
       "      <td>NaN</td>\n",
       "      <td>NaN</td>\n",
       "      <td>NaN</td>\n",
       "    </tr>\n",
       "    <tr>\n",
       "      <th>1</th>\n",
       "      <td>3d</td>\n",
       "      <td>3d</td>\n",
       "      <td>NaN</td>\n",
       "      <td>NaN</td>\n",
       "      <td>NaN</td>\n",
       "      <td>NaN</td>\n",
       "      <td>NaN</td>\n",
       "      <td>NaN</td>\n",
       "      <td>NaN</td>\n",
       "      <td>NaN</td>\n",
       "      <td>NaN</td>\n",
       "      <td>NaN</td>\n",
       "      <td>NaN</td>\n",
       "      <td>NaN</td>\n",
       "      <td>NaN</td>\n",
       "    </tr>\n",
       "    <tr>\n",
       "      <th>2</th>\n",
       "      <td>access</td>\n",
       "      <td>access</td>\n",
       "      <td>NaN</td>\n",
       "      <td>NaN</td>\n",
       "      <td>NaN</td>\n",
       "      <td>NaN</td>\n",
       "      <td>NaN</td>\n",
       "      <td>NaN</td>\n",
       "      <td>NaN</td>\n",
       "      <td>NaN</td>\n",
       "      <td>NaN</td>\n",
       "      <td>NaN</td>\n",
       "      <td>NaN</td>\n",
       "      <td>NaN</td>\n",
       "      <td>NaN</td>\n",
       "    </tr>\n",
       "    <tr>\n",
       "      <th>3</th>\n",
       "      <td>ActiveMQ</td>\n",
       "      <td>ActiveMQ</td>\n",
       "      <td>NaN</td>\n",
       "      <td>NaN</td>\n",
       "      <td>NaN</td>\n",
       "      <td>NaN</td>\n",
       "      <td>NaN</td>\n",
       "      <td>NaN</td>\n",
       "      <td>NaN</td>\n",
       "      <td>NaN</td>\n",
       "      <td>NaN</td>\n",
       "      <td>NaN</td>\n",
       "      <td>NaN</td>\n",
       "      <td>NaN</td>\n",
       "      <td>NaN</td>\n",
       "    </tr>\n",
       "    <tr>\n",
       "      <th>4</th>\n",
       "      <td>agile</td>\n",
       "      <td>agile</td>\n",
       "      <td>NaN</td>\n",
       "      <td>NaN</td>\n",
       "      <td>NaN</td>\n",
       "      <td>NaN</td>\n",
       "      <td>NaN</td>\n",
       "      <td>NaN</td>\n",
       "      <td>NaN</td>\n",
       "      <td>NaN</td>\n",
       "      <td>NaN</td>\n",
       "      <td>NaN</td>\n",
       "      <td>NaN</td>\n",
       "      <td>NaN</td>\n",
       "      <td>NaN</td>\n",
       "    </tr>\n",
       "  </tbody>\n",
       "</table>\n",
       "</div>"
      ],
      "text/plain": [
       "      group     item1 item2 item3 item4 item5 item6 item7 item8 item9 item10  \\\n",
       "0      .net      .net   NaN   NaN   NaN   NaN   NaN   NaN   NaN   NaN    NaN   \n",
       "1        3d        3d   NaN   NaN   NaN   NaN   NaN   NaN   NaN   NaN    NaN   \n",
       "2    access    access   NaN   NaN   NaN   NaN   NaN   NaN   NaN   NaN    NaN   \n",
       "3  ActiveMQ  ActiveMQ   NaN   NaN   NaN   NaN   NaN   NaN   NaN   NaN    NaN   \n",
       "4     agile     agile   NaN   NaN   NaN   NaN   NaN   NaN   NaN   NaN    NaN   \n",
       "\n",
       "  item11 item12 item13 item14  \n",
       "0    NaN    NaN    NaN    NaN  \n",
       "1    NaN    NaN    NaN    NaN  \n",
       "2    NaN    NaN    NaN    NaN  \n",
       "3    NaN    NaN    NaN    NaN  \n",
       "4    NaN    NaN    NaN    NaN  "
      ]
     },
     "execution_count": 4,
     "metadata": {},
     "output_type": "execute_result"
    }
   ],
   "source": [
    "skills_rawdata.head()"
   ]
  },
  {
   "cell_type": "markdown",
   "metadata": {},
   "source": [
    "**Reshape the tables**"
   ]
  },
  {
   "cell_type": "code",
   "execution_count": 5,
   "metadata": {},
   "outputs": [],
   "source": [
    "#reshape to 2 to rows \n",
    "skills_rawdata = pd.melt(skills_rawdata, id_vars=['group'])\n",
    "#drop null values\n",
    "skills_rawdata.dropna(inplace=True)\n",
    "#drop unecessary columns\n",
    "skills_rawdata.drop('variable',1, inplace=True)\n",
    "#make the text lower\n",
    "skills_rawdata['group'] = skills_rawdata['group'].str.lower()\n",
    "skills_rawdata['value'] = skills_rawdata['value'].str.lower()"
   ]
  },
  {
   "cell_type": "code",
   "execution_count": 6,
   "metadata": {
    "collapsed": true
   },
   "outputs": [],
   "source": [
    "perks_rawdata = pd.melt(perks_rawdata, id_vars=['group'])\n",
    "perks_rawdata.dropna(inplace=True)\n",
    "perks_rawdata.drop('variable',1, inplace=True)\n",
    "perks_rawdata['group'] = perks_rawdata['group'].str.lower()\n",
    "perks_rawdata['value'] = perks_rawdata['value'].str.lower()"
   ]
  },
  {
   "cell_type": "code",
   "execution_count": 7,
   "metadata": {
    "collapsed": true
   },
   "outputs": [],
   "source": [
    "industry_rawdata = pd.melt(industry_rawdata, id_vars=['group'])\n",
    "industry_rawdata.dropna(inplace=True)\n",
    "industry_rawdata.drop('variable',1, inplace=True)\n",
    "industry_rawdata['group'] = industry_rawdata['group'].str.lower()\n",
    "industry_rawdata['value'] = industry_rawdata['value'].str.lower()"
   ]
  },
  {
   "cell_type": "code",
   "execution_count": 8,
   "metadata": {},
   "outputs": [
    {
     "data": {
      "text/html": [
       "<div>\n",
       "<style>\n",
       "    .dataframe thead tr:only-child th {\n",
       "        text-align: right;\n",
       "    }\n",
       "\n",
       "    .dataframe thead th {\n",
       "        text-align: left;\n",
       "    }\n",
       "\n",
       "    .dataframe tbody tr th {\n",
       "        vertical-align: top;\n",
       "    }\n",
       "</style>\n",
       "<table border=\"1\" class=\"dataframe\">\n",
       "  <thead>\n",
       "    <tr style=\"text-align: right;\">\n",
       "      <th></th>\n",
       "      <th>group</th>\n",
       "      <th>value</th>\n",
       "    </tr>\n",
       "  </thead>\n",
       "  <tbody>\n",
       "    <tr>\n",
       "      <th>0</th>\n",
       "      <td>.net</td>\n",
       "      <td>.net</td>\n",
       "    </tr>\n",
       "    <tr>\n",
       "      <th>1</th>\n",
       "      <td>3d</td>\n",
       "      <td>3d</td>\n",
       "    </tr>\n",
       "    <tr>\n",
       "      <th>2</th>\n",
       "      <td>access</td>\n",
       "      <td>access</td>\n",
       "    </tr>\n",
       "    <tr>\n",
       "      <th>3</th>\n",
       "      <td>activemq</td>\n",
       "      <td>activemq</td>\n",
       "    </tr>\n",
       "    <tr>\n",
       "      <th>4</th>\n",
       "      <td>agile</td>\n",
       "      <td>agile</td>\n",
       "    </tr>\n",
       "  </tbody>\n",
       "</table>\n",
       "</div>"
      ],
      "text/plain": [
       "      group     value\n",
       "0      .net      .net\n",
       "1        3d        3d\n",
       "2    access    access\n",
       "3  activemq  activemq\n",
       "4     agile     agile"
      ]
     },
     "execution_count": 8,
     "metadata": {},
     "output_type": "execute_result"
    }
   ],
   "source": [
    "#check an example outcome\n",
    "skills_rawdata.head()"
   ]
  },
  {
   "cell_type": "markdown",
   "metadata": {},
   "source": [
    "**4. Create list of keywords for each category**"
   ]
  },
  {
   "cell_type": "code",
   "execution_count": 9,
   "metadata": {
    "collapsed": true
   },
   "outputs": [],
   "source": [
    "#empty list to save the 3 following lists in it\n",
    "all_list = []\n",
    "skills_list = skills_rawdata['value'].str.lower().str.split().tolist()\n",
    "perks_list = perks_rawdata['value'].str.lower().str.split().tolist()\n",
    "industry_list = industry_rawdata['value'].str.lower().str.split().tolist()\n",
    "\n",
    "#join all lists \n",
    "all_list.extend(skills_list)\n",
    "all_list.extend(perks_list)\n",
    "all_list.extend(industry_list)"
   ]
  },
  {
   "cell_type": "markdown",
   "metadata": {},
   "source": [
    "**5. Use the list to tockenize the job descriptions**"
   ]
  },
  {
   "cell_type": "code",
   "execution_count": 10,
   "metadata": {
    "collapsed": true
   },
   "outputs": [],
   "source": [
    "tokenizer = MWETokenizer()\n",
    "tknzr = TweetTokenizer()"
   ]
  },
  {
   "cell_type": "code",
   "execution_count": 11,
   "metadata": {},
   "outputs": [],
   "source": [
    "def text_process_group(mess):\n",
    "    \"\"\"\n",
    "    1. Lower case the input\n",
    "    2. Remove punctuation expect '-'\n",
    "    3. Apply custom tokenizer\n",
    "    4. Return column of clean text words\"\"\"\n",
    "    mess.lower()\n",
    "    regex = r\"[^\\P{P}-]+\"\n",
    "    new_mess= re.sub(regex, \" \", mess, 0)    \n",
    "    tokenizer = MWETokenizer(all_list, separator=' ')\n",
    "    token = tokenizer.tokenize(new_mess.lower().split())\n",
    "    sw = [x for x in token if x not in stopwords.words('english')]\n",
    "    return sw"
   ]
  },
  {
   "cell_type": "code",
   "execution_count": 12,
   "metadata": {},
   "outputs": [],
   "source": [
    "#apply the customized tokenizer, it takes a bit more time\n",
    "raw_data['description 2'] = raw_data['description'].apply(text_process_group)"
   ]
  },
  {
   "cell_type": "code",
   "execution_count": 13,
   "metadata": {},
   "outputs": [
    {
     "data": {
      "text/html": [
       "<div>\n",
       "<style>\n",
       "    .dataframe thead tr:only-child th {\n",
       "        text-align: right;\n",
       "    }\n",
       "\n",
       "    .dataframe thead th {\n",
       "        text-align: left;\n",
       "    }\n",
       "\n",
       "    .dataframe tbody tr th {\n",
       "        vertical-align: top;\n",
       "    }\n",
       "</style>\n",
       "<table border=\"1\" class=\"dataframe\">\n",
       "  <thead>\n",
       "    <tr style=\"text-align: right;\">\n",
       "      <th></th>\n",
       "      <th>id</th>\n",
       "      <th>company_name</th>\n",
       "      <th>jobtitle</th>\n",
       "      <th>description</th>\n",
       "      <th>description 2</th>\n",
       "    </tr>\n",
       "  </thead>\n",
       "  <tbody>\n",
       "    <tr>\n",
       "      <th>0</th>\n",
       "      <td>1</td>\n",
       "      <td>Fatmap</td>\n",
       "      <td>Mobile Engineer for Outdoor Adventure Sports</td>\n",
       "      <td>Role &amp; Responsibility: \\n\\nYou’ll be building ...</td>\n",
       "      <td>[role, responsibility, building, fatmap, mobil...</td>\n",
       "    </tr>\n",
       "    <tr>\n",
       "      <th>1</th>\n",
       "      <td>2</td>\n",
       "      <td>AI Engine</td>\n",
       "      <td>Machine Learning</td>\n",
       "      <td>AI Engine is developing innovative machine lea...</td>\n",
       "      <td>[ai, engine, developing, innovative, machine l...</td>\n",
       "    </tr>\n",
       "    <tr>\n",
       "      <th>2</th>\n",
       "      <td>3</td>\n",
       "      <td>November</td>\n",
       "      <td>Senior Full Stack PHP Developer (f/m)</td>\n",
       "      <td>Your mission:\\n\\nDevelopment of a scalable sof...</td>\n",
       "      <td>[mission, development, scalable, software, pla...</td>\n",
       "    </tr>\n",
       "    <tr>\n",
       "      <th>3</th>\n",
       "      <td>4</td>\n",
       "      <td>Wayfair</td>\n",
       "      <td>Jr. Manager SEO UK (Onpage) (m/f)</td>\n",
       "      <td>Your tasks:\\n\\nKeyword research and competitor...</td>\n",
       "      <td>[tasks, keyword, research, competitor, analysi...</td>\n",
       "    </tr>\n",
       "    <tr>\n",
       "      <th>4</th>\n",
       "      <td>5</td>\n",
       "      <td>CrossEngage</td>\n",
       "      <td>Data Scientist</td>\n",
       "      <td>About CrossEngage\\nCrossEngage is a cloud-base...</td>\n",
       "      <td>[crossengage, crossengage, cloud-based, market...</td>\n",
       "    </tr>\n",
       "  </tbody>\n",
       "</table>\n",
       "</div>"
      ],
      "text/plain": [
       "   id company_name                                      jobtitle  \\\n",
       "0   1       Fatmap  Mobile Engineer for Outdoor Adventure Sports   \n",
       "1   2    AI Engine                              Machine Learning   \n",
       "2   3     November         Senior Full Stack PHP Developer (f/m)   \n",
       "3   4      Wayfair             Jr. Manager SEO UK (Onpage) (m/f)   \n",
       "4   5  CrossEngage                                Data Scientist   \n",
       "\n",
       "                                         description  \\\n",
       "0  Role & Responsibility: \\n\\nYou’ll be building ...   \n",
       "1  AI Engine is developing innovative machine lea...   \n",
       "2  Your mission:\\n\\nDevelopment of a scalable sof...   \n",
       "3  Your tasks:\\n\\nKeyword research and competitor...   \n",
       "4  About CrossEngage\\nCrossEngage is a cloud-base...   \n",
       "\n",
       "                                       description 2  \n",
       "0  [role, responsibility, building, fatmap, mobil...  \n",
       "1  [ai, engine, developing, innovative, machine l...  \n",
       "2  [mission, development, scalable, software, pla...  \n",
       "3  [tasks, keyword, research, competitor, analysi...  \n",
       "4  [crossengage, crossengage, cloud-based, market...  "
      ]
     },
     "execution_count": 13,
     "metadata": {},
     "output_type": "execute_result"
    }
   ],
   "source": [
    "raw_data.head()"
   ]
  },
  {
   "cell_type": "markdown",
   "metadata": {},
   "source": [
    "**6. Create clusters**"
   ]
  },
  {
   "cell_type": "code",
   "execution_count": 14,
   "metadata": {
    "collapsed": true
   },
   "outputs": [],
   "source": [
    "#create dictionnaries of keywords and their respective clusters\n",
    "skills_model = skills_rawdata.set_index('value').to_dict()['group']\n",
    "perks_model = perks_rawdata.set_index('value').to_dict()['group']\n",
    "industry_model = industry_rawdata.set_index('value').to_dict()['group']"
   ]
  },
  {
   "cell_type": "markdown",
   "metadata": {},
   "source": [
    "**7. Apply cluster to harmonize**"
   ]
  },
  {
   "cell_type": "code",
   "execution_count": 15,
   "metadata": {
    "collapsed": true
   },
   "outputs": [],
   "source": [
    "skills_tagger = nltk.tag.UnigramTagger(model=skills_model)\n",
    "perks_tagger = nltk.tag.UnigramTagger(model=perks_model)\n",
    "industry_tagger = nltk.tag.UnigramTagger(model=industry_model)"
   ]
  },
  {
   "cell_type": "code",
   "execution_count": 16,
   "metadata": {},
   "outputs": [],
   "source": [
    "#create new tables with the id and the description 2\n",
    "skills_table = raw_data[['id','description 2']]\n",
    "perks_table = raw_data[['id','description 2']]\n",
    "industry_table = raw_data[['id','description 2']]"
   ]
  },
  {
   "cell_type": "code",
   "execution_count": 17,
   "metadata": {
    "collapsed": true
   },
   "outputs": [],
   "source": [
    "#create the tagging fuction \n",
    "def applytagskills(word):\n",
    "    tag= skills_tagger.tag(word)\n",
    "    return tag\n",
    "\n",
    "def applytagperks(word):\n",
    "    tag= perks_tagger.tag(word)\n",
    "    return tag\n",
    "\n",
    "def applytagindustry(word):\n",
    "    tag= industry_tagger.tag(word)\n",
    "    return tag"
   ]
  },
  {
   "cell_type": "code",
   "execution_count": 18,
   "metadata": {},
   "outputs": [],
   "source": [
    "#apply the tagging fuction\n",
    "skills_table['tags']= skills_table['description 2'].apply(applytagskills)\n",
    "perks_table['tags'] = perks_table['description 2'].apply(applytagperks)\n",
    "industry_table['tags'] = industry_table['description 2'].apply(applytagindustry)"
   ]
  },
  {
   "cell_type": "code",
   "execution_count": 19,
   "metadata": {},
   "outputs": [
    {
     "data": {
      "text/html": [
       "<div>\n",
       "<style>\n",
       "    .dataframe thead tr:only-child th {\n",
       "        text-align: right;\n",
       "    }\n",
       "\n",
       "    .dataframe thead th {\n",
       "        text-align: left;\n",
       "    }\n",
       "\n",
       "    .dataframe tbody tr th {\n",
       "        vertical-align: top;\n",
       "    }\n",
       "</style>\n",
       "<table border=\"1\" class=\"dataframe\">\n",
       "  <thead>\n",
       "    <tr style=\"text-align: right;\">\n",
       "      <th></th>\n",
       "      <th>id</th>\n",
       "      <th>description 2</th>\n",
       "      <th>tags</th>\n",
       "    </tr>\n",
       "  </thead>\n",
       "  <tbody>\n",
       "    <tr>\n",
       "      <th>0</th>\n",
       "      <td>1</td>\n",
       "      <td>[role, responsibility, building, fatmap, mobil...</td>\n",
       "      <td>[(role, None), (responsibility, None), (buildi...</td>\n",
       "    </tr>\n",
       "    <tr>\n",
       "      <th>1</th>\n",
       "      <td>2</td>\n",
       "      <td>[ai, engine, developing, innovative, machine l...</td>\n",
       "      <td>[(ai, None), (engine, None), (developing, None...</td>\n",
       "    </tr>\n",
       "    <tr>\n",
       "      <th>2</th>\n",
       "      <td>3</td>\n",
       "      <td>[mission, development, scalable, software, pla...</td>\n",
       "      <td>[(mission, None), (development, None), (scalab...</td>\n",
       "    </tr>\n",
       "    <tr>\n",
       "      <th>3</th>\n",
       "      <td>4</td>\n",
       "      <td>[tasks, keyword, research, competitor, analysi...</td>\n",
       "      <td>[(tasks, None), (keyword, None), (research, No...</td>\n",
       "    </tr>\n",
       "    <tr>\n",
       "      <th>4</th>\n",
       "      <td>5</td>\n",
       "      <td>[crossengage, crossengage, cloud-based, market...</td>\n",
       "      <td>[(crossengage, None), (crossengage, None), (cl...</td>\n",
       "    </tr>\n",
       "  </tbody>\n",
       "</table>\n",
       "</div>"
      ],
      "text/plain": [
       "   id                                      description 2  \\\n",
       "0   1  [role, responsibility, building, fatmap, mobil...   \n",
       "1   2  [ai, engine, developing, innovative, machine l...   \n",
       "2   3  [mission, development, scalable, software, pla...   \n",
       "3   4  [tasks, keyword, research, competitor, analysi...   \n",
       "4   5  [crossengage, crossengage, cloud-based, market...   \n",
       "\n",
       "                                                tags  \n",
       "0  [(role, None), (responsibility, None), (buildi...  \n",
       "1  [(ai, None), (engine, None), (developing, None...  \n",
       "2  [(mission, None), (development, None), (scalab...  \n",
       "3  [(tasks, None), (keyword, None), (research, No...  \n",
       "4  [(crossengage, None), (crossengage, None), (cl...  "
      ]
     },
     "execution_count": 19,
     "metadata": {},
     "output_type": "execute_result"
    }
   ],
   "source": [
    "skills_table.head()"
   ]
  },
  {
   "cell_type": "markdown",
   "metadata": {},
   "source": [
    "**8. Clean the final tables**"
   ]
  },
  {
   "cell_type": "code",
   "execution_count": 20,
   "metadata": {},
   "outputs": [],
   "source": [
    "skills_table = skills_table.set_index(['id'])['tags'].apply(pd.Series).stack()\n",
    "skills_table = pd.DataFrame(skills_table.reset_index(level=1, drop=True))\n",
    "skills_table.columns = ['combinaisons']\n",
    "skills_table.index.names = ['job_id']\n",
    "#split tuples into 2 columns\n",
    "skills_table = skills_table ['combinaisons'].apply(pd.Series)\n",
    "#rename column\n",
    "skills_table.columns = ['words','skill_name']\n",
    "skills_table.dropna(inplace = True)\n",
    "skills_table.reset_index(inplace = True)\n",
    "#when a job ad muliple keywords leading to the same category we need to avoid repetition\n",
    "skills_table = skills_table.drop_duplicates(['job_id','skill_name']).set_index('job_id')\n",
    "skills = skills_table[['skill_name']]"
   ]
  },
  {
   "cell_type": "code",
   "execution_count": 21,
   "metadata": {
    "collapsed": true
   },
   "outputs": [],
   "source": [
    "perks_table = perks_table.set_index(['id'])['tags'].apply(pd.Series).stack()\n",
    "perks_table= pd.DataFrame(perks_table.reset_index(level=1, drop=True))\n",
    "perks_table.columns = ['combinaisons']\n",
    "perks_table.index.names = ['job_id']\n",
    "#split tuples into 2 columns\n",
    "perks_table= perks_table['combinaisons'].apply(pd.Series)\n",
    "#rename column\n",
    "perks_table.columns = ['words','perk_name']\n",
    "perks_table.dropna(inplace = True)\n",
    "perks_table.reset_index(inplace = True)\n",
    "#when a job ad muliple keywords leading to the same category we need to avoid repetition\n",
    "perks_table = perks_table.drop_duplicates(['job_id','perk_name']).set_index('job_id')\n",
    "perks = perks_table[['perk_name']]"
   ]
  },
  {
   "cell_type": "code",
   "execution_count": 22,
   "metadata": {
    "collapsed": true
   },
   "outputs": [],
   "source": [
    "industry_table = industry_table .set_index(['id'])['tags'].apply(pd.Series).stack()\n",
    "industry_table = pd.DataFrame(industry_table.reset_index(level=1, drop=True))\n",
    "industry_table .columns = ['combinaisons']\n",
    "industry_table .index.names = ['job_id']\n",
    "#split tuples into 2 columns\n",
    "industry_table = industry_table ['combinaisons'].apply(pd.Series)\n",
    "#rename column\n",
    "industry_table .columns = ['words','industry_name']\n",
    "industry_table .dropna(inplace = True)\n",
    "industry_table .reset_index(inplace = True)\n",
    "#when a job ad muliple keywords leading to the same category we need to avoid repetition\n",
    "industry_table  = industry_table .drop_duplicates(['job_id','industry_name']).set_index('job_id')\n",
    "industry = industry_table [['industry_name']]"
   ]
  },
  {
   "cell_type": "code",
   "execution_count": 23,
   "metadata": {},
   "outputs": [
    {
     "data": {
      "text/html": [
       "<div>\n",
       "<style>\n",
       "    .dataframe thead tr:only-child th {\n",
       "        text-align: right;\n",
       "    }\n",
       "\n",
       "    .dataframe thead th {\n",
       "        text-align: left;\n",
       "    }\n",
       "\n",
       "    .dataframe tbody tr th {\n",
       "        vertical-align: top;\n",
       "    }\n",
       "</style>\n",
       "<table border=\"1\" class=\"dataframe\">\n",
       "  <thead>\n",
       "    <tr style=\"text-align: right;\">\n",
       "      <th></th>\n",
       "      <th>skill_name</th>\n",
       "    </tr>\n",
       "    <tr>\n",
       "      <th>job_id</th>\n",
       "      <th></th>\n",
       "    </tr>\n",
       "  </thead>\n",
       "  <tbody>\n",
       "    <tr>\n",
       "      <th>1</th>\n",
       "      <td>native</td>\n",
       "    </tr>\n",
       "    <tr>\n",
       "      <th>1</th>\n",
       "      <td>ios</td>\n",
       "    </tr>\n",
       "    <tr>\n",
       "      <th>1</th>\n",
       "      <td>android</td>\n",
       "    </tr>\n",
       "    <tr>\n",
       "      <th>1</th>\n",
       "      <td>react</td>\n",
       "    </tr>\n",
       "    <tr>\n",
       "      <th>1</th>\n",
       "      <td>3d</td>\n",
       "    </tr>\n",
       "  </tbody>\n",
       "</table>\n",
       "</div>"
      ],
      "text/plain": [
       "       skill_name\n",
       "job_id           \n",
       "1          native\n",
       "1            ios \n",
       "1         android\n",
       "1           react\n",
       "1              3d"
      ]
     },
     "execution_count": 23,
     "metadata": {},
     "output_type": "execute_result"
    }
   ],
   "source": [
    "skills.head()"
   ]
  },
  {
   "cell_type": "code",
   "execution_count": 24,
   "metadata": {},
   "outputs": [
    {
     "data": {
      "text/html": [
       "<div>\n",
       "<style>\n",
       "    .dataframe thead tr:only-child th {\n",
       "        text-align: right;\n",
       "    }\n",
       "\n",
       "    .dataframe thead th {\n",
       "        text-align: left;\n",
       "    }\n",
       "\n",
       "    .dataframe tbody tr th {\n",
       "        vertical-align: top;\n",
       "    }\n",
       "</style>\n",
       "<table border=\"1\" class=\"dataframe\">\n",
       "  <thead>\n",
       "    <tr style=\"text-align: right;\">\n",
       "      <th></th>\n",
       "      <th>industry_name</th>\n",
       "    </tr>\n",
       "    <tr>\n",
       "      <th>job_id</th>\n",
       "      <th></th>\n",
       "    </tr>\n",
       "  </thead>\n",
       "  <tbody>\n",
       "    <tr>\n",
       "      <th>5</th>\n",
       "      <td>marketing solutions</td>\n",
       "    </tr>\n",
       "    <tr>\n",
       "      <th>5</th>\n",
       "      <td>fooddelivery</td>\n",
       "    </tr>\n",
       "    <tr>\n",
       "      <th>15</th>\n",
       "      <td>games</td>\n",
       "    </tr>\n",
       "    <tr>\n",
       "      <th>32</th>\n",
       "      <td>service</td>\n",
       "    </tr>\n",
       "    <tr>\n",
       "      <th>37</th>\n",
       "      <td>fooddelivery</td>\n",
       "    </tr>\n",
       "  </tbody>\n",
       "</table>\n",
       "</div>"
      ],
      "text/plain": [
       "              industry_name\n",
       "job_id                     \n",
       "5       marketing solutions\n",
       "5              fooddelivery\n",
       "15                    games\n",
       "32                  service\n",
       "37             fooddelivery"
      ]
     },
     "execution_count": 24,
     "metadata": {},
     "output_type": "execute_result"
    }
   ],
   "source": [
    "industry.head()"
   ]
  },
  {
   "cell_type": "code",
   "execution_count": 25,
   "metadata": {},
   "outputs": [
    {
     "data": {
      "text/html": [
       "<div>\n",
       "<style>\n",
       "    .dataframe thead tr:only-child th {\n",
       "        text-align: right;\n",
       "    }\n",
       "\n",
       "    .dataframe thead th {\n",
       "        text-align: left;\n",
       "    }\n",
       "\n",
       "    .dataframe tbody tr th {\n",
       "        vertical-align: top;\n",
       "    }\n",
       "</style>\n",
       "<table border=\"1\" class=\"dataframe\">\n",
       "  <thead>\n",
       "    <tr style=\"text-align: right;\">\n",
       "      <th></th>\n",
       "      <th>perk_name</th>\n",
       "    </tr>\n",
       "    <tr>\n",
       "      <th>job_id</th>\n",
       "      <th></th>\n",
       "    </tr>\n",
       "  </thead>\n",
       "  <tbody>\n",
       "    <tr>\n",
       "      <th>3</th>\n",
       "      <td>personal development</td>\n",
       "    </tr>\n",
       "    <tr>\n",
       "      <th>3</th>\n",
       "      <td>team events</td>\n",
       "    </tr>\n",
       "    <tr>\n",
       "      <th>3</th>\n",
       "      <td>catered meals</td>\n",
       "    </tr>\n",
       "    <tr>\n",
       "      <th>3</th>\n",
       "      <td>attractive compensation</td>\n",
       "    </tr>\n",
       "    <tr>\n",
       "      <th>4</th>\n",
       "      <td>personal development</td>\n",
       "    </tr>\n",
       "  </tbody>\n",
       "</table>\n",
       "</div>"
      ],
      "text/plain": [
       "                      perk_name\n",
       "job_id                         \n",
       "3          personal development\n",
       "3                   team events\n",
       "3                 catered meals\n",
       "3       attractive compensation\n",
       "4          personal development"
      ]
     },
     "execution_count": 25,
     "metadata": {},
     "output_type": "execute_result"
    }
   ],
   "source": [
    "perks.head()"
   ]
  },
  {
   "cell_type": "markdown",
   "metadata": {},
   "source": [
    "**9. Send the tables to the database**"
   ]
  },
  {
   "cell_type": "code",
   "execution_count": 26,
   "metadata": {},
   "outputs": [],
   "source": [
    "skills.to_sql('Skills', conn, if_exists='replace')\n",
    "perks.to_sql('Perks', conn, if_exists='replace')\n",
    "industry.to_sql('Industry', conn, if_exists='replace')"
   ]
  }
 ],
 "metadata": {
  "kernelspec": {
   "display_name": "Python 3",
   "language": "python",
   "name": "python3"
  },
  "language_info": {
   "codemirror_mode": {
    "name": "ipython",
    "version": 3
   },
   "file_extension": ".py",
   "mimetype": "text/x-python",
   "name": "python",
   "nbconvert_exporter": "python",
   "pygments_lexer": "ipython3",
   "version": "3.6.2"
  }
 },
 "nbformat": 4,
 "nbformat_minor": 2
}
