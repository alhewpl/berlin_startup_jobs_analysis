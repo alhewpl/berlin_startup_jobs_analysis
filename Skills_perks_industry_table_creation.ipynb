{
 "cells": [
  {
   "cell_type": "markdown",
   "metadata": {},
   "source": [
    "# NLTK application"
   ]
  },
  {
   "cell_type": "markdown",
   "metadata": {},
   "source": [
    "**1. Imports and databse connection**"
   ]
  },
  {
   "cell_type": "code",
   "execution_count": 1,
   "metadata": {
    "collapsed": true
   },
   "outputs": [],
   "source": [
    "import nltk\n",
    "import sqlite3\n",
    "import pandas as pd\n",
    "import string\n",
    "import regex as re \n",
    "\n",
    "import warnings\n",
    "warnings.filterwarnings('ignore')\n",
    "\n",
    "from nltk.tokenize import TweetTokenizer\n",
    "from nltk.tokenize import MWETokenizer\n",
    "from nltk.corpus import stopwords\n",
    "\n",
    "conn = sqlite3.connect('/Users/ograndberry/Desktop/berlin_startup_jobs_analysis/bsj_db.db')\n",
    "c = conn.cursor()"
   ]
  },
  {
   "cell_type": "markdown",
   "metadata": {},
   "source": [
    "**2. Get the raw data**"
   ]
  },
  {
   "cell_type": "code",
   "execution_count": 2,
   "metadata": {},
   "outputs": [
    {
     "data": {
      "text/html": [
       "<div>\n",
       "<style>\n",
       "    .dataframe thead tr:only-child th {\n",
       "        text-align: right;\n",
       "    }\n",
       "\n",
       "    .dataframe thead th {\n",
       "        text-align: left;\n",
       "    }\n",
       "\n",
       "    .dataframe tbody tr th {\n",
       "        vertical-align: top;\n",
       "    }\n",
       "</style>\n",
       "<table border=\"1\" class=\"dataframe\">\n",
       "  <thead>\n",
       "    <tr style=\"text-align: right;\">\n",
       "      <th></th>\n",
       "      <th>ID</th>\n",
       "      <th>company_name</th>\n",
       "      <th>date</th>\n",
       "      <th>description</th>\n",
       "      <th>jobtitle</th>\n",
       "      <th>source</th>\n",
       "    </tr>\n",
       "  </thead>\n",
       "  <tbody>\n",
       "    <tr>\n",
       "      <th>0</th>\n",
       "      <td>1</td>\n",
       "      <td>Fatmap</td>\n",
       "      <td>2017-10-02</td>\n",
       "      <td>Role &amp; Responsibility: \\n\\nYou’ll be building ...</td>\n",
       "      <td>Mobile Engineer for Outdoor Adventure Sports</td>\n",
       "      <td>Berlin Startup Jobs</td>\n",
       "    </tr>\n",
       "    <tr>\n",
       "      <th>1</th>\n",
       "      <td>2</td>\n",
       "      <td>AI Engine</td>\n",
       "      <td>2017-10-02</td>\n",
       "      <td>AI Engine is developing innovative machine lea...</td>\n",
       "      <td>Machine Learning</td>\n",
       "      <td>Berlin Startup Jobs</td>\n",
       "    </tr>\n",
       "    <tr>\n",
       "      <th>2</th>\n",
       "      <td>3</td>\n",
       "      <td>November</td>\n",
       "      <td>2017-10-02</td>\n",
       "      <td>Your mission:\\n\\nDevelopment of a scalable sof...</td>\n",
       "      <td>Senior Full Stack PHP Developer (f/m)</td>\n",
       "      <td>Berlin Startup Jobs</td>\n",
       "    </tr>\n",
       "    <tr>\n",
       "      <th>3</th>\n",
       "      <td>4</td>\n",
       "      <td>Wayfair</td>\n",
       "      <td>2017-10-02</td>\n",
       "      <td>Your tasks:\\n\\nKeyword research and competitor...</td>\n",
       "      <td>Jr. Manager SEO UK (Onpage) (m/f)</td>\n",
       "      <td>Berlin Startup Jobs</td>\n",
       "    </tr>\n",
       "    <tr>\n",
       "      <th>4</th>\n",
       "      <td>5</td>\n",
       "      <td>CrossEngage</td>\n",
       "      <td>2017-10-02</td>\n",
       "      <td>About CrossEngage\\nCrossEngage is a cloud-base...</td>\n",
       "      <td>Data Scientist</td>\n",
       "      <td>Berlin Startup Jobs</td>\n",
       "    </tr>\n",
       "  </tbody>\n",
       "</table>\n",
       "</div>"
      ],
      "text/plain": [
       "   ID company_name        date  \\\n",
       "0   1       Fatmap  2017-10-02   \n",
       "1   2    AI Engine  2017-10-02   \n",
       "2   3     November  2017-10-02   \n",
       "3   4      Wayfair  2017-10-02   \n",
       "4   5  CrossEngage  2017-10-02   \n",
       "\n",
       "                                         description  \\\n",
       "0  Role & Responsibility: \\n\\nYou’ll be building ...   \n",
       "1  AI Engine is developing innovative machine lea...   \n",
       "2  Your mission:\\n\\nDevelopment of a scalable sof...   \n",
       "3  Your tasks:\\n\\nKeyword research and competitor...   \n",
       "4  About CrossEngage\\nCrossEngage is a cloud-base...   \n",
       "\n",
       "                                       jobtitle               source  \n",
       "0  Mobile Engineer for Outdoor Adventure Sports  Berlin Startup Jobs  \n",
       "1                              Machine Learning  Berlin Startup Jobs  \n",
       "2         Senior Full Stack PHP Developer (f/m)  Berlin Startup Jobs  \n",
       "3             Jr. Manager SEO UK (Onpage) (m/f)  Berlin Startup Jobs  \n",
       "4                                Data Scientist  Berlin Startup Jobs  "
      ]
     },
     "execution_count": 2,
     "metadata": {},
     "output_type": "execute_result"
    }
   ],
   "source": [
    "raw_data = pd.read_csv('Machine-Learning-clustering-skills/merged_jobs.csv', index_col=0)\n",
    "raw_data.head()"
   ]
  },
  {
   "cell_type": "code",
   "execution_count": 3,
   "metadata": {},
   "outputs": [
    {
     "name": "stdout",
     "output_type": "stream",
     "text": [
      "<class 'pandas.core.frame.DataFrame'>\n",
      "RangeIndex: 489 entries, 0 to 488\n",
      "Data columns (total 4 columns):\n",
      "id              489 non-null int64\n",
      "company_name    489 non-null object\n",
      "jobtitle        489 non-null object\n",
      "description     489 non-null object\n",
      "dtypes: int64(1), object(3)\n",
      "memory usage: 15.4+ KB\n"
     ]
    }
   ],
   "source": [
    "raw_data.info()"
   ]
  },
  {
   "cell_type": "markdown",
   "metadata": {},
   "source": [
    "**3. Import the perks, skills, and industry csv files**"
   ]
  },
  {
   "cell_type": "code",
   "execution_count": 3,
   "metadata": {
    "collapsed": true
   },
   "outputs": [],
   "source": [
    "perks_rawdata= pd.read_csv('Perks.csv')\n",
    "industry_rawdata = pd.read_csv('Industry.csv')"
   ]
  },
  {
   "cell_type": "code",
   "execution_count": 4,
   "metadata": {},
   "outputs": [
    {
     "data": {
      "text/html": [
       "<div>\n",
       "<style>\n",
       "    .dataframe thead tr:only-child th {\n",
       "        text-align: right;\n",
       "    }\n",
       "\n",
       "    .dataframe thead th {\n",
       "        text-align: left;\n",
       "    }\n",
       "\n",
       "    .dataframe tbody tr th {\n",
       "        vertical-align: top;\n",
       "    }\n",
       "</style>\n",
       "<table border=\"1\" class=\"dataframe\">\n",
       "  <thead>\n",
       "    <tr style=\"text-align: right;\">\n",
       "      <th></th>\n",
       "      <th>group</th>\n",
       "      <th>item1</th>\n",
       "      <th>item2</th>\n",
       "      <th>item3</th>\n",
       "      <th>item4</th>\n",
       "      <th>item5</th>\n",
       "      <th>item6</th>\n",
       "      <th>item7</th>\n",
       "      <th>item8</th>\n",
       "      <th>item9</th>\n",
       "      <th>...</th>\n",
       "      <th>item13</th>\n",
       "      <th>item14</th>\n",
       "      <th>item15</th>\n",
       "      <th>item16</th>\n",
       "      <th>item17</th>\n",
       "      <th>item18</th>\n",
       "      <th>item19</th>\n",
       "      <th>item20</th>\n",
       "      <th>item21</th>\n",
       "      <th>item22</th>\n",
       "    </tr>\n",
       "  </thead>\n",
       "  <tbody>\n",
       "    <tr>\n",
       "      <th>0</th>\n",
       "      <td>Free Time</td>\n",
       "      <td>Free Time</td>\n",
       "      <td>Parental Leave</td>\n",
       "      <td>Unlimited Vacation</td>\n",
       "      <td>paid time off</td>\n",
       "      <td>NaN</td>\n",
       "      <td>NaN</td>\n",
       "      <td>NaN</td>\n",
       "      <td>NaN</td>\n",
       "      <td>NaN</td>\n",
       "      <td>...</td>\n",
       "      <td>NaN</td>\n",
       "      <td>NaN</td>\n",
       "      <td>NaN</td>\n",
       "      <td>NaN</td>\n",
       "      <td>NaN</td>\n",
       "      <td>NaN</td>\n",
       "      <td>NaN</td>\n",
       "      <td>NaN</td>\n",
       "      <td>NaN</td>\n",
       "      <td>NaN</td>\n",
       "    </tr>\n",
       "    <tr>\n",
       "      <th>1</th>\n",
       "      <td>Personal development</td>\n",
       "      <td>Education</td>\n",
       "      <td>Great mentors</td>\n",
       "      <td>career development</td>\n",
       "      <td>potential to develop</td>\n",
       "      <td>career development</td>\n",
       "      <td>personal learning</td>\n",
       "      <td>trainings</td>\n",
       "      <td>workshops</td>\n",
       "      <td>conferences</td>\n",
       "      <td>...</td>\n",
       "      <td>coaching</td>\n",
       "      <td>MENTORING</td>\n",
       "      <td>meetups</td>\n",
       "      <td>learn@work</td>\n",
       "      <td>external training budget</td>\n",
       "      <td>offered trainings</td>\n",
       "      <td>linkedin learning account</td>\n",
       "      <td>book allowance</td>\n",
       "      <td>shared kindles</td>\n",
       "      <td>Personal development</td>\n",
       "    </tr>\n",
       "    <tr>\n",
       "      <th>2</th>\n",
       "      <td>Sport</td>\n",
       "      <td>gym</td>\n",
       "      <td>Yoga</td>\n",
       "      <td>Pilates</td>\n",
       "      <td>massage</td>\n",
       "      <td>gym membership</td>\n",
       "      <td>NaN</td>\n",
       "      <td>NaN</td>\n",
       "      <td>NaN</td>\n",
       "      <td>NaN</td>\n",
       "      <td>...</td>\n",
       "      <td>NaN</td>\n",
       "      <td>NaN</td>\n",
       "      <td>NaN</td>\n",
       "      <td>NaN</td>\n",
       "      <td>NaN</td>\n",
       "      <td>NaN</td>\n",
       "      <td>NaN</td>\n",
       "      <td>NaN</td>\n",
       "      <td>NaN</td>\n",
       "      <td>NaN</td>\n",
       "    </tr>\n",
       "    <tr>\n",
       "      <th>3</th>\n",
       "      <td>Flexible Schedules</td>\n",
       "      <td>Working for home</td>\n",
       "      <td>flexible work time</td>\n",
       "      <td>Flexible work hours</td>\n",
       "      <td>Flexible working hours</td>\n",
       "      <td>Flexible Schedules</td>\n",
       "      <td>NaN</td>\n",
       "      <td>NaN</td>\n",
       "      <td>NaN</td>\n",
       "      <td>NaN</td>\n",
       "      <td>...</td>\n",
       "      <td>NaN</td>\n",
       "      <td>NaN</td>\n",
       "      <td>NaN</td>\n",
       "      <td>NaN</td>\n",
       "      <td>NaN</td>\n",
       "      <td>NaN</td>\n",
       "      <td>NaN</td>\n",
       "      <td>NaN</td>\n",
       "      <td>NaN</td>\n",
       "      <td>NaN</td>\n",
       "    </tr>\n",
       "    <tr>\n",
       "      <th>4</th>\n",
       "      <td>Catered Meals</td>\n",
       "      <td>Free meal</td>\n",
       "      <td>Free meals</td>\n",
       "      <td>Team lunch</td>\n",
       "      <td>team breakfast</td>\n",
       "      <td>birthday cake</td>\n",
       "      <td>Cake On Your Birthday</td>\n",
       "      <td>Learning lunch</td>\n",
       "      <td>lunches</td>\n",
       "      <td>Coffee</td>\n",
       "      <td>...</td>\n",
       "      <td>snacks</td>\n",
       "      <td>drinks</td>\n",
       "      <td>subsidized lunch</td>\n",
       "      <td>healthy lunches</td>\n",
       "      <td>bbqs</td>\n",
       "      <td>cereals</td>\n",
       "      <td>beer</td>\n",
       "      <td>brunches</td>\n",
       "      <td>cocktail nights</td>\n",
       "      <td>cocktail</td>\n",
       "    </tr>\n",
       "  </tbody>\n",
       "</table>\n",
       "<p>5 rows × 23 columns</p>\n",
       "</div>"
      ],
      "text/plain": [
       "                  group             item1               item2  \\\n",
       "0             Free Time         Free Time      Parental Leave   \n",
       "1  Personal development         Education       Great mentors   \n",
       "2                Sport               gym                 Yoga   \n",
       "3    Flexible Schedules  Working for home  flexible work time   \n",
       "4         Catered Meals         Free meal          Free meals   \n",
       "\n",
       "                 item3                    item4               item5  \\\n",
       "0   Unlimited Vacation            paid time off                 NaN   \n",
       "1   career development    potential to develop   career development   \n",
       "2              Pilates                  massage      gym membership   \n",
       "3  Flexible work hours   Flexible working hours  Flexible Schedules   \n",
       "4           Team lunch           team breakfast       birthday cake   \n",
       "\n",
       "                   item6           item7      item8        item9  \\\n",
       "0                    NaN             NaN        NaN          NaN   \n",
       "1      personal learning       trainings  workshops  conferences   \n",
       "2                    NaN             NaN        NaN          NaN   \n",
       "3                    NaN             NaN        NaN          NaN   \n",
       "4  Cake On Your Birthday  Learning lunch    lunches       Coffee   \n",
       "\n",
       "           ...             item13     item14            item15  \\\n",
       "0          ...                NaN        NaN               NaN   \n",
       "1          ...           coaching  MENTORING           meetups   \n",
       "2          ...                NaN        NaN               NaN   \n",
       "3          ...                NaN        NaN               NaN   \n",
       "4          ...             snacks     drinks  subsidized lunch   \n",
       "\n",
       "            item16                    item17             item18  \\\n",
       "0              NaN                       NaN                NaN   \n",
       "1       learn@work  external training budget  offered trainings   \n",
       "2              NaN                       NaN                NaN   \n",
       "3              NaN                       NaN                NaN   \n",
       "4  healthy lunches                      bbqs            cereals   \n",
       "\n",
       "                      item19          item20           item21  \\\n",
       "0                        NaN             NaN              NaN   \n",
       "1  linkedin learning account  book allowance   shared kindles   \n",
       "2                        NaN             NaN              NaN   \n",
       "3                        NaN             NaN              NaN   \n",
       "4                       beer        brunches  cocktail nights   \n",
       "\n",
       "                 item22  \n",
       "0                   NaN  \n",
       "1  Personal development  \n",
       "2                   NaN  \n",
       "3                   NaN  \n",
       "4              cocktail  \n",
       "\n",
       "[5 rows x 23 columns]"
      ]
     },
     "execution_count": 4,
     "metadata": {},
     "output_type": "execute_result"
    }
   ],
   "source": [
    "perks_rawdata.head()"
   ]
  },
  {
   "cell_type": "markdown",
   "metadata": {},
   "source": [
    "**Reshape the tables**"
   ]
  },
  {
   "cell_type": "code",
   "execution_count": 5,
   "metadata": {
    "collapsed": true
   },
   "outputs": [],
   "source": [
    "#reshape to 2 to rows \n",
    "perks_rawdata = pd.melt(perks_rawdata, id_vars=['group'])\n",
    "#drop null values\n",
    "perks_rawdata.dropna(inplace=True)\n",
    "#drop unecessary columns\n",
    "perks_rawdata.drop('variable',1, inplace=True)\n",
    "#make the text lower\n",
    "perks_rawdata['group'] = perks_rawdata['group'].str.lower()\n",
    "perks_rawdata['value'] = perks_rawdata['value'].str.lower()"
   ]
  },
  {
   "cell_type": "code",
   "execution_count": 6,
   "metadata": {
    "collapsed": true
   },
   "outputs": [],
   "source": [
    "industry_rawdata = pd.melt(industry_rawdata, id_vars=['group'])\n",
    "industry_rawdata.dropna(inplace=True)\n",
    "industry_rawdata.drop('variable',1, inplace=True)\n",
    "industry_rawdata['group'] = industry_rawdata['group'].str.lower()\n",
    "industry_rawdata['value'] = industry_rawdata['value'].str.lower()"
   ]
  },
  {
   "cell_type": "code",
   "execution_count": 7,
   "metadata": {},
   "outputs": [
    {
     "data": {
      "text/html": [
       "<div>\n",
       "<style>\n",
       "    .dataframe thead tr:only-child th {\n",
       "        text-align: right;\n",
       "    }\n",
       "\n",
       "    .dataframe thead th {\n",
       "        text-align: left;\n",
       "    }\n",
       "\n",
       "    .dataframe tbody tr th {\n",
       "        vertical-align: top;\n",
       "    }\n",
       "</style>\n",
       "<table border=\"1\" class=\"dataframe\">\n",
       "  <thead>\n",
       "    <tr style=\"text-align: right;\">\n",
       "      <th></th>\n",
       "      <th>group</th>\n",
       "      <th>value</th>\n",
       "    </tr>\n",
       "  </thead>\n",
       "  <tbody>\n",
       "    <tr>\n",
       "      <th>0</th>\n",
       "      <td>free time</td>\n",
       "      <td>free time</td>\n",
       "    </tr>\n",
       "    <tr>\n",
       "      <th>1</th>\n",
       "      <td>personal development</td>\n",
       "      <td>education</td>\n",
       "    </tr>\n",
       "    <tr>\n",
       "      <th>2</th>\n",
       "      <td>sport</td>\n",
       "      <td>gym</td>\n",
       "    </tr>\n",
       "    <tr>\n",
       "      <th>3</th>\n",
       "      <td>flexible schedules</td>\n",
       "      <td>working for home</td>\n",
       "    </tr>\n",
       "    <tr>\n",
       "      <th>4</th>\n",
       "      <td>catered meals</td>\n",
       "      <td>free meal</td>\n",
       "    </tr>\n",
       "  </tbody>\n",
       "</table>\n",
       "</div>"
      ],
      "text/plain": [
       "                  group             value\n",
       "0             free time         free time\n",
       "1  personal development         education\n",
       "2                sport               gym \n",
       "3    flexible schedules  working for home\n",
       "4         catered meals         free meal"
      ]
     },
     "execution_count": 7,
     "metadata": {},
     "output_type": "execute_result"
    }
   ],
   "source": [
    "#check an example outcome\n",
    "perks_rawdata.head()"
   ]
  },
  {
   "cell_type": "markdown",
   "metadata": {},
   "source": [
    "**4. Create list of keywords for each category**"
   ]
  },
  {
   "cell_type": "code",
   "execution_count": 8,
   "metadata": {
    "collapsed": true
   },
   "outputs": [],
   "source": [
    "#empty list to save the 3 following lists in it\n",
    "all_list = []\n",
    "perks_list = perks_rawdata['value'].str.lower().str.split().tolist()\n",
    "industry_list = industry_rawdata['value'].str.lower().str.split().tolist()\n",
    "\n",
    "#join all lists \n",
    "all_list.extend(perks_list)\n",
    "all_list.extend(industry_list)"
   ]
  },
  {
   "cell_type": "markdown",
   "metadata": {},
   "source": [
    "**5. Use the list to tockenize the job descriptions**"
   ]
  },
  {
   "cell_type": "code",
   "execution_count": 9,
   "metadata": {
    "collapsed": true
   },
   "outputs": [],
   "source": [
    "tokenizer = MWETokenizer()\n",
    "tknzr = TweetTokenizer()"
   ]
  },
  {
   "cell_type": "code",
   "execution_count": 10,
   "metadata": {
    "collapsed": true
   },
   "outputs": [],
   "source": [
    "def text_process_group(mess):\n",
    "    \"\"\"\n",
    "    1. Lower case the input\n",
    "    2. Remove punctuation expect '-'\n",
    "    3. Apply custom tokenizer\n",
    "    4. Return column of clean text words\"\"\"\n",
    "    mess.lower()\n",
    "    regex = r\"[^\\P{P}-]+\"\n",
    "    new_mess= re.sub(regex, \" \", mess, 0)    \n",
    "    tokenizer = MWETokenizer(all_list, separator=' ')\n",
    "    token = tokenizer.tokenize(new_mess.lower().split())\n",
    "    sw = [x for x in token if x not in stopwords.words('english')]\n",
    "    return sw"
   ]
  },
  {
   "cell_type": "code",
   "execution_count": 11,
   "metadata": {
    "collapsed": true
   },
   "outputs": [],
   "source": [
    "#apply the customized tokenizer, it takes a bit more time\n",
    "raw_data['description 2'] = raw_data['description'].apply(text_process_group)"
   ]
  },
  {
   "cell_type": "code",
   "execution_count": 12,
   "metadata": {},
   "outputs": [
    {
     "data": {
      "text/html": [
       "<div>\n",
       "<style>\n",
       "    .dataframe thead tr:only-child th {\n",
       "        text-align: right;\n",
       "    }\n",
       "\n",
       "    .dataframe thead th {\n",
       "        text-align: left;\n",
       "    }\n",
       "\n",
       "    .dataframe tbody tr th {\n",
       "        vertical-align: top;\n",
       "    }\n",
       "</style>\n",
       "<table border=\"1\" class=\"dataframe\">\n",
       "  <thead>\n",
       "    <tr style=\"text-align: right;\">\n",
       "      <th></th>\n",
       "      <th>ID</th>\n",
       "      <th>company_name</th>\n",
       "      <th>date</th>\n",
       "      <th>description</th>\n",
       "      <th>jobtitle</th>\n",
       "      <th>source</th>\n",
       "      <th>description 2</th>\n",
       "    </tr>\n",
       "  </thead>\n",
       "  <tbody>\n",
       "    <tr>\n",
       "      <th>0</th>\n",
       "      <td>1</td>\n",
       "      <td>Fatmap</td>\n",
       "      <td>2017-10-02</td>\n",
       "      <td>Role &amp; Responsibility: \\n\\nYou’ll be building ...</td>\n",
       "      <td>Mobile Engineer for Outdoor Adventure Sports</td>\n",
       "      <td>Berlin Startup Jobs</td>\n",
       "      <td>[role, responsibility, building, fatmap, mobil...</td>\n",
       "    </tr>\n",
       "    <tr>\n",
       "      <th>1</th>\n",
       "      <td>2</td>\n",
       "      <td>AI Engine</td>\n",
       "      <td>2017-10-02</td>\n",
       "      <td>AI Engine is developing innovative machine lea...</td>\n",
       "      <td>Machine Learning</td>\n",
       "      <td>Berlin Startup Jobs</td>\n",
       "      <td>[ai, engine, developing, innovative, machine, ...</td>\n",
       "    </tr>\n",
       "    <tr>\n",
       "      <th>2</th>\n",
       "      <td>3</td>\n",
       "      <td>November</td>\n",
       "      <td>2017-10-02</td>\n",
       "      <td>Your mission:\\n\\nDevelopment of a scalable sof...</td>\n",
       "      <td>Senior Full Stack PHP Developer (f/m)</td>\n",
       "      <td>Berlin Startup Jobs</td>\n",
       "      <td>[mission, development, scalable, software, pla...</td>\n",
       "    </tr>\n",
       "    <tr>\n",
       "      <th>3</th>\n",
       "      <td>4</td>\n",
       "      <td>Wayfair</td>\n",
       "      <td>2017-10-02</td>\n",
       "      <td>Your tasks:\\n\\nKeyword research and competitor...</td>\n",
       "      <td>Jr. Manager SEO UK (Onpage) (m/f)</td>\n",
       "      <td>Berlin Startup Jobs</td>\n",
       "      <td>[tasks, keyword, research, competitor, analysi...</td>\n",
       "    </tr>\n",
       "    <tr>\n",
       "      <th>4</th>\n",
       "      <td>5</td>\n",
       "      <td>CrossEngage</td>\n",
       "      <td>2017-10-02</td>\n",
       "      <td>About CrossEngage\\nCrossEngage is a cloud-base...</td>\n",
       "      <td>Data Scientist</td>\n",
       "      <td>Berlin Startup Jobs</td>\n",
       "      <td>[crossengage, crossengage, cloud-based, market...</td>\n",
       "    </tr>\n",
       "  </tbody>\n",
       "</table>\n",
       "</div>"
      ],
      "text/plain": [
       "   ID company_name        date  \\\n",
       "0   1       Fatmap  2017-10-02   \n",
       "1   2    AI Engine  2017-10-02   \n",
       "2   3     November  2017-10-02   \n",
       "3   4      Wayfair  2017-10-02   \n",
       "4   5  CrossEngage  2017-10-02   \n",
       "\n",
       "                                         description  \\\n",
       "0  Role & Responsibility: \\n\\nYou’ll be building ...   \n",
       "1  AI Engine is developing innovative machine lea...   \n",
       "2  Your mission:\\n\\nDevelopment of a scalable sof...   \n",
       "3  Your tasks:\\n\\nKeyword research and competitor...   \n",
       "4  About CrossEngage\\nCrossEngage is a cloud-base...   \n",
       "\n",
       "                                       jobtitle               source  \\\n",
       "0  Mobile Engineer for Outdoor Adventure Sports  Berlin Startup Jobs   \n",
       "1                              Machine Learning  Berlin Startup Jobs   \n",
       "2         Senior Full Stack PHP Developer (f/m)  Berlin Startup Jobs   \n",
       "3             Jr. Manager SEO UK (Onpage) (m/f)  Berlin Startup Jobs   \n",
       "4                                Data Scientist  Berlin Startup Jobs   \n",
       "\n",
       "                                       description 2  \n",
       "0  [role, responsibility, building, fatmap, mobil...  \n",
       "1  [ai, engine, developing, innovative, machine, ...  \n",
       "2  [mission, development, scalable, software, pla...  \n",
       "3  [tasks, keyword, research, competitor, analysi...  \n",
       "4  [crossengage, crossengage, cloud-based, market...  "
      ]
     },
     "execution_count": 12,
     "metadata": {},
     "output_type": "execute_result"
    }
   ],
   "source": [
    "raw_data.head()"
   ]
  },
  {
   "cell_type": "markdown",
   "metadata": {},
   "source": [
    "**6. Create clusters**"
   ]
  },
  {
   "cell_type": "code",
   "execution_count": 13,
   "metadata": {
    "collapsed": true
   },
   "outputs": [],
   "source": [
    "#create dictionnaries of keywords and their respective clusters\n",
    "perks_model = perks_rawdata.set_index('value').to_dict()['group']\n",
    "industry_model = industry_rawdata.set_index('value').to_dict()['group']"
   ]
  },
  {
   "cell_type": "markdown",
   "metadata": {},
   "source": [
    "**7. Apply cluster to harmonize**"
   ]
  },
  {
   "cell_type": "code",
   "execution_count": 14,
   "metadata": {
    "collapsed": true
   },
   "outputs": [],
   "source": [
    "perks_tagger = nltk.tag.UnigramTagger(model=perks_model)\n",
    "industry_tagger = nltk.tag.UnigramTagger(model=industry_model)"
   ]
  },
  {
   "cell_type": "code",
   "execution_count": 16,
   "metadata": {},
   "outputs": [],
   "source": [
    "#create new tables with the id and the description 2\n",
    "perks_table = raw_data[['ID','description 2']]\n",
    "industry_table = raw_data[['ID','description 2']]"
   ]
  },
  {
   "cell_type": "code",
   "execution_count": 19,
   "metadata": {
    "collapsed": true
   },
   "outputs": [],
   "source": [
    "#create the tagging fuction \n",
    "\n",
    "def applytagperks(word):\n",
    "    tag= perks_tagger.tag(word)\n",
    "    return tag\n",
    "\n",
    "def applytagindustry(word):\n",
    "    tag= industry_tagger.tag(word)\n",
    "    return tag"
   ]
  },
  {
   "cell_type": "code",
   "execution_count": 20,
   "metadata": {},
   "outputs": [],
   "source": [
    "#apply the tagging fuction\n",
    "perks_table['tags'] = perks_table['description 2'].apply(applytagperks)\n",
    "industry_table['tags'] = industry_table['description 2'].apply(applytagindustry)"
   ]
  },
  {
   "cell_type": "code",
   "execution_count": 21,
   "metadata": {},
   "outputs": [
    {
     "data": {
      "text/html": [
       "<div>\n",
       "<style>\n",
       "    .dataframe thead tr:only-child th {\n",
       "        text-align: right;\n",
       "    }\n",
       "\n",
       "    .dataframe thead th {\n",
       "        text-align: left;\n",
       "    }\n",
       "\n",
       "    .dataframe tbody tr th {\n",
       "        vertical-align: top;\n",
       "    }\n",
       "</style>\n",
       "<table border=\"1\" class=\"dataframe\">\n",
       "  <thead>\n",
       "    <tr style=\"text-align: right;\">\n",
       "      <th></th>\n",
       "      <th>ID</th>\n",
       "      <th>description 2</th>\n",
       "      <th>tags</th>\n",
       "    </tr>\n",
       "  </thead>\n",
       "  <tbody>\n",
       "    <tr>\n",
       "      <th>0</th>\n",
       "      <td>1</td>\n",
       "      <td>[role, responsibility, building, fatmap, mobil...</td>\n",
       "      <td>[(role, None), (responsibility, None), (buildi...</td>\n",
       "    </tr>\n",
       "    <tr>\n",
       "      <th>1</th>\n",
       "      <td>2</td>\n",
       "      <td>[ai, engine, developing, innovative, machine, ...</td>\n",
       "      <td>[(ai, None), (engine, None), (developing, None...</td>\n",
       "    </tr>\n",
       "    <tr>\n",
       "      <th>2</th>\n",
       "      <td>3</td>\n",
       "      <td>[mission, development, scalable, software, pla...</td>\n",
       "      <td>[(mission, None), (development, None), (scalab...</td>\n",
       "    </tr>\n",
       "    <tr>\n",
       "      <th>3</th>\n",
       "      <td>4</td>\n",
       "      <td>[tasks, keyword, research, competitor, analysi...</td>\n",
       "      <td>[(tasks, None), (keyword, None), (research, No...</td>\n",
       "    </tr>\n",
       "    <tr>\n",
       "      <th>4</th>\n",
       "      <td>5</td>\n",
       "      <td>[crossengage, crossengage, cloud-based, market...</td>\n",
       "      <td>[(crossengage, None), (crossengage, None), (cl...</td>\n",
       "    </tr>\n",
       "  </tbody>\n",
       "</table>\n",
       "</div>"
      ],
      "text/plain": [
       "   ID                                      description 2  \\\n",
       "0   1  [role, responsibility, building, fatmap, mobil...   \n",
       "1   2  [ai, engine, developing, innovative, machine, ...   \n",
       "2   3  [mission, development, scalable, software, pla...   \n",
       "3   4  [tasks, keyword, research, competitor, analysi...   \n",
       "4   5  [crossengage, crossengage, cloud-based, market...   \n",
       "\n",
       "                                                tags  \n",
       "0  [(role, None), (responsibility, None), (buildi...  \n",
       "1  [(ai, None), (engine, None), (developing, None...  \n",
       "2  [(mission, None), (development, None), (scalab...  \n",
       "3  [(tasks, None), (keyword, None), (research, No...  \n",
       "4  [(crossengage, None), (crossengage, None), (cl...  "
      ]
     },
     "execution_count": 21,
     "metadata": {},
     "output_type": "execute_result"
    }
   ],
   "source": [
    "perks_table.head()"
   ]
  },
  {
   "cell_type": "markdown",
   "metadata": {},
   "source": [
    "**8. Clean the final tables**"
   ]
  },
  {
   "cell_type": "code",
   "execution_count": 28,
   "metadata": {
    "collapsed": true
   },
   "outputs": [],
   "source": [
    "def create_tables_for_db(input_table):\n",
    "    input_table = input_table.set_index(['ID'])['tags'].apply(pd.Series).stack()\n",
    "    input_table = pd.DataFrame(input_table.reset_index(level=1, drop=True))\n",
    "    input_table.columns = ['combinaisons']\n",
    "    input_table.index.names = ['job_id']\n",
    "    #split tuples into 2 columns\n",
    "    input_table = input_table['combinaisons'].apply(pd.Series)\n",
    "    #rename column\n",
    "    input_table.columns = ['words','input_name']\n",
    "    input_table.dropna(inplace = True)\n",
    "    input_table.reset_index(inplace = True)\n",
    "    #when a job ad muliple keywords leading to the same category we need to avoid repetition\n",
    "    input_table = input_table.drop_duplicates(['job_id','input_name']).set_index('job_id')\n",
    "    output = input_table[['input_name']]\n",
    "    return output"
   ]
  },
  {
   "cell_type": "code",
   "execution_count": 35,
   "metadata": {},
   "outputs": [],
   "source": [
    "perks = create_tables_for_db(perks_table)"
   ]
  },
  {
   "cell_type": "code",
   "execution_count": 36,
   "metadata": {
    "collapsed": true
   },
   "outputs": [],
   "source": [
    "industry = create_tables_for_db(industry_table)"
   ]
  },
  {
   "cell_type": "code",
   "execution_count": 41,
   "metadata": {},
   "outputs": [],
   "source": [
    "perks.columns = ['perk_name']\n",
    "industry.columns = ['industry_name']"
   ]
  },
  {
   "cell_type": "code",
   "execution_count": 42,
   "metadata": {},
   "outputs": [
    {
     "data": {
      "text/html": [
       "<div>\n",
       "<style>\n",
       "    .dataframe thead tr:only-child th {\n",
       "        text-align: right;\n",
       "    }\n",
       "\n",
       "    .dataframe thead th {\n",
       "        text-align: left;\n",
       "    }\n",
       "\n",
       "    .dataframe tbody tr th {\n",
       "        vertical-align: top;\n",
       "    }\n",
       "</style>\n",
       "<table border=\"1\" class=\"dataframe\">\n",
       "  <thead>\n",
       "    <tr style=\"text-align: right;\">\n",
       "      <th></th>\n",
       "      <th>perk_name</th>\n",
       "    </tr>\n",
       "    <tr>\n",
       "      <th>job_id</th>\n",
       "      <th></th>\n",
       "    </tr>\n",
       "  </thead>\n",
       "  <tbody>\n",
       "    <tr>\n",
       "      <th>3</th>\n",
       "      <td>personal development</td>\n",
       "    </tr>\n",
       "    <tr>\n",
       "      <th>3</th>\n",
       "      <td>team events</td>\n",
       "    </tr>\n",
       "    <tr>\n",
       "      <th>3</th>\n",
       "      <td>catered meals</td>\n",
       "    </tr>\n",
       "    <tr>\n",
       "      <th>3</th>\n",
       "      <td>attractive compensation</td>\n",
       "    </tr>\n",
       "    <tr>\n",
       "      <th>4</th>\n",
       "      <td>personal development</td>\n",
       "    </tr>\n",
       "  </tbody>\n",
       "</table>\n",
       "</div>"
      ],
      "text/plain": [
       "                      perk_name\n",
       "job_id                         \n",
       "3          personal development\n",
       "3                   team events\n",
       "3                 catered meals\n",
       "3       attractive compensation\n",
       "4          personal development"
      ]
     },
     "execution_count": 42,
     "metadata": {},
     "output_type": "execute_result"
    }
   ],
   "source": [
    "perks.head()"
   ]
  },
  {
   "cell_type": "code",
   "execution_count": 43,
   "metadata": {},
   "outputs": [
    {
     "data": {
      "text/html": [
       "<div>\n",
       "<style>\n",
       "    .dataframe thead tr:only-child th {\n",
       "        text-align: right;\n",
       "    }\n",
       "\n",
       "    .dataframe thead th {\n",
       "        text-align: left;\n",
       "    }\n",
       "\n",
       "    .dataframe tbody tr th {\n",
       "        vertical-align: top;\n",
       "    }\n",
       "</style>\n",
       "<table border=\"1\" class=\"dataframe\">\n",
       "  <thead>\n",
       "    <tr style=\"text-align: right;\">\n",
       "      <th></th>\n",
       "      <th>industry_name</th>\n",
       "    </tr>\n",
       "    <tr>\n",
       "      <th>job_id</th>\n",
       "      <th></th>\n",
       "    </tr>\n",
       "  </thead>\n",
       "  <tbody>\n",
       "    <tr>\n",
       "      <th>5</th>\n",
       "      <td>marketing solutions</td>\n",
       "    </tr>\n",
       "    <tr>\n",
       "      <th>5</th>\n",
       "      <td>fooddelivery</td>\n",
       "    </tr>\n",
       "    <tr>\n",
       "      <th>15</th>\n",
       "      <td>games</td>\n",
       "    </tr>\n",
       "    <tr>\n",
       "      <th>32</th>\n",
       "      <td>service</td>\n",
       "    </tr>\n",
       "    <tr>\n",
       "      <th>37</th>\n",
       "      <td>fooddelivery</td>\n",
       "    </tr>\n",
       "  </tbody>\n",
       "</table>\n",
       "</div>"
      ],
      "text/plain": [
       "              industry_name\n",
       "job_id                     \n",
       "5       marketing solutions\n",
       "5              fooddelivery\n",
       "15                    games\n",
       "32                  service\n",
       "37             fooddelivery"
      ]
     },
     "execution_count": 43,
     "metadata": {},
     "output_type": "execute_result"
    }
   ],
   "source": [
    "industry.head()"
   ]
  },
  {
   "cell_type": "markdown",
   "metadata": {},
   "source": [
    "**9. Send the tables to the database**"
   ]
  },
  {
   "cell_type": "code",
   "execution_count": 28,
   "metadata": {
    "collapsed": true
   },
   "outputs": [],
   "source": [
    "perks.to_sql('Perks', conn, if_exists='replace')\n",
    "industry.to_sql('Industry', conn, if_exists='replace')"
   ]
  }
 ],
 "metadata": {
  "kernelspec": {
   "display_name": "Python 3",
   "language": "python",
   "name": "python3"
  },
  "language_info": {
   "codemirror_mode": {
    "name": "ipython",
    "version": 3
   },
   "file_extension": ".py",
   "mimetype": "text/x-python",
   "name": "python",
   "nbconvert_exporter": "python",
   "pygments_lexer": "ipython3",
   "version": "3.6.2"
  }
 },
 "nbformat": 4,
 "nbformat_minor": 2
}
